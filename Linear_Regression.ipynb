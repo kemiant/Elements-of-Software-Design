{
  "cells": [
    {
      "cell_type": "markdown",
      "metadata": {
        "id": "view-in-github",
        "colab_type": "text"
      },
      "source": [
        "<a href=\"https://colab.research.google.com/github/kemiant/Elements-of-Software-Design/blob/main/Linear_Regression.ipynb\" target=\"_parent\"><img src=\"https://colab.research.google.com/assets/colab-badge.svg\" alt=\"Open In Colab\"/></a>"
      ]
    },
    {
      "cell_type": "markdown",
      "metadata": {
        "id": "SeXvLc-1BW5y",
        "papermill": {
          "duration": 0.030052,
          "end_time": "2020-11-23T18:37:01.833808",
          "exception": false,
          "start_time": "2020-11-23T18:37:01.803756",
          "status": "completed"
        },
        "tags": []
      },
      "source": [
        "# Linear Regression"
      ]
    },
    {
      "cell_type": "markdown",
      "metadata": {
        "id": "JUPGS__xBW5y",
        "papermill": {
          "duration": 0.029979,
          "end_time": "2020-11-23T18:37:01.894239",
          "exception": false,
          "start_time": "2020-11-23T18:37:01.864260",
          "status": "completed"
        },
        "tags": []
      },
      "source": [
        "In this example we will consider quality of wine based on a variety of other factors.\n",
        "\n",
        "In this notebook, we'll build a linear regression model to predict 'quality' using a variety of predictor variables.\n"
      ]
    },
    {
      "cell_type": "markdown",
      "metadata": {
        "id": "_xhhrRGiBW5y",
        "papermill": {
          "duration": 0.030602,
          "end_time": "2020-11-23T18:37:01.960901",
          "exception": false,
          "start_time": "2020-11-23T18:37:01.930299",
          "status": "completed"
        },
        "tags": []
      },
      "source": [
        "## Understanding the Data"
      ]
    },
    {
      "cell_type": "markdown",
      "metadata": {
        "id": "5Hxz_OnuBW5y",
        "papermill": {
          "duration": 0.030799,
          "end_time": "2020-11-23T18:37:02.022244",
          "exception": false,
          "start_time": "2020-11-23T18:37:01.991445",
          "status": "completed"
        },
        "tags": []
      },
      "source": [
        "As with any data project, let's start with the following steps:\n",
        "\n",
        "1. Importing data using the pandas library\n",
        "2. Understanding the structure of the data"
      ]
    },
    {
      "cell_type": "code",
      "execution_count": null,
      "metadata": {
        "execution": {
          "iopub.execute_input": "2020-11-23T18:37:02.089354Z",
          "iopub.status.busy": "2020-11-23T18:37:02.088248Z",
          "iopub.status.idle": "2020-11-23T18:37:02.091721Z",
          "shell.execute_reply": "2020-11-23T18:37:02.091060Z"
        },
        "id": "4YmE8-RiBW5y",
        "papermill": {
          "duration": 0.038672,
          "end_time": "2020-11-23T18:37:02.091841",
          "exception": false,
          "start_time": "2020-11-23T18:37:02.053169",
          "status": "completed"
        },
        "tags": []
      },
      "outputs": [],
      "source": [
        "import pandas as pd"
      ]
    },
    {
      "cell_type": "code",
      "execution_count": null,
      "metadata": {
        "id": "42IE70ptwuFo",
        "outputId": "3ba11433-f0b6-4ce7-af26-eff4ece248d7"
      },
      "outputs": [
        {
          "data": {
            "text/html": [
              "<div>\n",
              "<style scoped>\n",
              "    .dataframe tbody tr th:only-of-type {\n",
              "        vertical-align: middle;\n",
              "    }\n",
              "\n",
              "    .dataframe tbody tr th {\n",
              "        vertical-align: top;\n",
              "    }\n",
              "\n",
              "    .dataframe thead th {\n",
              "        text-align: right;\n",
              "    }\n",
              "</style>\n",
              "<table border=\"1\" class=\"dataframe\">\n",
              "  <thead>\n",
              "    <tr style=\"text-align: right;\">\n",
              "      <th></th>\n",
              "      <th>fixed acidity</th>\n",
              "      <th>volatile acidity</th>\n",
              "      <th>citric acid</th>\n",
              "      <th>residual sugar</th>\n",
              "      <th>chlorides</th>\n",
              "      <th>free sulfur dioxide</th>\n",
              "      <th>total sulfur dioxide</th>\n",
              "      <th>density</th>\n",
              "      <th>pH</th>\n",
              "      <th>sulphates</th>\n",
              "      <th>alcohol</th>\n",
              "      <th>quality</th>\n",
              "      <th>color</th>\n",
              "    </tr>\n",
              "  </thead>\n",
              "  <tbody>\n",
              "    <tr>\n",
              "      <th>0</th>\n",
              "      <td>7.4</td>\n",
              "      <td>0.70</td>\n",
              "      <td>0.00</td>\n",
              "      <td>1.9</td>\n",
              "      <td>0.076</td>\n",
              "      <td>11.0</td>\n",
              "      <td>34.0</td>\n",
              "      <td>0.9978</td>\n",
              "      <td>3.51</td>\n",
              "      <td>0.56</td>\n",
              "      <td>9.4</td>\n",
              "      <td>5</td>\n",
              "      <td>Red</td>\n",
              "    </tr>\n",
              "    <tr>\n",
              "      <th>1</th>\n",
              "      <td>7.8</td>\n",
              "      <td>0.88</td>\n",
              "      <td>0.00</td>\n",
              "      <td>2.6</td>\n",
              "      <td>0.098</td>\n",
              "      <td>25.0</td>\n",
              "      <td>67.0</td>\n",
              "      <td>0.9968</td>\n",
              "      <td>3.20</td>\n",
              "      <td>0.68</td>\n",
              "      <td>9.8</td>\n",
              "      <td>5</td>\n",
              "      <td>Red</td>\n",
              "    </tr>\n",
              "    <tr>\n",
              "      <th>2</th>\n",
              "      <td>7.8</td>\n",
              "      <td>0.76</td>\n",
              "      <td>0.04</td>\n",
              "      <td>2.3</td>\n",
              "      <td>0.092</td>\n",
              "      <td>15.0</td>\n",
              "      <td>54.0</td>\n",
              "      <td>0.9970</td>\n",
              "      <td>3.26</td>\n",
              "      <td>0.65</td>\n",
              "      <td>9.8</td>\n",
              "      <td>5</td>\n",
              "      <td>Red</td>\n",
              "    </tr>\n",
              "    <tr>\n",
              "      <th>3</th>\n",
              "      <td>11.2</td>\n",
              "      <td>0.28</td>\n",
              "      <td>0.56</td>\n",
              "      <td>1.9</td>\n",
              "      <td>0.075</td>\n",
              "      <td>17.0</td>\n",
              "      <td>60.0</td>\n",
              "      <td>0.9980</td>\n",
              "      <td>3.16</td>\n",
              "      <td>0.58</td>\n",
              "      <td>9.8</td>\n",
              "      <td>6</td>\n",
              "      <td>Red</td>\n",
              "    </tr>\n",
              "    <tr>\n",
              "      <th>4</th>\n",
              "      <td>7.4</td>\n",
              "      <td>0.70</td>\n",
              "      <td>0.00</td>\n",
              "      <td>1.9</td>\n",
              "      <td>0.076</td>\n",
              "      <td>11.0</td>\n",
              "      <td>34.0</td>\n",
              "      <td>0.9978</td>\n",
              "      <td>3.51</td>\n",
              "      <td>0.56</td>\n",
              "      <td>9.4</td>\n",
              "      <td>5</td>\n",
              "      <td>Red</td>\n",
              "    </tr>\n",
              "  </tbody>\n",
              "</table>\n",
              "</div>"
            ],
            "text/plain": [
              "   fixed acidity  volatile acidity  citric acid  residual sugar  chlorides  \\\n",
              "0            7.4              0.70         0.00             1.9      0.076   \n",
              "1            7.8              0.88         0.00             2.6      0.098   \n",
              "2            7.8              0.76         0.04             2.3      0.092   \n",
              "3           11.2              0.28         0.56             1.9      0.075   \n",
              "4            7.4              0.70         0.00             1.9      0.076   \n",
              "\n",
              "   free sulfur dioxide  total sulfur dioxide  density    pH  sulphates  \\\n",
              "0                 11.0                  34.0   0.9978  3.51       0.56   \n",
              "1                 25.0                  67.0   0.9968  3.20       0.68   \n",
              "2                 15.0                  54.0   0.9970  3.26       0.65   \n",
              "3                 17.0                  60.0   0.9980  3.16       0.58   \n",
              "4                 11.0                  34.0   0.9978  3.51       0.56   \n",
              "\n",
              "   alcohol  quality color  \n",
              "0      9.4        5   Red  \n",
              "1      9.8        5   Red  \n",
              "2      9.8        5   Red  \n",
              "3      9.8        6   Red  \n",
              "4      9.4        5   Red  "
            ]
          },
          "execution_count": 196,
          "metadata": {},
          "output_type": "execute_result"
        }
      ],
      "source": [
        "# import data set of red wines and set the 'color' column to be red\n",
        "red = pd.read_csv('winequality-red.csv', sep = \";\")\n",
        "red['color'] = 'Red'\n",
        "\n",
        "# import data set of white wines and set the 'color' column to be white\n",
        "white = pd.read_csv('winequality-white.csv', sep = \";\")\n",
        "white['color'] = 'White'\n",
        "\n",
        "# combine the dataframes and take a look\n",
        "df = pd.concat([red, white])\n",
        "df.iloc[:5]"
      ]
    },
    {
      "cell_type": "code",
      "execution_count": null,
      "metadata": {
        "colab": {
          "base_uri": "https://localhost:8080/"
        },
        "execution": {
          "iopub.execute_input": "2020-11-23T18:37:02.471046Z",
          "iopub.status.busy": "2020-11-23T18:37:02.470138Z",
          "iopub.status.idle": "2020-11-23T18:37:02.473682Z",
          "shell.execute_reply": "2020-11-23T18:37:02.474278Z"
        },
        "id": "HQDqzhdKBW51",
        "outputId": "2b34e3a6-d82b-4dd7-9fac-0e3f2b911d80",
        "papermill": {
          "duration": 0.049095,
          "end_time": "2020-11-23T18:37:02.474493",
          "exception": false,
          "start_time": "2020-11-23T18:37:02.425398",
          "status": "completed"
        },
        "tags": []
      },
      "outputs": [
        {
          "name": "stdout",
          "output_type": "stream",
          "text": [
            "<class 'pandas.core.frame.DataFrame'>\n",
            "Index: 6497 entries, 0 to 4897\n",
            "Data columns (total 13 columns):\n",
            " #   Column                Non-Null Count  Dtype  \n",
            "---  ------                --------------  -----  \n",
            " 0   fixed acidity         6497 non-null   float64\n",
            " 1   volatile acidity      6497 non-null   float64\n",
            " 2   citric acid           6497 non-null   float64\n",
            " 3   residual sugar        6497 non-null   float64\n",
            " 4   chlorides             6497 non-null   float64\n",
            " 5   free sulfur dioxide   6497 non-null   float64\n",
            " 6   total sulfur dioxide  6497 non-null   float64\n",
            " 7   density               6497 non-null   float64\n",
            " 8   pH                    6497 non-null   float64\n",
            " 9   sulphates             6497 non-null   float64\n",
            " 10  alcohol               6497 non-null   float64\n",
            " 11  quality               6497 non-null   int64  \n",
            " 12  color                 6497 non-null   object \n",
            "dtypes: float64(11), int64(1), object(1)\n",
            "memory usage: 710.6+ KB\n"
          ]
        }
      ],
      "source": [
        "# let's check the columns\n",
        "df.info()"
      ]
    },
    {
      "cell_type": "code",
      "execution_count": null,
      "metadata": {
        "colab": {
          "base_uri": "https://localhost:8080/"
        },
        "execution": {
          "iopub.execute_input": "2020-11-23T18:37:02.546376Z",
          "iopub.status.busy": "2020-11-23T18:37:02.545284Z",
          "iopub.status.idle": "2020-11-23T18:37:02.548798Z",
          "shell.execute_reply": "2020-11-23T18:37:02.549364Z"
        },
        "id": "1fOGVz61BW51",
        "outputId": "056d75ab-f01b-4148-b1cf-775942f83eca",
        "papermill": {
          "duration": 0.041629,
          "end_time": "2020-11-23T18:37:02.549519",
          "exception": false,
          "start_time": "2020-11-23T18:37:02.507890",
          "status": "completed"
        },
        "tags": []
      },
      "outputs": [
        {
          "data": {
            "text/plain": [
              "(6497, 13)"
            ]
          },
          "execution_count": 198,
          "metadata": {},
          "output_type": "execute_result"
        }
      ],
      "source": [
        "# check the shape of the dataframe (rows, columns)\n",
        "df.shape"
      ]
    },
    {
      "cell_type": "code",
      "execution_count": null,
      "metadata": {
        "colab": {
          "base_uri": "https://localhost:8080/",
          "height": 300
        },
        "execution": {
          "iopub.execute_input": "2020-11-23T18:37:02.624145Z",
          "iopub.status.busy": "2020-11-23T18:37:02.623443Z",
          "iopub.status.idle": "2020-11-23T18:37:02.638999Z",
          "shell.execute_reply": "2020-11-23T18:37:02.638250Z"
        },
        "id": "VO4GoVyfBW51",
        "outputId": "b26d9f56-8e70-4b2b-e8c8-0f20c8006af5",
        "papermill": {
          "duration": 0.056228,
          "end_time": "2020-11-23T18:37:02.639121",
          "exception": false,
          "start_time": "2020-11-23T18:37:02.582893",
          "status": "completed"
        },
        "tags": []
      },
      "outputs": [
        {
          "data": {
            "text/html": [
              "<div>\n",
              "<style scoped>\n",
              "    .dataframe tbody tr th:only-of-type {\n",
              "        vertical-align: middle;\n",
              "    }\n",
              "\n",
              "    .dataframe tbody tr th {\n",
              "        vertical-align: top;\n",
              "    }\n",
              "\n",
              "    .dataframe thead th {\n",
              "        text-align: right;\n",
              "    }\n",
              "</style>\n",
              "<table border=\"1\" class=\"dataframe\">\n",
              "  <thead>\n",
              "    <tr style=\"text-align: right;\">\n",
              "      <th></th>\n",
              "      <th>fixed acidity</th>\n",
              "      <th>volatile acidity</th>\n",
              "      <th>citric acid</th>\n",
              "      <th>residual sugar</th>\n",
              "      <th>chlorides</th>\n",
              "      <th>free sulfur dioxide</th>\n",
              "      <th>total sulfur dioxide</th>\n",
              "      <th>density</th>\n",
              "      <th>pH</th>\n",
              "      <th>sulphates</th>\n",
              "      <th>alcohol</th>\n",
              "      <th>quality</th>\n",
              "    </tr>\n",
              "  </thead>\n",
              "  <tbody>\n",
              "    <tr>\n",
              "      <th>count</th>\n",
              "      <td>6497.000000</td>\n",
              "      <td>6497.000000</td>\n",
              "      <td>6497.000000</td>\n",
              "      <td>6497.000000</td>\n",
              "      <td>6497.000000</td>\n",
              "      <td>6497.000000</td>\n",
              "      <td>6497.000000</td>\n",
              "      <td>6497.000000</td>\n",
              "      <td>6497.000000</td>\n",
              "      <td>6497.000000</td>\n",
              "      <td>6497.000000</td>\n",
              "      <td>6497.000000</td>\n",
              "    </tr>\n",
              "    <tr>\n",
              "      <th>mean</th>\n",
              "      <td>7.215307</td>\n",
              "      <td>0.339666</td>\n",
              "      <td>0.318633</td>\n",
              "      <td>5.443235</td>\n",
              "      <td>0.056034</td>\n",
              "      <td>30.525319</td>\n",
              "      <td>115.744574</td>\n",
              "      <td>0.994697</td>\n",
              "      <td>3.218501</td>\n",
              "      <td>0.531268</td>\n",
              "      <td>10.491801</td>\n",
              "      <td>5.818378</td>\n",
              "    </tr>\n",
              "    <tr>\n",
              "      <th>std</th>\n",
              "      <td>1.296434</td>\n",
              "      <td>0.164636</td>\n",
              "      <td>0.145318</td>\n",
              "      <td>4.757804</td>\n",
              "      <td>0.035034</td>\n",
              "      <td>17.749400</td>\n",
              "      <td>56.521855</td>\n",
              "      <td>0.002999</td>\n",
              "      <td>0.160787</td>\n",
              "      <td>0.148806</td>\n",
              "      <td>1.192712</td>\n",
              "      <td>0.873255</td>\n",
              "    </tr>\n",
              "    <tr>\n",
              "      <th>min</th>\n",
              "      <td>3.800000</td>\n",
              "      <td>0.080000</td>\n",
              "      <td>0.000000</td>\n",
              "      <td>0.600000</td>\n",
              "      <td>0.009000</td>\n",
              "      <td>1.000000</td>\n",
              "      <td>6.000000</td>\n",
              "      <td>0.987110</td>\n",
              "      <td>2.720000</td>\n",
              "      <td>0.220000</td>\n",
              "      <td>8.000000</td>\n",
              "      <td>3.000000</td>\n",
              "    </tr>\n",
              "    <tr>\n",
              "      <th>25%</th>\n",
              "      <td>6.400000</td>\n",
              "      <td>0.230000</td>\n",
              "      <td>0.250000</td>\n",
              "      <td>1.800000</td>\n",
              "      <td>0.038000</td>\n",
              "      <td>17.000000</td>\n",
              "      <td>77.000000</td>\n",
              "      <td>0.992340</td>\n",
              "      <td>3.110000</td>\n",
              "      <td>0.430000</td>\n",
              "      <td>9.500000</td>\n",
              "      <td>5.000000</td>\n",
              "    </tr>\n",
              "    <tr>\n",
              "      <th>50%</th>\n",
              "      <td>7.000000</td>\n",
              "      <td>0.290000</td>\n",
              "      <td>0.310000</td>\n",
              "      <td>3.000000</td>\n",
              "      <td>0.047000</td>\n",
              "      <td>29.000000</td>\n",
              "      <td>118.000000</td>\n",
              "      <td>0.994890</td>\n",
              "      <td>3.210000</td>\n",
              "      <td>0.510000</td>\n",
              "      <td>10.300000</td>\n",
              "      <td>6.000000</td>\n",
              "    </tr>\n",
              "    <tr>\n",
              "      <th>75%</th>\n",
              "      <td>7.700000</td>\n",
              "      <td>0.400000</td>\n",
              "      <td>0.390000</td>\n",
              "      <td>8.100000</td>\n",
              "      <td>0.065000</td>\n",
              "      <td>41.000000</td>\n",
              "      <td>156.000000</td>\n",
              "      <td>0.996990</td>\n",
              "      <td>3.320000</td>\n",
              "      <td>0.600000</td>\n",
              "      <td>11.300000</td>\n",
              "      <td>6.000000</td>\n",
              "    </tr>\n",
              "    <tr>\n",
              "      <th>max</th>\n",
              "      <td>15.900000</td>\n",
              "      <td>1.580000</td>\n",
              "      <td>1.660000</td>\n",
              "      <td>65.800000</td>\n",
              "      <td>0.611000</td>\n",
              "      <td>289.000000</td>\n",
              "      <td>440.000000</td>\n",
              "      <td>1.038980</td>\n",
              "      <td>4.010000</td>\n",
              "      <td>2.000000</td>\n",
              "      <td>14.900000</td>\n",
              "      <td>9.000000</td>\n",
              "    </tr>\n",
              "  </tbody>\n",
              "</table>\n",
              "</div>"
            ],
            "text/plain": [
              "       fixed acidity  volatile acidity  citric acid  residual sugar  \\\n",
              "count    6497.000000       6497.000000  6497.000000     6497.000000   \n",
              "mean        7.215307          0.339666     0.318633        5.443235   \n",
              "std         1.296434          0.164636     0.145318        4.757804   \n",
              "min         3.800000          0.080000     0.000000        0.600000   \n",
              "25%         6.400000          0.230000     0.250000        1.800000   \n",
              "50%         7.000000          0.290000     0.310000        3.000000   \n",
              "75%         7.700000          0.400000     0.390000        8.100000   \n",
              "max        15.900000          1.580000     1.660000       65.800000   \n",
              "\n",
              "         chlorides  free sulfur dioxide  total sulfur dioxide      density  \\\n",
              "count  6497.000000          6497.000000           6497.000000  6497.000000   \n",
              "mean      0.056034            30.525319            115.744574     0.994697   \n",
              "std       0.035034            17.749400             56.521855     0.002999   \n",
              "min       0.009000             1.000000              6.000000     0.987110   \n",
              "25%       0.038000            17.000000             77.000000     0.992340   \n",
              "50%       0.047000            29.000000            118.000000     0.994890   \n",
              "75%       0.065000            41.000000            156.000000     0.996990   \n",
              "max       0.611000           289.000000            440.000000     1.038980   \n",
              "\n",
              "                pH    sulphates      alcohol      quality  \n",
              "count  6497.000000  6497.000000  6497.000000  6497.000000  \n",
              "mean      3.218501     0.531268    10.491801     5.818378  \n",
              "std       0.160787     0.148806     1.192712     0.873255  \n",
              "min       2.720000     0.220000     8.000000     3.000000  \n",
              "25%       3.110000     0.430000     9.500000     5.000000  \n",
              "50%       3.210000     0.510000    10.300000     6.000000  \n",
              "75%       3.320000     0.600000    11.300000     6.000000  \n",
              "max       4.010000     2.000000    14.900000     9.000000  "
            ]
          },
          "execution_count": 199,
          "metadata": {},
          "output_type": "execute_result"
        }
      ],
      "source": [
        "# let's look at some statistical information about the dataframe\n",
        "df.describe()"
      ]
    },
    {
      "cell_type": "markdown",
      "metadata": {
        "id": "4tkuFialBW52",
        "papermill": {
          "duration": 0.034134,
          "end_time": "2020-11-23T18:37:02.708167",
          "exception": false,
          "start_time": "2020-11-23T18:37:02.674033",
          "status": "completed"
        },
        "tags": []
      },
      "source": [
        "# Visualising Data Using Plot"
      ]
    },
    {
      "cell_type": "code",
      "execution_count": null,
      "metadata": {
        "id": "NihspVCtwuFr"
      },
      "outputs": [],
      "source": [
        "#pip install matplotlib"
      ]
    },
    {
      "cell_type": "code",
      "execution_count": null,
      "metadata": {
        "id": "chO1uEPnwuFr"
      },
      "outputs": [],
      "source": [
        "import matplotlib.pyplot as plt"
      ]
    },
    {
      "cell_type": "code",
      "execution_count": null,
      "metadata": {
        "colab": {
          "base_uri": "https://localhost:8080/",
          "height": 467
        },
        "execution": {
          "iopub.execute_input": "2020-11-23T18:37:02.782408Z",
          "iopub.status.busy": "2020-11-23T18:37:02.781684Z",
          "iopub.status.idle": "2020-11-23T18:37:03.071864Z",
          "shell.execute_reply": "2020-11-23T18:37:03.071234Z"
        },
        "id": "3mEiKmvYCk8S",
        "outputId": "ad92438e-c64a-4aac-9198-9c47b088fc74",
        "papermill": {
          "duration": 0.329212,
          "end_time": "2020-11-23T18:37:03.071980",
          "exception": false,
          "start_time": "2020-11-23T18:37:02.742768",
          "status": "completed"
        },
        "tags": []
      },
      "outputs": [
        {
          "data": {
            "text/plain": [
              "<Axes: title={'center': 'alcohol'}, xlabel='quality'>"
            ]
          },
          "execution_count": 202,
          "metadata": {},
          "output_type": "execute_result"
        },
        {
          "data": {
            "image/png": "[encoded data removed]",
            "text/plain": [
              "<Figure size 640x480 with 1 Axes>"
            ]
          },
          "metadata": {},
          "output_type": "display_data"
        }
      ],
      "source": [
        "# visualise the relationship between the features and the response using scatterplots\n",
        "\n",
        "df.boxplot('alcohol', by = 'quality')"
      ]
    },
    {
      "cell_type": "markdown",
      "metadata": {
        "id": "4jL7i8ZHwuFr"
      },
      "source": [
        "## Practice Problem"
      ]
    },
    {
      "cell_type": "markdown",
      "metadata": {
        "id": "uifnKj7vwuFr"
      },
      "source": [
        "Create a new visualisation using one or more variables from this dataset, and write one takeaway you learned from your visualisation.\n",
        "\n",
        "Use the python file from last week, online documentation, ChatGPT, or any other helpful resources!"
      ]
    },
    {
      "cell_type": "code",
      "execution_count": null,
      "metadata": {
        "id": "BKIkJDNiwuFs"
      },
      "outputs": [],
      "source": [
        "# Answer here:\n"
      ]
    },
    {
      "cell_type": "markdown",
      "metadata": {
        "id": "54eMqRWoBW52",
        "papermill": {
          "duration": 0.035616,
          "end_time": "2020-11-23T18:37:03.143525",
          "exception": false,
          "start_time": "2020-11-23T18:37:03.107909",
          "status": "completed"
        },
        "tags": []
      },
      "source": [
        "# Performing Linear Regression"
      ]
    },
    {
      "cell_type": "markdown",
      "metadata": {
        "id": "R8O25fC6BW52",
        "papermill": {
          "duration": 0.035901,
          "end_time": "2020-11-23T18:37:03.215830",
          "exception": false,
          "start_time": "2020-11-23T18:37:03.179929",
          "status": "completed"
        },
        "tags": []
      },
      "source": [
        "Equation of linear regression<br>\n",
        "$y = b + m_1x_1 + m_2x_2 + ... + m_nx_n$\n",
        "\n",
        "-  $y$ is the response\n",
        "-  $b$ is the intercept\n",
        "-  $m_1$ is the coefficient for the first feature\n",
        "-  $m_n$ is the coefficient for the nth feature<br>\n",
        "\n",
        "The $m$ values are called the model **coefficients** or **model parameters**."
      ]
    },
    {
      "cell_type": "markdown",
      "metadata": {
        "id": "SdKPVlotBW52",
        "papermill": {
          "duration": 0.035323,
          "end_time": "2020-11-23T18:37:03.287111",
          "exception": false,
          "start_time": "2020-11-23T18:37:03.251788",
          "status": "completed"
        },
        "tags": []
      },
      "source": [
        "### Generic Steps in Model Building using ```sklearn```\n",
        "\n",
        "Before you read further, it is good to understand the generic structure of modeling using the scikit-learn library. Broadly, the steps to build any model can be divided as follows:"
      ]
    },
    {
      "cell_type": "markdown",
      "metadata": {
        "id": "d1lBYpaBwuFs"
      },
      "source": [
        "## Encoding Dummy Variables"
      ]
    },
    {
      "cell_type": "markdown",
      "metadata": {
        "id": "eyQsxcDvwuFs"
      },
      "source": [
        "Dummy variables are a way to convert categorical data into a numerical format, which is essential for many machine learning algorithms. These algorithms generally can’t handle categories like \"red,\" \"blue,\" or \"green\" directly, so dummy variables come to the rescue! They create binary columns (0s and 1s) for each category, making the data model-friendly.\n",
        "\n",
        "Dummy variables are key because they allow categorical data to play nicely with algorithms that expect numbers (e.g., regression models). Without them, we’d be leaving a lot of useful data behind!\n",
        "\n",
        "In Python, you can easily generate dummy variables using `pandas`. In this particular case, we only have one categorical variable (color) and it's binary (red or white). For binary variables, we can simply change the categories within the column to 1 and 0 or True and False. But for the sake of showing the process when there are categorical variables with 3+ categories, we'll encode color as a dummy variable.\n",
        "\n",
        "Here's how:"
      ]
    },
    {
      "cell_type": "code",
      "execution_count": null,
      "metadata": {
        "id": "Vrj0nm3owuFs",
        "outputId": "fd16ec33-f4c7-4a41-f0b2-fefeaa2d93c6"
      },
      "outputs": [
        {
          "data": {
            "text/html": [
              "<div>\n",
              "<style scoped>\n",
              "    .dataframe tbody tr th:only-of-type {\n",
              "        vertical-align: middle;\n",
              "    }\n",
              "\n",
              "    .dataframe tbody tr th {\n",
              "        vertical-align: top;\n",
              "    }\n",
              "\n",
              "    .dataframe thead th {\n",
              "        text-align: right;\n",
              "    }\n",
              "</style>\n",
              "<table border=\"1\" class=\"dataframe\">\n",
              "  <thead>\n",
              "    <tr style=\"text-align: right;\">\n",
              "      <th></th>\n",
              "      <th>fixed acidity</th>\n",
              "      <th>volatile acidity</th>\n",
              "      <th>citric acid</th>\n",
              "      <th>residual sugar</th>\n",
              "      <th>chlorides</th>\n",
              "      <th>free sulfur dioxide</th>\n",
              "      <th>total sulfur dioxide</th>\n",
              "      <th>density</th>\n",
              "      <th>pH</th>\n",
              "      <th>sulphates</th>\n",
              "      <th>alcohol</th>\n",
              "      <th>quality</th>\n",
              "      <th>color_Red</th>\n",
              "      <th>color_White</th>\n",
              "    </tr>\n",
              "  </thead>\n",
              "  <tbody>\n",
              "    <tr>\n",
              "      <th>0</th>\n",
              "      <td>7.4</td>\n",
              "      <td>0.70</td>\n",
              "      <td>0.00</td>\n",
              "      <td>1.9</td>\n",
              "      <td>0.076</td>\n",
              "      <td>11.0</td>\n",
              "      <td>34.0</td>\n",
              "      <td>0.9978</td>\n",
              "      <td>3.51</td>\n",
              "      <td>0.56</td>\n",
              "      <td>9.4</td>\n",
              "      <td>5</td>\n",
              "      <td>True</td>\n",
              "      <td>False</td>\n",
              "    </tr>\n",
              "    <tr>\n",
              "      <th>1</th>\n",
              "      <td>7.8</td>\n",
              "      <td>0.88</td>\n",
              "      <td>0.00</td>\n",
              "      <td>2.6</td>\n",
              "      <td>0.098</td>\n",
              "      <td>25.0</td>\n",
              "      <td>67.0</td>\n",
              "      <td>0.9968</td>\n",
              "      <td>3.20</td>\n",
              "      <td>0.68</td>\n",
              "      <td>9.8</td>\n",
              "      <td>5</td>\n",
              "      <td>True</td>\n",
              "      <td>False</td>\n",
              "    </tr>\n",
              "    <tr>\n",
              "      <th>2</th>\n",
              "      <td>7.8</td>\n",
              "      <td>0.76</td>\n",
              "      <td>0.04</td>\n",
              "      <td>2.3</td>\n",
              "      <td>0.092</td>\n",
              "      <td>15.0</td>\n",
              "      <td>54.0</td>\n",
              "      <td>0.9970</td>\n",
              "      <td>3.26</td>\n",
              "      <td>0.65</td>\n",
              "      <td>9.8</td>\n",
              "      <td>5</td>\n",
              "      <td>True</td>\n",
              "      <td>False</td>\n",
              "    </tr>\n",
              "    <tr>\n",
              "      <th>3</th>\n",
              "      <td>11.2</td>\n",
              "      <td>0.28</td>\n",
              "      <td>0.56</td>\n",
              "      <td>1.9</td>\n",
              "      <td>0.075</td>\n",
              "      <td>17.0</td>\n",
              "      <td>60.0</td>\n",
              "      <td>0.9980</td>\n",
              "      <td>3.16</td>\n",
              "      <td>0.58</td>\n",
              "      <td>9.8</td>\n",
              "      <td>6</td>\n",
              "      <td>True</td>\n",
              "      <td>False</td>\n",
              "    </tr>\n",
              "    <tr>\n",
              "      <th>4</th>\n",
              "      <td>7.4</td>\n",
              "      <td>0.70</td>\n",
              "      <td>0.00</td>\n",
              "      <td>1.9</td>\n",
              "      <td>0.076</td>\n",
              "      <td>11.0</td>\n",
              "      <td>34.0</td>\n",
              "      <td>0.9978</td>\n",
              "      <td>3.51</td>\n",
              "      <td>0.56</td>\n",
              "      <td>9.4</td>\n",
              "      <td>5</td>\n",
              "      <td>True</td>\n",
              "      <td>False</td>\n",
              "    </tr>\n",
              "  </tbody>\n",
              "</table>\n",
              "</div>"
            ],
            "text/plain": [
              "   fixed acidity  volatile acidity  citric acid  residual sugar  chlorides  \\\n",
              "0            7.4              0.70         0.00             1.9      0.076   \n",
              "1            7.8              0.88         0.00             2.6      0.098   \n",
              "2            7.8              0.76         0.04             2.3      0.092   \n",
              "3           11.2              0.28         0.56             1.9      0.075   \n",
              "4            7.4              0.70         0.00             1.9      0.076   \n",
              "\n",
              "   free sulfur dioxide  total sulfur dioxide  density    pH  sulphates  \\\n",
              "0                 11.0                  34.0   0.9978  3.51       0.56   \n",
              "1                 25.0                  67.0   0.9968  3.20       0.68   \n",
              "2                 15.0                  54.0   0.9970  3.26       0.65   \n",
              "3                 17.0                  60.0   0.9980  3.16       0.58   \n",
              "4                 11.0                  34.0   0.9978  3.51       0.56   \n",
              "\n",
              "   alcohol  quality  color_Red  color_White  \n",
              "0      9.4        5       True        False  \n",
              "1      9.8        5       True        False  \n",
              "2      9.8        5       True        False  \n",
              "3      9.8        6       True        False  \n",
              "4      9.4        5       True        False  "
            ]
          },
          "execution_count": 203,
          "metadata": {},
          "output_type": "execute_result"
        }
      ],
      "source": [
        "df = pd.get_dummies(df, columns=['color'])\n",
        "df.iloc[:5]"
      ]
    },
    {
      "cell_type": "markdown",
      "metadata": {
        "id": "wDAHv3cewuFt"
      },
      "source": [
        "Because color is only a binary category, the second column is redundant. So let's drop it to create our final dataframe."
      ]
    },
    {
      "cell_type": "code",
      "execution_count": null,
      "metadata": {
        "id": "7v2AXWipwuFu",
        "outputId": "252a3c94-ece7-48d2-992a-df60d14526ea"
      },
      "outputs": [
        {
          "data": {
            "text/html": [
              "<div>\n",
              "<style scoped>\n",
              "    .dataframe tbody tr th:only-of-type {\n",
              "        vertical-align: middle;\n",
              "    }\n",
              "\n",
              "    .dataframe tbody tr th {\n",
              "        vertical-align: top;\n",
              "    }\n",
              "\n",
              "    .dataframe thead th {\n",
              "        text-align: right;\n",
              "    }\n",
              "</style>\n",
              "<table border=\"1\" class=\"dataframe\">\n",
              "  <thead>\n",
              "    <tr style=\"text-align: right;\">\n",
              "      <th></th>\n",
              "      <th>fixed acidity</th>\n",
              "      <th>volatile acidity</th>\n",
              "      <th>citric acid</th>\n",
              "      <th>residual sugar</th>\n",
              "      <th>chlorides</th>\n",
              "      <th>free sulfur dioxide</th>\n",
              "      <th>total sulfur dioxide</th>\n",
              "      <th>density</th>\n",
              "      <th>pH</th>\n",
              "      <th>sulphates</th>\n",
              "      <th>alcohol</th>\n",
              "      <th>quality</th>\n",
              "      <th>color_Red</th>\n",
              "    </tr>\n",
              "  </thead>\n",
              "  <tbody>\n",
              "    <tr>\n",
              "      <th>0</th>\n",
              "      <td>7.4</td>\n",
              "      <td>0.70</td>\n",
              "      <td>0.00</td>\n",
              "      <td>1.9</td>\n",
              "      <td>0.076</td>\n",
              "      <td>11.0</td>\n",
              "      <td>34.0</td>\n",
              "      <td>0.9978</td>\n",
              "      <td>3.51</td>\n",
              "      <td>0.56</td>\n",
              "      <td>9.4</td>\n",
              "      <td>5</td>\n",
              "      <td>True</td>\n",
              "    </tr>\n",
              "    <tr>\n",
              "      <th>1</th>\n",
              "      <td>7.8</td>\n",
              "      <td>0.88</td>\n",
              "      <td>0.00</td>\n",
              "      <td>2.6</td>\n",
              "      <td>0.098</td>\n",
              "      <td>25.0</td>\n",
              "      <td>67.0</td>\n",
              "      <td>0.9968</td>\n",
              "      <td>3.20</td>\n",
              "      <td>0.68</td>\n",
              "      <td>9.8</td>\n",
              "      <td>5</td>\n",
              "      <td>True</td>\n",
              "    </tr>\n",
              "    <tr>\n",
              "      <th>2</th>\n",
              "      <td>7.8</td>\n",
              "      <td>0.76</td>\n",
              "      <td>0.04</td>\n",
              "      <td>2.3</td>\n",
              "      <td>0.092</td>\n",
              "      <td>15.0</td>\n",
              "      <td>54.0</td>\n",
              "      <td>0.9970</td>\n",
              "      <td>3.26</td>\n",
              "      <td>0.65</td>\n",
              "      <td>9.8</td>\n",
              "      <td>5</td>\n",
              "      <td>True</td>\n",
              "    </tr>\n",
              "    <tr>\n",
              "      <th>3</th>\n",
              "      <td>11.2</td>\n",
              "      <td>0.28</td>\n",
              "      <td>0.56</td>\n",
              "      <td>1.9</td>\n",
              "      <td>0.075</td>\n",
              "      <td>17.0</td>\n",
              "      <td>60.0</td>\n",
              "      <td>0.9980</td>\n",
              "      <td>3.16</td>\n",
              "      <td>0.58</td>\n",
              "      <td>9.8</td>\n",
              "      <td>6</td>\n",
              "      <td>True</td>\n",
              "    </tr>\n",
              "    <tr>\n",
              "      <th>4</th>\n",
              "      <td>7.4</td>\n",
              "      <td>0.70</td>\n",
              "      <td>0.00</td>\n",
              "      <td>1.9</td>\n",
              "      <td>0.076</td>\n",
              "      <td>11.0</td>\n",
              "      <td>34.0</td>\n",
              "      <td>0.9978</td>\n",
              "      <td>3.51</td>\n",
              "      <td>0.56</td>\n",
              "      <td>9.4</td>\n",
              "      <td>5</td>\n",
              "      <td>True</td>\n",
              "    </tr>\n",
              "  </tbody>\n",
              "</table>\n",
              "</div>"
            ],
            "text/plain": [
              "   fixed acidity  volatile acidity  citric acid  residual sugar  chlorides  \\\n",
              "0            7.4              0.70         0.00             1.9      0.076   \n",
              "1            7.8              0.88         0.00             2.6      0.098   \n",
              "2            7.8              0.76         0.04             2.3      0.092   \n",
              "3           11.2              0.28         0.56             1.9      0.075   \n",
              "4            7.4              0.70         0.00             1.9      0.076   \n",
              "\n",
              "   free sulfur dioxide  total sulfur dioxide  density    pH  sulphates  \\\n",
              "0                 11.0                  34.0   0.9978  3.51       0.56   \n",
              "1                 25.0                  67.0   0.9968  3.20       0.68   \n",
              "2                 15.0                  54.0   0.9970  3.26       0.65   \n",
              "3                 17.0                  60.0   0.9980  3.16       0.58   \n",
              "4                 11.0                  34.0   0.9978  3.51       0.56   \n",
              "\n",
              "   alcohol  quality  color_Red  \n",
              "0      9.4        5       True  \n",
              "1      9.8        5       True  \n",
              "2      9.8        5       True  \n",
              "3      9.8        6       True  \n",
              "4      9.4        5       True  "
            ]
          },
          "execution_count": 204,
          "metadata": {},
          "output_type": "execute_result"
        }
      ],
      "source": [
        "df.drop(columns = ['color_White'], inplace = True)\n",
        "df.iloc[:5]"
      ]
    },
    {
      "cell_type": "markdown",
      "metadata": {
        "id": "GaxpcxRABW52",
        "papermill": {
          "duration": 0.035611,
          "end_time": "2020-11-23T18:37:03.358264",
          "exception": false,
          "start_time": "2020-11-23T18:37:03.322653",
          "status": "completed"
        },
        "tags": []
      },
      "source": [
        "## Preparing X and y\n",
        "\n",
        "-  The scikit-learn library expects X (feature variable) and y (response variable) to be NumPy arrays.\n",
        "-  However, X can be a dataframe as Pandas is built over NumPy."
      ]
    },
    {
      "cell_type": "code",
      "execution_count": null,
      "metadata": {
        "colab": {
          "base_uri": "https://localhost:8080/"
        },
        "execution": {
          "iopub.execute_input": "2020-11-23T18:37:03.437045Z",
          "iopub.status.busy": "2020-11-23T18:37:03.436008Z",
          "iopub.status.idle": "2020-11-23T18:37:03.440751Z",
          "shell.execute_reply": "2020-11-23T18:37:03.440019Z"
        },
        "id": "0ySJx_RkBW52",
        "outputId": "7641ecbe-e726-4e2f-cccd-46d8080a12ee",
        "papermill": {
          "duration": 0.046913,
          "end_time": "2020-11-23T18:37:03.440870",
          "exception": false,
          "start_time": "2020-11-23T18:37:03.393957",
          "status": "completed"
        },
        "tags": []
      },
      "outputs": [
        {
          "data": {
            "text/html": [
              "<div>\n",
              "<style scoped>\n",
              "    .dataframe tbody tr th:only-of-type {\n",
              "        vertical-align: middle;\n",
              "    }\n",
              "\n",
              "    .dataframe tbody tr th {\n",
              "        vertical-align: top;\n",
              "    }\n",
              "\n",
              "    .dataframe thead th {\n",
              "        text-align: right;\n",
              "    }\n",
              "</style>\n",
              "<table border=\"1\" class=\"dataframe\">\n",
              "  <thead>\n",
              "    <tr style=\"text-align: right;\">\n",
              "      <th></th>\n",
              "      <th>fixed acidity</th>\n",
              "      <th>volatile acidity</th>\n",
              "      <th>citric acid</th>\n",
              "      <th>residual sugar</th>\n",
              "      <th>chlorides</th>\n",
              "      <th>free sulfur dioxide</th>\n",
              "      <th>total sulfur dioxide</th>\n",
              "      <th>density</th>\n",
              "      <th>pH</th>\n",
              "      <th>sulphates</th>\n",
              "      <th>alcohol</th>\n",
              "      <th>color_Red</th>\n",
              "    </tr>\n",
              "  </thead>\n",
              "  <tbody>\n",
              "    <tr>\n",
              "      <th>0</th>\n",
              "      <td>7.4</td>\n",
              "      <td>0.70</td>\n",
              "      <td>0.00</td>\n",
              "      <td>1.9</td>\n",
              "      <td>0.076</td>\n",
              "      <td>11.0</td>\n",
              "      <td>34.0</td>\n",
              "      <td>0.9978</td>\n",
              "      <td>3.51</td>\n",
              "      <td>0.56</td>\n",
              "      <td>9.4</td>\n",
              "      <td>True</td>\n",
              "    </tr>\n",
              "    <tr>\n",
              "      <th>1</th>\n",
              "      <td>7.8</td>\n",
              "      <td>0.88</td>\n",
              "      <td>0.00</td>\n",
              "      <td>2.6</td>\n",
              "      <td>0.098</td>\n",
              "      <td>25.0</td>\n",
              "      <td>67.0</td>\n",
              "      <td>0.9968</td>\n",
              "      <td>3.20</td>\n",
              "      <td>0.68</td>\n",
              "      <td>9.8</td>\n",
              "      <td>True</td>\n",
              "    </tr>\n",
              "    <tr>\n",
              "      <th>2</th>\n",
              "      <td>7.8</td>\n",
              "      <td>0.76</td>\n",
              "      <td>0.04</td>\n",
              "      <td>2.3</td>\n",
              "      <td>0.092</td>\n",
              "      <td>15.0</td>\n",
              "      <td>54.0</td>\n",
              "      <td>0.9970</td>\n",
              "      <td>3.26</td>\n",
              "      <td>0.65</td>\n",
              "      <td>9.8</td>\n",
              "      <td>True</td>\n",
              "    </tr>\n",
              "    <tr>\n",
              "      <th>3</th>\n",
              "      <td>11.2</td>\n",
              "      <td>0.28</td>\n",
              "      <td>0.56</td>\n",
              "      <td>1.9</td>\n",
              "      <td>0.075</td>\n",
              "      <td>17.0</td>\n",
              "      <td>60.0</td>\n",
              "      <td>0.9980</td>\n",
              "      <td>3.16</td>\n",
              "      <td>0.58</td>\n",
              "      <td>9.8</td>\n",
              "      <td>True</td>\n",
              "    </tr>\n",
              "    <tr>\n",
              "      <th>4</th>\n",
              "      <td>7.4</td>\n",
              "      <td>0.70</td>\n",
              "      <td>0.00</td>\n",
              "      <td>1.9</td>\n",
              "      <td>0.076</td>\n",
              "      <td>11.0</td>\n",
              "      <td>34.0</td>\n",
              "      <td>0.9978</td>\n",
              "      <td>3.51</td>\n",
              "      <td>0.56</td>\n",
              "      <td>9.4</td>\n",
              "      <td>True</td>\n",
              "    </tr>\n",
              "  </tbody>\n",
              "</table>\n",
              "</div>"
            ],
            "text/plain": [
              "   fixed acidity  volatile acidity  citric acid  residual sugar  chlorides  \\\n",
              "0            7.4              0.70         0.00             1.9      0.076   \n",
              "1            7.8              0.88         0.00             2.6      0.098   \n",
              "2            7.8              0.76         0.04             2.3      0.092   \n",
              "3           11.2              0.28         0.56             1.9      0.075   \n",
              "4            7.4              0.70         0.00             1.9      0.076   \n",
              "\n",
              "   free sulfur dioxide  total sulfur dioxide  density    pH  sulphates  \\\n",
              "0                 11.0                  34.0   0.9978  3.51       0.56   \n",
              "1                 25.0                  67.0   0.9968  3.20       0.68   \n",
              "2                 15.0                  54.0   0.9970  3.26       0.65   \n",
              "3                 17.0                  60.0   0.9980  3.16       0.58   \n",
              "4                 11.0                  34.0   0.9978  3.51       0.56   \n",
              "\n",
              "   alcohol  color_Red  \n",
              "0      9.4       True  \n",
              "1      9.8       True  \n",
              "2      9.8       True  \n",
              "3      9.8       True  \n",
              "4      9.4       True  "
            ]
          },
          "execution_count": 205,
          "metadata": {},
          "output_type": "execute_result"
        }
      ],
      "source": [
        "# putting feature variables to X\n",
        "X = df.drop(columns = ['quality'])\n",
        "\n",
        "# print the first 5 rows\n",
        "X.head()"
      ]
    },
    {
      "cell_type": "code",
      "execution_count": null,
      "metadata": {
        "colab": {
          "base_uri": "https://localhost:8080/"
        },
        "execution": {
          "iopub.execute_input": "2020-11-23T18:37:03.524669Z",
          "iopub.status.busy": "2020-11-23T18:37:03.523809Z",
          "iopub.status.idle": "2020-11-23T18:37:03.527862Z",
          "shell.execute_reply": "2020-11-23T18:37:03.528444Z"
        },
        "id": "RA6LC8R4BW52",
        "outputId": "a829959a-e2f7-4992-f85f-e95a52b31574",
        "papermill": {
          "duration": 0.048335,
          "end_time": "2020-11-23T18:37:03.528633",
          "exception": false,
          "start_time": "2020-11-23T18:37:03.480298",
          "status": "completed"
        },
        "tags": []
      },
      "outputs": [
        {
          "data": {
            "text/plain": [
              "0    5\n",
              "1    5\n",
              "2    5\n",
              "3    6\n",
              "4    5\n",
              "Name: quality, dtype: int64"
            ]
          },
          "execution_count": 206,
          "metadata": {},
          "output_type": "execute_result"
        }
      ],
      "source": [
        "# putting response variable to y\n",
        "y = df['quality']\n",
        "\n",
        "# print the first 5 rows\n",
        "y.head()"
      ]
    },
    {
      "cell_type": "markdown",
      "metadata": {
        "id": "fRshsy8OBW52",
        "papermill": {
          "duration": 0.0426,
          "end_time": "2020-11-23T18:37:03.609023",
          "exception": false,
          "start_time": "2020-11-23T18:37:03.566423",
          "status": "completed"
        },
        "tags": []
      },
      "source": [
        "## Splitting Data into Training and Testing Sets"
      ]
    },
    {
      "cell_type": "markdown",
      "metadata": {
        "id": "NTbCyoxkwuFu"
      },
      "source": [
        "In order to do this, we need to use the `scikit-learn` package, also called the `sklearn` package. This is the premier package for Machine Learning in Python. We will explore this package much deeper over the next few weeks and in the spring. If necessary, you can uncomment the following line of code in order to pip install this package."
      ]
    },
    {
      "cell_type": "code",
      "execution_count": null,
      "metadata": {
        "id": "xXokIS9SwuFu"
      },
      "outputs": [],
      "source": [
        "#pip install scikit-learn"
      ]
    },
    {
      "cell_type": "markdown",
      "metadata": {
        "id": "63JMAHMSwuFu"
      },
      "source": [
        "In this case, instead of importing the entire `scikit-learn` package, we can import just the function(s) we intend to use. We're going to use the `train_test_split` function from the `model_selection` subpackage, which is basically another package nested within scikit-learn.\n",
        "\n",
        "This way, whenever we want to call this function, we don't have to refer to the package it comes from."
      ]
    },
    {
      "cell_type": "code",
      "execution_count": null,
      "metadata": {
        "execution": {
          "iopub.execute_input": "2020-11-23T18:37:03.692697Z",
          "iopub.status.busy": "2020-11-23T18:37:03.691845Z",
          "iopub.status.idle": "2020-11-23T18:37:04.473918Z",
          "shell.execute_reply": "2020-11-23T18:37:04.473125Z"
        },
        "id": "OD84Ss_hBW52",
        "papermill": {
          "duration": 0.827784,
          "end_time": "2020-11-23T18:37:04.474041",
          "exception": false,
          "start_time": "2020-11-23T18:37:03.646257",
          "status": "completed"
        },
        "tags": []
      },
      "outputs": [],
      "source": [
        "# random_state is the seed used by the random number generator, it can be any integer\n",
        "\n",
        "from sklearn.model_selection import train_test_split\n",
        "X_train, X_test, y_train, y_test = train_test_split(X, y, train_size=0.7 , random_state=42)"
      ]
    },
    {
      "cell_type": "code",
      "execution_count": null,
      "metadata": {
        "colab": {
          "base_uri": "https://localhost:8080/"
        },
        "execution": {
          "iopub.execute_input": "2020-11-23T18:37:04.555458Z",
          "iopub.status.busy": "2020-11-23T18:37:04.554588Z",
          "iopub.status.idle": "2020-11-23T18:37:04.558699Z",
          "shell.execute_reply": "2020-11-23T18:37:04.558078Z"
        },
        "id": "rP9gRuF-BW52",
        "outputId": "a3a3d652-b207-4d48-b283-3fe7f4ae75b0",
        "papermill": {
          "duration": 0.047433,
          "end_time": "2020-11-23T18:37:04.558851",
          "exception": false,
          "start_time": "2020-11-23T18:37:04.511418",
          "status": "completed"
        },
        "tags": []
      },
      "outputs": [
        {
          "name": "stdout",
          "output_type": "stream",
          "text": [
            "<class 'pandas.core.frame.DataFrame'>\n",
            "<class 'pandas.core.frame.DataFrame'>\n",
            "<class 'pandas.core.series.Series'>\n",
            "<class 'pandas.core.series.Series'>\n"
          ]
        }
      ],
      "source": [
        "print(type(X_train))\n",
        "print(type(X_test))\n",
        "print(type(y_train))\n",
        "print(type(y_test))"
      ]
    },
    {
      "cell_type": "code",
      "execution_count": null,
      "metadata": {
        "colab": {
          "base_uri": "https://localhost:8080/"
        },
        "execution": {
          "iopub.execute_input": "2020-11-23T18:37:04.727293Z",
          "iopub.status.busy": "2020-11-23T18:37:04.726559Z",
          "iopub.status.idle": "2020-11-23T18:37:04.731043Z",
          "shell.execute_reply": "2020-11-23T18:37:04.730421Z"
        },
        "id": "XGx3CCXlBW52",
        "outputId": "f229fa8d-b206-4e8c-9e21-fdbc76d85d69",
        "papermill": {
          "duration": 0.048228,
          "end_time": "2020-11-23T18:37:04.731172",
          "exception": false,
          "start_time": "2020-11-23T18:37:04.682944",
          "status": "completed"
        },
        "tags": []
      },
      "outputs": [
        {
          "name": "stdout",
          "output_type": "stream",
          "text": [
            "(4547, 12)\n",
            "(4547,)\n",
            "(1950, 12)\n",
            "(1950,)\n"
          ]
        }
      ],
      "source": [
        "print(X_train.shape)\n",
        "print(y_train.shape)\n",
        "print(X_test.shape)\n",
        "print(y_test.shape)"
      ]
    },
    {
      "cell_type": "code",
      "execution_count": null,
      "metadata": {
        "execution": {
          "iopub.execute_input": "2020-11-23T18:37:04.817920Z",
          "iopub.status.busy": "2020-11-23T18:37:04.816967Z",
          "iopub.status.idle": "2020-11-23T18:37:04.820558Z",
          "shell.execute_reply": "2020-11-23T18:37:04.821329Z"
        },
        "id": "SVKR9nQHBW52",
        "papermill": {
          "duration": 0.049277,
          "end_time": "2020-11-23T18:37:04.821537",
          "exception": false,
          "start_time": "2020-11-23T18:37:04.772260",
          "status": "completed"
        },
        "tags": []
      },
      "outputs": [],
      "source": [
        "# this step is needed only when you are using a single feature\n",
        "# simply put, numpy.newaxis is used to increase the dimension of the existing array by one more dimension,\n",
        "\n",
        "import numpy as np\n",
        "#X_train = X_train[:, np.newaxis]\n",
        "#X_test = X_test[:, np.newaxis]"
      ]
    },
    {
      "cell_type": "markdown",
      "metadata": {
        "id": "EdeY_F9xBW52",
        "papermill": {
          "duration": 0.0401,
          "end_time": "2020-11-23T18:37:04.993272",
          "exception": false,
          "start_time": "2020-11-23T18:37:04.953172",
          "status": "completed"
        },
        "tags": []
      },
      "source": [
        "## Performing Linear Regression"
      ]
    },
    {
      "cell_type": "code",
      "execution_count": null,
      "metadata": {
        "colab": {
          "base_uri": "https://localhost:8080/",
          "height": 75
        },
        "execution": {
          "iopub.execute_input": "2020-11-23T18:37:05.079822Z",
          "iopub.status.busy": "2020-11-23T18:37:05.079072Z",
          "iopub.status.idle": "2020-11-23T18:37:05.179404Z",
          "shell.execute_reply": "2020-11-23T18:37:05.179980Z"
        },
        "id": "qL6yPFpABW52",
        "outputId": "0f1edefb-7123-4adc-ebc1-5a8bc5401734",
        "papermill": {
          "duration": 0.146015,
          "end_time": "2020-11-23T18:37:05.180148",
          "exception": false,
          "start_time": "2020-11-23T18:37:05.034133",
          "status": "completed"
        },
        "tags": []
      },
      "outputs": [
        {
          "data": {
            "text/html": [
              "<style>#sk-container-id-5 {\n",
              "  /* Definition of color scheme common for light and dark mode */\n",
              "  --sklearn-color-text: black;\n",
              "  --sklearn-color-line: gray;\n",
              "  /* Definition of color scheme for unfitted estimators */\n",
              "  --sklearn-color-unfitted-level-0: #fff5e6;\n",
              "  --sklearn-color-unfitted-level-1: #f6e4d2;\n",
              "  --sklearn-color-unfitted-level-2: #ffe0b3;\n",
              "  --sklearn-color-unfitted-level-3: chocolate;\n",
              "  /* Definition of color scheme for fitted estimators */\n",
              "  --sklearn-color-fitted-level-0: #f0f8ff;\n",
              "  --sklearn-color-fitted-level-1: #d4ebff;\n",
              "  --sklearn-color-fitted-level-2: #b3dbfd;\n",
              "  --sklearn-color-fitted-level-3: cornflowerblue;\n",
              "\n",
              "  /* Specific color for light theme */\n",
              "  --sklearn-color-text-on-default-background: var(--sg-text-color, var(--theme-code-foreground, var(--jp-content-font-color1, black)));\n",
              "  --sklearn-color-background: var(--sg-background-color, var(--theme-background, var(--jp-layout-color0, white)));\n",
              "  --sklearn-color-border-box: var(--sg-text-color, var(--theme-code-foreground, var(--jp-content-font-color1, black)));\n",
              "  --sklearn-color-icon: #696969;\n",
              "\n",
              "  @media (prefers-color-scheme: dark) {\n",
              "    /* Redefinition of color scheme for dark theme */\n",
              "    --sklearn-color-text-on-default-background: var(--sg-text-color, var(--theme-code-foreground, var(--jp-content-font-color1, white)));\n",
              "    --sklearn-color-background: var(--sg-background-color, var(--theme-background, var(--jp-layout-color0, #111)));\n",
              "    --sklearn-color-border-box: var(--sg-text-color, var(--theme-code-foreground, var(--jp-content-font-color1, white)));\n",
              "    --sklearn-color-icon: #878787;\n",
              "  }\n",
              "}\n",
              "\n",
              "#sk-container-id-5 {\n",
              "  color: var(--sklearn-color-text);\n",
              "}\n",
              "\n",
              "#sk-container-id-5 pre {\n",
              "  padding: 0;\n",
              "}\n",
              "\n",
              "#sk-container-id-5 input.sk-hidden--visually {\n",
              "  border: 0;\n",
              "  clip: rect(1px 1px 1px 1px);\n",
              "  clip: rect(1px, 1px, 1px, 1px);\n",
              "  height: 1px;\n",
              "  margin: -1px;\n",
              "  overflow: hidden;\n",
              "  padding: 0;\n",
              "  position: absolute;\n",
              "  width: 1px;\n",
              "}\n",
              "\n",
              "#sk-container-id-5 div.sk-dashed-wrapped {\n",
              "  border: 1px dashed var(--sklearn-color-line);\n",
              "  margin: 0 0.4em 0.5em 0.4em;\n",
              "  box-sizing: border-box;\n",
              "  padding-bottom: 0.4em;\n",
              "  background-color: var(--sklearn-color-background);\n",
              "}\n",
              "\n",
              "#sk-container-id-5 div.sk-container {\n",
              "  /* jupyter's `normalize.less` sets `[hidden] { display: none; }`\n",
              "     but bootstrap.min.css set `[hidden] { display: none !important; }`\n",
              "     so we also need the `!important` here to be able to override the\n",
              "     default hidden behavior on the sphinx rendered scikit-learn.org.\n",
              "     See: https://github.com/scikit-learn/scikit-learn/issues/21755 */\n",
              "  display: inline-block !important;\n",
              "  position: relative;\n",
              "}\n",
              "\n",
              "#sk-container-id-5 div.sk-text-repr-fallback {\n",
              "  display: none;\n",
              "}\n",
              "\n",
              "div.sk-parallel-item,\n",
              "div.sk-serial,\n",
              "div.sk-item {\n",
              "  /* draw centered vertical line to link estimators */\n",
              "  background-image: linear-gradient(var(--sklearn-color-text-on-default-background), var(--sklearn-color-text-on-default-background));\n",
              "  background-size: 2px 100%;\n",
              "  background-repeat: no-repeat;\n",
              "  background-position: center center;\n",
              "}\n",
              "\n",
              "/* Parallel-specific style estimator block */\n",
              "\n",
              "#sk-container-id-5 div.sk-parallel-item::after {\n",
              "  content: \"\";\n",
              "  width: 100%;\n",
              "  border-bottom: 2px solid var(--sklearn-color-text-on-default-background);\n",
              "  flex-grow: 1;\n",
              "}\n",
              "\n",
              "#sk-container-id-5 div.sk-parallel {\n",
              "  display: flex;\n",
              "  align-items: stretch;\n",
              "  justify-content: center;\n",
              "  background-color: var(--sklearn-color-background);\n",
              "  position: relative;\n",
              "}\n",
              "\n",
              "#sk-container-id-5 div.sk-parallel-item {\n",
              "  display: flex;\n",
              "  flex-direction: column;\n",
              "}\n",
              "\n",
              "#sk-container-id-5 div.sk-parallel-item:first-child::after {\n",
              "  align-self: flex-end;\n",
              "  width: 50%;\n",
              "}\n",
              "\n",
              "#sk-container-id-5 div.sk-parallel-item:last-child::after {\n",
              "  align-self: flex-start;\n",
              "  width: 50%;\n",
              "}\n",
              "\n",
              "#sk-container-id-5 div.sk-parallel-item:only-child::after {\n",
              "  width: 0;\n",
              "}\n",
              "\n",
              "/* Serial-specific style estimator block */\n",
              "\n",
              "#sk-container-id-5 div.sk-serial {\n",
              "  display: flex;\n",
              "  flex-direction: column;\n",
              "  align-items: center;\n",
              "  background-color: var(--sklearn-color-background);\n",
              "  padding-right: 1em;\n",
              "  padding-left: 1em;\n",
              "}\n",
              "\n",
              "\n",
              "/* Toggleable style: style used for estimator/Pipeline/ColumnTransformer box that is\n",
              "clickable and can be expanded/collapsed.\n",
              "- Pipeline and ColumnTransformer use this feature and define the default style\n",
              "- Estimators will overwrite some part of the style using the `sk-estimator` class\n",
              "*/\n",
              "\n",
              "/* Pipeline and ColumnTransformer style (default) */\n",
              "\n",
              "#sk-container-id-5 div.sk-toggleable {\n",
              "  /* Default theme specific background. It is overwritten whether we have a\n",
              "  specific estimator or a Pipeline/ColumnTransformer */\n",
              "  background-color: var(--sklearn-color-background);\n",
              "}\n",
              "\n",
              "/* Toggleable label */\n",
              "#sk-container-id-5 label.sk-toggleable__label {\n",
              "  cursor: pointer;\n",
              "  display: block;\n",
              "  width: 100%;\n",
              "  margin-bottom: 0;\n",
              "  padding: 0.5em;\n",
              "  box-sizing: border-box;\n",
              "  text-align: center;\n",
              "}\n",
              "\n",
              "#sk-container-id-5 label.sk-toggleable__label-arrow:before {\n",
              "  /* Arrow on the left of the label */\n",
              "  content: \"▸\";\n",
              "  float: left;\n",
              "  margin-right: 0.25em;\n",
              "  color: var(--sklearn-color-icon);\n",
              "}\n",
              "\n",
              "#sk-container-id-5 label.sk-toggleable__label-arrow:hover:before {\n",
              "  color: var(--sklearn-color-text);\n",
              "}\n",
              "\n",
              "/* Toggleable content - dropdown */\n",
              "\n",
              "#sk-container-id-5 div.sk-toggleable__content {\n",
              "  max-height: 0;\n",
              "  max-width: 0;\n",
              "  overflow: hidden;\n",
              "  text-align: left;\n",
              "  /* unfitted */\n",
              "  background-color: var(--sklearn-color-unfitted-level-0);\n",
              "}\n",
              "\n",
              "#sk-container-id-5 div.sk-toggleable__content.fitted {\n",
              "  /* fitted */\n",
              "  background-color: var(--sklearn-color-fitted-level-0);\n",
              "}\n",
              "\n",
              "#sk-container-id-5 div.sk-toggleable__content pre {\n",
              "  margin: 0.2em;\n",
              "  border-radius: 0.25em;\n",
              "  color: var(--sklearn-color-text);\n",
              "  /* unfitted */\n",
              "  background-color: var(--sklearn-color-unfitted-level-0);\n",
              "}\n",
              "\n",
              "#sk-container-id-5 div.sk-toggleable__content.fitted pre {\n",
              "  /* unfitted */\n",
              "  background-color: var(--sklearn-color-fitted-level-0);\n",
              "}\n",
              "\n",
              "#sk-container-id-5 input.sk-toggleable__control:checked~div.sk-toggleable__content {\n",
              "  /* Expand drop-down */\n",
              "  max-height: 200px;\n",
              "  max-width: 100%;\n",
              "  overflow: auto;\n",
              "}\n",
              "\n",
              "#sk-container-id-5 input.sk-toggleable__control:checked~label.sk-toggleable__label-arrow:before {\n",
              "  content: \"▾\";\n",
              "}\n",
              "\n",
              "/* Pipeline/ColumnTransformer-specific style */\n",
              "\n",
              "#sk-container-id-5 div.sk-label input.sk-toggleable__control:checked~label.sk-toggleable__label {\n",
              "  color: var(--sklearn-color-text);\n",
              "  background-color: var(--sklearn-color-unfitted-level-2);\n",
              "}\n",
              "\n",
              "#sk-container-id-5 div.sk-label.fitted input.sk-toggleable__control:checked~label.sk-toggleable__label {\n",
              "  background-color: var(--sklearn-color-fitted-level-2);\n",
              "}\n",
              "\n",
              "/* Estimator-specific style */\n",
              "\n",
              "/* Colorize estimator box */\n",
              "#sk-container-id-5 div.sk-estimator input.sk-toggleable__control:checked~label.sk-toggleable__label {\n",
              "  /* unfitted */\n",
              "  background-color: var(--sklearn-color-unfitted-level-2);\n",
              "}\n",
              "\n",
              "#sk-container-id-5 div.sk-estimator.fitted input.sk-toggleable__control:checked~label.sk-toggleable__label {\n",
              "  /* fitted */\n",
              "  background-color: var(--sklearn-color-fitted-level-2);\n",
              "}\n",
              "\n",
              "#sk-container-id-5 div.sk-label label.sk-toggleable__label,\n",
              "#sk-container-id-5 div.sk-label label {\n",
              "  /* The background is the default theme color */\n",
              "  color: var(--sklearn-color-text-on-default-background);\n",
              "}\n",
              "\n",
              "/* On hover, darken the color of the background */\n",
              "#sk-container-id-5 div.sk-label:hover label.sk-toggleable__label {\n",
              "  color: var(--sklearn-color-text);\n",
              "  background-color: var(--sklearn-color-unfitted-level-2);\n",
              "}\n",
              "\n",
              "/* Label box, darken color on hover, fitted */\n",
              "#sk-container-id-5 div.sk-label.fitted:hover label.sk-toggleable__label.fitted {\n",
              "  color: var(--sklearn-color-text);\n",
              "  background-color: var(--sklearn-color-fitted-level-2);\n",
              "}\n",
              "\n",
              "/* Estimator label */\n",
              "\n",
              "#sk-container-id-5 div.sk-label label {\n",
              "  font-family: monospace;\n",
              "  font-weight: bold;\n",
              "  display: inline-block;\n",
              "  line-height: 1.2em;\n",
              "}\n",
              "\n",
              "#sk-container-id-5 div.sk-label-container {\n",
              "  text-align: center;\n",
              "}\n",
              "\n",
              "/* Estimator-specific */\n",
              "#sk-container-id-5 div.sk-estimator {\n",
              "  font-family: monospace;\n",
              "  border: 1px dotted var(--sklearn-color-border-box);\n",
              "  border-radius: 0.25em;\n",
              "  box-sizing: border-box;\n",
              "  margin-bottom: 0.5em;\n",
              "  /* unfitted */\n",
              "  background-color: var(--sklearn-color-unfitted-level-0);\n",
              "}\n",
              "\n",
              "#sk-container-id-5 div.sk-estimator.fitted {\n",
              "  /* fitted */\n",
              "  background-color: var(--sklearn-color-fitted-level-0);\n",
              "}\n",
              "\n",
              "/* on hover */\n",
              "#sk-container-id-5 div.sk-estimator:hover {\n",
              "  /* unfitted */\n",
              "  background-color: var(--sklearn-color-unfitted-level-2);\n",
              "}\n",
              "\n",
              "#sk-container-id-5 div.sk-estimator.fitted:hover {\n",
              "  /* fitted */\n",
              "  background-color: var(--sklearn-color-fitted-level-2);\n",
              "}\n",
              "\n",
              "/* Specification for estimator info (e.g. \"i\" and \"?\") */\n",
              "\n",
              "/* Common style for \"i\" and \"?\" */\n",
              "\n",
              ".sk-estimator-doc-link,\n",
              "a:link.sk-estimator-doc-link,\n",
              "a:visited.sk-estimator-doc-link {\n",
              "  float: right;\n",
              "  font-size: smaller;\n",
              "  line-height: 1em;\n",
              "  font-family: monospace;\n",
              "  background-color: var(--sklearn-color-background);\n",
              "  border-radius: 1em;\n",
              "  height: 1em;\n",
              "  width: 1em;\n",
              "  text-decoration: none !important;\n",
              "  margin-left: 1ex;\n",
              "  /* unfitted */\n",
              "  border: var(--sklearn-color-unfitted-level-1) 1pt solid;\n",
              "  color: var(--sklearn-color-unfitted-level-1);\n",
              "}\n",
              "\n",
              ".sk-estimator-doc-link.fitted,\n",
              "a:link.sk-estimator-doc-link.fitted,\n",
              "a:visited.sk-estimator-doc-link.fitted {\n",
              "  /* fitted */\n",
              "  border: var(--sklearn-color-fitted-level-1) 1pt solid;\n",
              "  color: var(--sklearn-color-fitted-level-1);\n",
              "}\n",
              "\n",
              "/* On hover */\n",
              "div.sk-estimator:hover .sk-estimator-doc-link:hover,\n",
              ".sk-estimator-doc-link:hover,\n",
              "div.sk-label-container:hover .sk-estimator-doc-link:hover,\n",
              ".sk-estimator-doc-link:hover {\n",
              "  /* unfitted */\n",
              "  background-color: var(--sklearn-color-unfitted-level-3);\n",
              "  color: var(--sklearn-color-background);\n",
              "  text-decoration: none;\n",
              "}\n",
              "\n",
              "div.sk-estimator.fitted:hover .sk-estimator-doc-link.fitted:hover,\n",
              ".sk-estimator-doc-link.fitted:hover,\n",
              "div.sk-label-container:hover .sk-estimator-doc-link.fitted:hover,\n",
              ".sk-estimator-doc-link.fitted:hover {\n",
              "  /* fitted */\n",
              "  background-color: var(--sklearn-color-fitted-level-3);\n",
              "  color: var(--sklearn-color-background);\n",
              "  text-decoration: none;\n",
              "}\n",
              "\n",
              "/* Span, style for the box shown on hovering the info icon */\n",
              ".sk-estimator-doc-link span {\n",
              "  display: none;\n",
              "  z-index: 9999;\n",
              "  position: relative;\n",
              "  font-weight: normal;\n",
              "  right: .2ex;\n",
              "  padding: .5ex;\n",
              "  margin: .5ex;\n",
              "  width: min-content;\n",
              "  min-width: 20ex;\n",
              "  max-width: 50ex;\n",
              "  color: var(--sklearn-color-text);\n",
              "  box-shadow: 2pt 2pt 4pt #999;\n",
              "  /* unfitted */\n",
              "  background: var(--sklearn-color-unfitted-level-0);\n",
              "  border: .5pt solid var(--sklearn-color-unfitted-level-3);\n",
              "}\n",
              "\n",
              ".sk-estimator-doc-link.fitted span {\n",
              "  /* fitted */\n",
              "  background: var(--sklearn-color-fitted-level-0);\n",
              "  border: var(--sklearn-color-fitted-level-3);\n",
              "}\n",
              "\n",
              ".sk-estimator-doc-link:hover span {\n",
              "  display: block;\n",
              "}\n",
              "\n",
              "/* \"?\"-specific style due to the `<a>` HTML tag */\n",
              "\n",
              "#sk-container-id-5 a.estimator_doc_link {\n",
              "  float: right;\n",
              "  font-size: 1rem;\n",
              "  line-height: 1em;\n",
              "  font-family: monospace;\n",
              "  background-color: var(--sklearn-color-background);\n",
              "  border-radius: 1rem;\n",
              "  height: 1rem;\n",
              "  width: 1rem;\n",
              "  text-decoration: none;\n",
              "  /* unfitted */\n",
              "  color: var(--sklearn-color-unfitted-level-1);\n",
              "  border: var(--sklearn-color-unfitted-level-1) 1pt solid;\n",
              "}\n",
              "\n",
              "#sk-container-id-5 a.estimator_doc_link.fitted {\n",
              "  /* fitted */\n",
              "  border: var(--sklearn-color-fitted-level-1) 1pt solid;\n",
              "  color: var(--sklearn-color-fitted-level-1);\n",
              "}\n",
              "\n",
              "/* On hover */\n",
              "#sk-container-id-5 a.estimator_doc_link:hover {\n",
              "  /* unfitted */\n",
              "  background-color: var(--sklearn-color-unfitted-level-3);\n",
              "  color: var(--sklearn-color-background);\n",
              "  text-decoration: none;\n",
              "}\n",
              "\n",
              "#sk-container-id-5 a.estimator_doc_link.fitted:hover {\n",
              "  /* fitted */\n",
              "  background-color: var(--sklearn-color-fitted-level-3);\n",
              "}\n",
              "</style><div id=\"sk-container-id-5\" class=\"sk-top-container\"><div class=\"sk-text-repr-fallback\"><pre>LinearRegression()</pre><b>In a Jupyter environment, please rerun this cell to show the HTML representation or trust the notebook. <br />On GitHub, the HTML representation is unable to render, please try loading this page with nbviewer.org.</b></div><div class=\"sk-container\" hidden><div class=\"sk-item\"><div class=\"sk-estimator fitted sk-toggleable\"><input class=\"sk-toggleable__control sk-hidden--visually\" id=\"sk-estimator-id-5\" type=\"checkbox\" checked><label for=\"sk-estimator-id-5\" class=\"sk-toggleable__label fitted sk-toggleable__label-arrow fitted\">&nbsp;&nbsp;LinearRegression<a class=\"sk-estimator-doc-link fitted\" rel=\"noreferrer\" target=\"_blank\" href=\"https://scikit-learn.org/1.5/modules/generated/sklearn.linear_model.LinearRegression.html\">?<span>Documentation for LinearRegression</span></a><span class=\"sk-estimator-doc-link fitted\">i<span>Fitted</span></span></label><div class=\"sk-toggleable__content fitted\"><pre>LinearRegression()</pre></div> </div></div></div></div>"
            ],
            "text/plain": [
              "LinearRegression()"
            ]
          },
          "execution_count": 212,
          "metadata": {},
          "output_type": "execute_result"
        }
      ],
      "source": [
        "# import LinearRegression from sklearn\n",
        "from sklearn.linear_model import LinearRegression\n",
        "\n",
        "# representing LinearRegression as lr(Creating LinearRegression Object)\n",
        "lr = LinearRegression()\n",
        "\n",
        "# Fit the model using lr.fit()\n",
        "lr.fit(X_train, y_train)"
      ]
    },
    {
      "cell_type": "markdown",
      "metadata": {
        "id": "ZhChGqJ2BW52",
        "papermill": {
          "duration": 0.040717,
          "end_time": "2020-11-23T18:37:05.262076",
          "exception": false,
          "start_time": "2020-11-23T18:37:05.221359",
          "status": "completed"
        },
        "tags": []
      },
      "source": [
        "## Coefficients Calculation"
      ]
    },
    {
      "cell_type": "code",
      "execution_count": null,
      "metadata": {
        "colab": {
          "base_uri": "https://localhost:8080/"
        },
        "execution": {
          "iopub.execute_input": "2020-11-23T18:37:05.351781Z",
          "iopub.status.busy": "2020-11-23T18:37:05.350733Z",
          "iopub.status.idle": "2020-11-23T18:37:05.355686Z",
          "shell.execute_reply": "2020-11-23T18:37:05.354662Z"
        },
        "id": "527h4jGWBW52",
        "outputId": "b119ec73-0910-4156-d04f-a3f3eb70c816",
        "papermill": {
          "duration": 0.052679,
          "end_time": "2020-11-23T18:37:05.355848",
          "exception": false,
          "start_time": "2020-11-23T18:37:05.303169",
          "status": "completed"
        },
        "scrolled": true,
        "tags": []
      },
      "outputs": [
        {
          "name": "stdout",
          "output_type": "stream",
          "text": [
            "103.20382309165552\n"
          ]
        },
        {
          "data": {
            "text/html": [
              "<div>\n",
              "<style scoped>\n",
              "    .dataframe tbody tr th:only-of-type {\n",
              "        vertical-align: middle;\n",
              "    }\n",
              "\n",
              "    .dataframe tbody tr th {\n",
              "        vertical-align: top;\n",
              "    }\n",
              "\n",
              "    .dataframe thead th {\n",
              "        text-align: right;\n",
              "    }\n",
              "</style>\n",
              "<table border=\"1\" class=\"dataframe\">\n",
              "  <thead>\n",
              "    <tr style=\"text-align: right;\">\n",
              "      <th></th>\n",
              "      <th>Feature</th>\n",
              "      <th>Coefficient</th>\n",
              "    </tr>\n",
              "  </thead>\n",
              "  <tbody>\n",
              "    <tr>\n",
              "      <th>0</th>\n",
              "      <td>fixed acidity</td>\n",
              "      <td>0.092827</td>\n",
              "    </tr>\n",
              "    <tr>\n",
              "      <th>1</th>\n",
              "      <td>volatile acidity</td>\n",
              "      <td>-1.538709</td>\n",
              "    </tr>\n",
              "    <tr>\n",
              "      <th>2</th>\n",
              "      <td>citric acid</td>\n",
              "      <td>-0.105558</td>\n",
              "    </tr>\n",
              "    <tr>\n",
              "      <th>3</th>\n",
              "      <td>residual sugar</td>\n",
              "      <td>0.065250</td>\n",
              "    </tr>\n",
              "    <tr>\n",
              "      <th>4</th>\n",
              "      <td>chlorides</td>\n",
              "      <td>-0.315953</td>\n",
              "    </tr>\n",
              "    <tr>\n",
              "      <th>5</th>\n",
              "      <td>free sulfur dioxide</td>\n",
              "      <td>0.005933</td>\n",
              "    </tr>\n",
              "    <tr>\n",
              "      <th>6</th>\n",
              "      <td>total sulfur dioxide</td>\n",
              "      <td>-0.001659</td>\n",
              "    </tr>\n",
              "    <tr>\n",
              "      <th>7</th>\n",
              "      <td>density</td>\n",
              "      <td>-102.959218</td>\n",
              "    </tr>\n",
              "    <tr>\n",
              "      <th>8</th>\n",
              "      <td>pH</td>\n",
              "      <td>0.506488</td>\n",
              "    </tr>\n",
              "    <tr>\n",
              "      <th>9</th>\n",
              "      <td>sulphates</td>\n",
              "      <td>0.757937</td>\n",
              "    </tr>\n",
              "    <tr>\n",
              "      <th>10</th>\n",
              "      <td>alcohol</td>\n",
              "      <td>0.235957</td>\n",
              "    </tr>\n",
              "    <tr>\n",
              "      <th>11</th>\n",
              "      <td>color_Red</td>\n",
              "      <td>0.324695</td>\n",
              "    </tr>\n",
              "  </tbody>\n",
              "</table>\n",
              "</div>"
            ],
            "text/plain": [
              "                 Feature  Coefficient\n",
              "0          fixed acidity     0.092827\n",
              "1       volatile acidity    -1.538709\n",
              "2            citric acid    -0.105558\n",
              "3         residual sugar     0.065250\n",
              "4              chlorides    -0.315953\n",
              "5    free sulfur dioxide     0.005933\n",
              "6   total sulfur dioxide    -0.001659\n",
              "7                density  -102.959218\n",
              "8                     pH     0.506488\n",
              "9              sulphates     0.757937\n",
              "10               alcohol     0.235957\n",
              "11             color_Red     0.324695"
            ]
          },
          "execution_count": 213,
          "metadata": {},
          "output_type": "execute_result"
        }
      ],
      "source": [
        "# Print the intercept and coefficients\n",
        "print(lr.intercept_)\n",
        "pd.DataFrame({\n",
        "    'Feature': X_train.columns,\n",
        "    'Coefficient': lr.coef_\n",
        "})"
      ]
    },
    {
      "cell_type": "markdown",
      "metadata": {
        "id": "Hm_44AKFBW53",
        "papermill": {
          "duration": 0.041254,
          "end_time": "2020-11-23T18:37:05.439567",
          "exception": false,
          "start_time": "2020-11-23T18:37:05.398313",
          "status": "completed"
        },
        "tags": []
      },
      "source": [
        "$\\hat{y} = 103.2 + 0.09 \\times fixed acidity + ... + 0.32 \\times \\textit{color\\_Red}$<br>\n",
        "\n",
        "Now, let's use this equation to predict quality."
      ]
    },
    {
      "cell_type": "markdown",
      "metadata": {
        "id": "8t8Av_XXBW53",
        "papermill": {
          "duration": 0.041059,
          "end_time": "2020-11-23T18:37:05.521981",
          "exception": false,
          "start_time": "2020-11-23T18:37:05.480922",
          "status": "completed"
        },
        "tags": []
      },
      "source": [
        "## Predictions"
      ]
    },
    {
      "cell_type": "code",
      "execution_count": null,
      "metadata": {
        "execution": {
          "iopub.execute_input": "2020-11-23T18:37:05.611127Z",
          "iopub.status.busy": "2020-11-23T18:37:05.610311Z",
          "iopub.status.idle": "2020-11-23T18:37:05.613752Z",
          "shell.execute_reply": "2020-11-23T18:37:05.613031Z"
        },
        "id": "wJqlolZtBW53",
        "papermill": {
          "duration": 0.050419,
          "end_time": "2020-11-23T18:37:05.613866",
          "exception": false,
          "start_time": "2020-11-23T18:37:05.563447",
          "status": "completed"
        },
        "tags": []
      },
      "outputs": [],
      "source": [
        "# making predictions on the testing set\n",
        "y_pred = lr.predict(X_test)"
      ]
    },
    {
      "cell_type": "code",
      "execution_count": null,
      "metadata": {
        "colab": {
          "base_uri": "https://localhost:8080/"
        },
        "execution": {
          "iopub.execute_input": "2020-11-23T18:37:05.702163Z",
          "iopub.status.busy": "2020-11-23T18:37:05.701261Z",
          "iopub.status.idle": "2020-11-23T18:37:05.705434Z",
          "shell.execute_reply": "2020-11-23T18:37:05.704874Z"
        },
        "id": "4u4Cz-xqBW53",
        "outputId": "2786d0ca-41a9-40fd-ea7b-0a6734b999c7",
        "papermill": {
          "duration": 0.050307,
          "end_time": "2020-11-23T18:37:05.705582",
          "exception": false,
          "start_time": "2020-11-23T18:37:05.655275",
          "status": "completed"
        },
        "tags": []
      },
      "outputs": [
        {
          "data": {
            "text/plain": [
              "array([6.72402631, 5.15181414, 6.30808037, ..., 6.45810828, 6.45608146,\n",
              "       5.59400472])"
            ]
          },
          "execution_count": 215,
          "metadata": {},
          "output_type": "execute_result"
        }
      ],
      "source": [
        "y_pred"
      ]
    },
    {
      "cell_type": "markdown",
      "metadata": {
        "collapsed": true,
        "id": "42DUHkQzBW53",
        "papermill": {
          "duration": 0.041461,
          "end_time": "2020-11-23T18:37:05.789118",
          "exception": false,
          "start_time": "2020-11-23T18:37:05.747657",
          "status": "completed"
        },
        "tags": []
      },
      "source": [
        "#### Computing RMSE and R^2 Values\n",
        "RMSE is the standard deviation of the errors which occur when a prediction is made on a dataset. This is the same as MSE (Mean Squared Error) but the root of the value is considered while determining the accuracy of the model\n"
      ]
    },
    {
      "cell_type": "code",
      "execution_count": null,
      "metadata": {
        "id": "GKN2_eTswuF2",
        "outputId": "bbf3611c-5cfb-431a-e98a-67d811e084d1"
      },
      "outputs": [
        {
          "data": {
            "text/plain": [
              "Text(0.5, 1.0, 'Actual vs Predicted Values')"
            ]
          },
          "execution_count": 217,
          "metadata": {},
          "output_type": "execute_result"
        },
        {
          "data": {
            "image/png": "[encoded data removed]",
            "text/plain": [
              "<Figure size 640x480 with 1 Axes>"
            ]
          },
          "metadata": {},
          "output_type": "display_data"
        }
      ],
      "source": [
        "# plotting actual vs predicted\n",
        "plt.scatter(y_pred, y_test, color='blue', edgecolor='black')\n",
        "plt.xlabel('Predicted Values')\n",
        "plt.ylabel('Actual Values')\n",
        "plt.title('Actual vs Predicted Values')"
      ]
    },
    {
      "cell_type": "code",
      "execution_count": null,
      "metadata": {
        "execution": {
          "iopub.execute_input": "2020-11-23T18:37:06.587687Z",
          "iopub.status.busy": "2020-11-23T18:37:06.586804Z",
          "iopub.status.idle": "2020-11-23T18:37:06.589619Z",
          "shell.execute_reply": "2020-11-23T18:37:06.588906Z"
        },
        "id": "rJKwrhrABW53",
        "papermill": {
          "duration": 0.054552,
          "end_time": "2020-11-23T18:37:06.589735",
          "exception": false,
          "start_time": "2020-11-23T18:37:06.535183",
          "status": "completed"
        },
        "tags": []
      },
      "outputs": [],
      "source": [
        "from sklearn.metrics import root_mean_squared_error, r2_score\n",
        "rmse = root_mean_squared_error(y_test, y_pred)\n",
        "r_squared = r2_score(y_test, y_pred)"
      ]
    },
    {
      "cell_type": "code",
      "execution_count": null,
      "metadata": {
        "execution": {
          "iopub.execute_input": "2020-11-23T18:37:06.791470Z",
          "iopub.status.busy": "2020-11-23T18:37:06.790396Z",
          "iopub.status.idle": "2020-11-23T18:37:06.795633Z",
          "shell.execute_reply": "2020-11-23T18:37:06.795031Z"
        },
        "id": "osv85GbBBW53",
        "outputId": "8cd66d2c-988a-45ce-9f76-84518bed87a2",
        "papermill": {
          "duration": 0.05735,
          "end_time": "2020-11-23T18:37:06.795754",
          "exception": false,
          "start_time": "2020-11-23T18:37:06.738404",
          "status": "completed"
        },
        "tags": []
      },
      "outputs": [
        {
          "name": "stdout",
          "output_type": "stream",
          "text": [
            "Root Mean Squared Error : 0.73\n",
            "R Squared : 0.277\n"
          ]
        }
      ],
      "source": [
        "print('Root Mean Squared Error :' , round(rmse, 2))\n",
        "print('R Squared :', round(r_squared, 3))"
      ]
    },
    {
      "cell_type": "markdown",
      "metadata": {
        "id": "Y9KlYi2ywuF2"
      },
      "source": [
        "This MSE means that this model is typically wrong by a quality score of 0.73.</br>\n",
        "This  R squared means that the variables in this model account for 27.7% of the variability in quality score."
      ]
    },
    {
      "cell_type": "markdown",
      "metadata": {
        "id": "0thPjdnFwuF2"
      },
      "source": [
        "## Practice Problem"
      ]
    },
    {
      "cell_type": "markdown",
      "metadata": {
        "id": "lkRYRH8GwuF2"
      },
      "source": [
        "#### Try creating a simple linear regression model with only one predictor. How does it perform out of sample?"
      ]
    },
    {
      "cell_type": "code",
      "execution_count": null,
      "metadata": {
        "id": "ogfaoSwPwuF2"
      },
      "outputs": [],
      "source": [
        "# Answer here:\n"
      ]
    },
    {
      "cell_type": "markdown",
      "metadata": {
        "id": "AuaUl49KwuF3"
      },
      "source": [
        "### Let's see if we can improve this!"
      ]
    },
    {
      "cell_type": "markdown",
      "metadata": {
        "id": "auxo_cd7wuF3"
      },
      "source": [
        "A good place to start is to look at which variables are statistically significant, so we know which variables are the most predictive, and therefore which to keep in our model. `Scikit-learn` unfortunately doesn't allow us to do this, so we'll use the `statsmodels` package instead. Uncomment the following line of code if you need to pip install `statsmodels`."
      ]
    },
    {
      "cell_type": "code",
      "execution_count": null,
      "metadata": {
        "id": "4_gZdGIQwuF3"
      },
      "outputs": [],
      "source": [
        "# pip install statsmodels"
      ]
    },
    {
      "cell_type": "code",
      "execution_count": null,
      "metadata": {
        "id": "Bd6s_AucwuF3",
        "outputId": "0e683a95-d737-49a2-dbf3-4f71671099af"
      },
      "outputs": [
        {
          "data": {
            "text/html": [
              "<table class=\"simpletable\">\n",
              "<caption>OLS Regression Results</caption>\n",
              "<tr>\n",
              "  <th>Dep. Variable:</th>         <td>quality</td>     <th>  R-squared:         </th> <td>   0.303</td> \n",
              "</tr>\n",
              "<tr>\n",
              "  <th>Model:</th>                   <td>OLS</td>       <th>  Adj. R-squared:    </th> <td>   0.301</td> \n",
              "</tr>\n",
              "<tr>\n",
              "  <th>Method:</th>             <td>Least Squares</td>  <th>  F-statistic:       </th> <td>   164.5</td> \n",
              "</tr>\n",
              "<tr>\n",
              "  <th>Date:</th>             <td>Thu, 17 Oct 2024</td> <th>  Prob (F-statistic):</th>  <td>  0.00</td>  \n",
              "</tr>\n",
              "<tr>\n",
              "  <th>Time:</th>                 <td>17:09:16</td>     <th>  Log-Likelihood:    </th> <td> -5055.3</td> \n",
              "</tr>\n",
              "<tr>\n",
              "  <th>No. Observations:</th>      <td>  4547</td>      <th>  AIC:               </th> <td>1.014e+04</td>\n",
              "</tr>\n",
              "<tr>\n",
              "  <th>Df Residuals:</th>          <td>  4534</td>      <th>  BIC:               </th> <td>1.022e+04</td>\n",
              "</tr>\n",
              "<tr>\n",
              "  <th>Df Model:</th>              <td>    12</td>      <th>                     </th>     <td> </td>    \n",
              "</tr>\n",
              "<tr>\n",
              "  <th>Covariance Type:</th>      <td>nonrobust</td>    <th>                     </th>     <td> </td>    \n",
              "</tr>\n",
              "</table>\n",
              "<table class=\"simpletable\">\n",
              "<tr>\n",
              "            <td></td>              <th>coef</th>     <th>std err</th>      <th>t</th>      <th>P>|t|</th>  <th>[0.025</th>    <th>0.975]</th>  \n",
              "</tr>\n",
              "<tr>\n",
              "  <th>const</th>                <td>  103.2038</td> <td>   16.572</td> <td>    6.228</td> <td> 0.000</td> <td>   70.714</td> <td>  135.693</td>\n",
              "</tr>\n",
              "<tr>\n",
              "  <th>fixed acidity</th>        <td>    0.0928</td> <td>    0.019</td> <td>    4.973</td> <td> 0.000</td> <td>    0.056</td> <td>    0.129</td>\n",
              "</tr>\n",
              "<tr>\n",
              "  <th>volatile acidity</th>     <td>   -1.5387</td> <td>    0.099</td> <td>  -15.475</td> <td> 0.000</td> <td>   -1.734</td> <td>   -1.344</td>\n",
              "</tr>\n",
              "<tr>\n",
              "  <th>citric acid</th>          <td>   -0.1056</td> <td>    0.096</td> <td>   -1.096</td> <td> 0.273</td> <td>   -0.294</td> <td>    0.083</td>\n",
              "</tr>\n",
              "<tr>\n",
              "  <th>residual sugar</th>       <td>    0.0653</td> <td>    0.007</td> <td>    9.231</td> <td> 0.000</td> <td>    0.051</td> <td>    0.079</td>\n",
              "</tr>\n",
              "<tr>\n",
              "  <th>chlorides</th>            <td>   -0.3160</td> <td>    0.420</td> <td>   -0.752</td> <td> 0.452</td> <td>   -1.140</td> <td>    0.508</td>\n",
              "</tr>\n",
              "<tr>\n",
              "  <th>free sulfur dioxide</th>  <td>    0.0059</td> <td>    0.001</td> <td>    6.250</td> <td> 0.000</td> <td>    0.004</td> <td>    0.008</td>\n",
              "</tr>\n",
              "<tr>\n",
              "  <th>total sulfur dioxide</th> <td>   -0.0017</td> <td>    0.000</td> <td>   -4.167</td> <td> 0.000</td> <td>   -0.002</td> <td>   -0.001</td>\n",
              "</tr>\n",
              "<tr>\n",
              "  <th>density</th>              <td> -102.9592</td> <td>   16.848</td> <td>   -6.111</td> <td> 0.000</td> <td> -135.990</td> <td>  -69.928</td>\n",
              "</tr>\n",
              "<tr>\n",
              "  <th>pH</th>                   <td>    0.5065</td> <td>    0.108</td> <td>    4.679</td> <td> 0.000</td> <td>    0.294</td> <td>    0.719</td>\n",
              "</tr>\n",
              "<tr>\n",
              "  <th>sulphates</th>            <td>    0.7579</td> <td>    0.092</td> <td>    8.201</td> <td> 0.000</td> <td>    0.577</td> <td>    0.939</td>\n",
              "</tr>\n",
              "<tr>\n",
              "  <th>alcohol</th>              <td>    0.2360</td> <td>    0.021</td> <td>   11.178</td> <td> 0.000</td> <td>    0.195</td> <td>    0.277</td>\n",
              "</tr>\n",
              "<tr>\n",
              "  <th>color_Red</th>            <td>    0.3247</td> <td>    0.069</td> <td>    4.698</td> <td> 0.000</td> <td>    0.189</td> <td>    0.460</td>\n",
              "</tr>\n",
              "</table>\n",
              "<table class=\"simpletable\">\n",
              "<tr>\n",
              "  <th>Omnibus:</th>       <td>98.096</td> <th>  Durbin-Watson:     </th> <td>   2.048</td>\n",
              "</tr>\n",
              "<tr>\n",
              "  <th>Prob(Omnibus):</th> <td> 0.000</td> <th>  Jarque-Bera (JB):  </th> <td> 200.220</td>\n",
              "</tr>\n",
              "<tr>\n",
              "  <th>Skew:</th>          <td> 0.100</td> <th>  Prob(JB):          </th> <td>3.33e-44</td>\n",
              "</tr>\n",
              "<tr>\n",
              "  <th>Kurtosis:</th>      <td> 4.008</td> <th>  Cond. No.          </th> <td>2.88e+05</td>\n",
              "</tr>\n",
              "</table><br/><br/>Notes:<br/>[1] Standard Errors assume that the covariance matrix of the errors is correctly specified.<br/>[2] The condition number is large, 2.88e+05. This might indicate that there are<br/>strong multicollinearity or other numerical problems."
            ],
            "text/latex": [
              "\\begin{center}\n",
              "\\begin{tabular}{lclc}\n",
              "\\toprule\n",
              "\\textbf{Dep. Variable:}       &     quality      & \\textbf{  R-squared:         } &     0.303   \\\\\n",
              "\\textbf{Model:}               &       OLS        & \\textbf{  Adj. R-squared:    } &     0.301   \\\\\n",
              "\\textbf{Method:}              &  Least Squares   & \\textbf{  F-statistic:       } &     164.5   \\\\\n",
              "\\textbf{Date:}                & Thu, 17 Oct 2024 & \\textbf{  Prob (F-statistic):} &     0.00    \\\\\n",
              "\\textbf{Time:}                &     17:09:16     & \\textbf{  Log-Likelihood:    } &   -5055.3   \\\\\n",
              "\\textbf{No. Observations:}    &        4547      & \\textbf{  AIC:               } & 1.014e+04   \\\\\n",
              "\\textbf{Df Residuals:}        &        4534      & \\textbf{  BIC:               } & 1.022e+04   \\\\\n",
              "\\textbf{Df Model:}            &          12      & \\textbf{                     } &             \\\\\n",
              "\\textbf{Covariance Type:}     &    nonrobust     & \\textbf{                     } &             \\\\\n",
              "\\bottomrule\n",
              "\\end{tabular}\n",
              "\\begin{tabular}{lcccccc}\n",
              "                              & \\textbf{coef} & \\textbf{std err} & \\textbf{t} & \\textbf{P$> |$t$|$} & \\textbf{[0.025} & \\textbf{0.975]}  \\\\\n",
              "\\midrule\n",
              "\\textbf{const}                &     103.2038  &       16.572     &     6.228  &         0.000        &       70.714    &      135.693     \\\\\n",
              "\\textbf{fixed acidity}        &       0.0928  &        0.019     &     4.973  &         0.000        &        0.056    &        0.129     \\\\\n",
              "\\textbf{volatile acidity}     &      -1.5387  &        0.099     &   -15.475  &         0.000        &       -1.734    &       -1.344     \\\\\n",
              "\\textbf{citric acid}          &      -0.1056  &        0.096     &    -1.096  &         0.273        &       -0.294    &        0.083     \\\\\n",
              "\\textbf{residual sugar}       &       0.0653  &        0.007     &     9.231  &         0.000        &        0.051    &        0.079     \\\\\n",
              "\\textbf{chlorides}            &      -0.3160  &        0.420     &    -0.752  &         0.452        &       -1.140    &        0.508     \\\\\n",
              "\\textbf{free sulfur dioxide}  &       0.0059  &        0.001     &     6.250  &         0.000        &        0.004    &        0.008     \\\\\n",
              "\\textbf{total sulfur dioxide} &      -0.0017  &        0.000     &    -4.167  &         0.000        &       -0.002    &       -0.001     \\\\\n",
              "\\textbf{density}              &    -102.9592  &       16.848     &    -6.111  &         0.000        &     -135.990    &      -69.928     \\\\\n",
              "\\textbf{pH}                   &       0.5065  &        0.108     &     4.679  &         0.000        &        0.294    &        0.719     \\\\\n",
              "\\textbf{sulphates}            &       0.7579  &        0.092     &     8.201  &         0.000        &        0.577    &        0.939     \\\\\n",
              "\\textbf{alcohol}              &       0.2360  &        0.021     &    11.178  &         0.000        &        0.195    &        0.277     \\\\\n",
              "\\textbf{color\\_Red}           &       0.3247  &        0.069     &     4.698  &         0.000        &        0.189    &        0.460     \\\\\n",
              "\\bottomrule\n",
              "\\end{tabular}\n",
              "\\begin{tabular}{lclc}\n",
              "\\textbf{Omnibus:}       & 98.096 & \\textbf{  Durbin-Watson:     } &    2.048  \\\\\n",
              "\\textbf{Prob(Omnibus):} &  0.000 & \\textbf{  Jarque-Bera (JB):  } &  200.220  \\\\\n",
              "\\textbf{Skew:}          &  0.100 & \\textbf{  Prob(JB):          } & 3.33e-44  \\\\\n",
              "\\textbf{Kurtosis:}      &  4.008 & \\textbf{  Cond. No.          } & 2.88e+05  \\\\\n",
              "\\bottomrule\n",
              "\\end{tabular}\n",
              "%\\caption{OLS Regression Results}\n",
              "\\end{center}\n",
              "\n",
              "Notes: \\newline\n",
              " [1] Standard Errors assume that the covariance matrix of the errors is correctly specified. \\newline\n",
              " [2] The condition number is large, 2.88e+05. This might indicate that there are \\newline\n",
              " strong multicollinearity or other numerical problems."
            ],
            "text/plain": [
              "<class 'statsmodels.iolib.summary.Summary'>\n",
              "\"\"\"\n",
              "                            OLS Regression Results                            \n",
              "==============================================================================\n",
              "Dep. Variable:                quality   R-squared:                       0.303\n",
              "Model:                            OLS   Adj. R-squared:                  0.301\n",
              "Method:                 Least Squares   F-statistic:                     164.5\n",
              "Date:                Thu, 17 Oct 2024   Prob (F-statistic):               0.00\n",
              "Time:                        17:09:16   Log-Likelihood:                -5055.3\n",
              "No. Observations:                4547   AIC:                         1.014e+04\n",
              "Df Residuals:                    4534   BIC:                         1.022e+04\n",
              "Df Model:                          12                                         \n",
              "Covariance Type:            nonrobust                                         \n",
              "========================================================================================\n",
              "                           coef    std err          t      P>|t|      [0.025      0.975]\n",
              "----------------------------------------------------------------------------------------\n",
              "const                  103.2038     16.572      6.228      0.000      70.714     135.693\n",
              "fixed acidity            0.0928      0.019      4.973      0.000       0.056       0.129\n",
              "volatile acidity        -1.5387      0.099    -15.475      0.000      -1.734      -1.344\n",
              "citric acid             -0.1056      0.096     -1.096      0.273      -0.294       0.083\n",
              "residual sugar           0.0653      0.007      9.231      0.000       0.051       0.079\n",
              "chlorides               -0.3160      0.420     -0.752      0.452      -1.140       0.508\n",
              "free sulfur dioxide      0.0059      0.001      6.250      0.000       0.004       0.008\n",
              "total sulfur dioxide    -0.0017      0.000     -4.167      0.000      -0.002      -0.001\n",
              "density               -102.9592     16.848     -6.111      0.000    -135.990     -69.928\n",
              "pH                       0.5065      0.108      4.679      0.000       0.294       0.719\n",
              "sulphates                0.7579      0.092      8.201      0.000       0.577       0.939\n",
              "alcohol                  0.2360      0.021     11.178      0.000       0.195       0.277\n",
              "color_Red                0.3247      0.069      4.698      0.000       0.189       0.460\n",
              "==============================================================================\n",
              "Omnibus:                       98.096   Durbin-Watson:                   2.048\n",
              "Prob(Omnibus):                  0.000   Jarque-Bera (JB):              200.220\n",
              "Skew:                           0.100   Prob(JB):                     3.33e-44\n",
              "Kurtosis:                       4.008   Cond. No.                     2.88e+05\n",
              "==============================================================================\n",
              "\n",
              "Notes:\n",
              "[1] Standard Errors assume that the covariance matrix of the errors is correctly specified.\n",
              "[2] The condition number is large, 2.88e+05. This might indicate that there are\n",
              "strong multicollinearity or other numerical problems.\n",
              "\"\"\""
            ]
          },
          "execution_count": 221,
          "metadata": {},
          "output_type": "execute_result"
        }
      ],
      "source": [
        "import statsmodels.api as sm\n",
        "import pandas as pd\n",
        "\n",
        "# change the True/False in the color column to a 1/0 for statsmodels (it can't handle boolean values)\n",
        "X_train['color_Red'] = X_train['color_Red'].apply(lambda x: 1 if x == True else 0)\n",
        "\n",
        "# add a constant to the model (for the intercept)\n",
        "X_train = sm.add_constant(X_train)\n",
        "\n",
        "# fit the OLS (Ordinary Least Squares) model\n",
        "model = sm.OLS(y_train, X_train)\n",
        "results = model.fit()\n",
        "\n",
        "# view the results\n",
        "results.summary()"
      ]
    },
    {
      "cell_type": "markdown",
      "metadata": {
        "id": "PZm9zsXKwuF3"
      },
      "source": [
        "Most of these variables appear to be statistically significant. However, citric acid and chlorides are not, so it is safe to exclude them from an improved model.\n",
        "\n",
        "Let's also take a look at practical significance... which variables are statistically significant, but may not actually have that much of an impact on predictions of the quality score?"
      ]
    },
    {
      "cell_type": "code",
      "execution_count": null,
      "metadata": {
        "id": "B9VlvZZRwuF3",
        "outputId": "c512712f-5668-40f5-ce3b-1eeca455f3ef"
      },
      "outputs": [
        {
          "data": {
            "text/html": [
              "<div>\n",
              "<style scoped>\n",
              "    .dataframe tbody tr th:only-of-type {\n",
              "        vertical-align: middle;\n",
              "    }\n",
              "\n",
              "    .dataframe tbody tr th {\n",
              "        vertical-align: top;\n",
              "    }\n",
              "\n",
              "    .dataframe thead th {\n",
              "        text-align: right;\n",
              "    }\n",
              "</style>\n",
              "<table border=\"1\" class=\"dataframe\">\n",
              "  <thead>\n",
              "    <tr style=\"text-align: right;\">\n",
              "      <th></th>\n",
              "      <th>fixed acidity</th>\n",
              "      <th>volatile acidity</th>\n",
              "      <th>citric acid</th>\n",
              "      <th>residual sugar</th>\n",
              "      <th>chlorides</th>\n",
              "      <th>free sulfur dioxide</th>\n",
              "      <th>total sulfur dioxide</th>\n",
              "      <th>density</th>\n",
              "      <th>pH</th>\n",
              "      <th>sulphates</th>\n",
              "      <th>alcohol</th>\n",
              "      <th>quality</th>\n",
              "    </tr>\n",
              "  </thead>\n",
              "  <tbody>\n",
              "    <tr>\n",
              "      <th>count</th>\n",
              "      <td>6497.000000</td>\n",
              "      <td>6497.000000</td>\n",
              "      <td>6497.000000</td>\n",
              "      <td>6497.000000</td>\n",
              "      <td>6497.000000</td>\n",
              "      <td>6497.000000</td>\n",
              "      <td>6497.000000</td>\n",
              "      <td>6497.000000</td>\n",
              "      <td>6497.000000</td>\n",
              "      <td>6497.000000</td>\n",
              "      <td>6497.000000</td>\n",
              "      <td>6497.000000</td>\n",
              "    </tr>\n",
              "    <tr>\n",
              "      <th>mean</th>\n",
              "      <td>7.215307</td>\n",
              "      <td>0.339666</td>\n",
              "      <td>0.318633</td>\n",
              "      <td>5.443235</td>\n",
              "      <td>0.056034</td>\n",
              "      <td>30.525319</td>\n",
              "      <td>115.744574</td>\n",
              "      <td>0.994697</td>\n",
              "      <td>3.218501</td>\n",
              "      <td>0.531268</td>\n",
              "      <td>10.491801</td>\n",
              "      <td>5.818378</td>\n",
              "    </tr>\n",
              "    <tr>\n",
              "      <th>std</th>\n",
              "      <td>1.296434</td>\n",
              "      <td>0.164636</td>\n",
              "      <td>0.145318</td>\n",
              "      <td>4.757804</td>\n",
              "      <td>0.035034</td>\n",
              "      <td>17.749400</td>\n",
              "      <td>56.521855</td>\n",
              "      <td>0.002999</td>\n",
              "      <td>0.160787</td>\n",
              "      <td>0.148806</td>\n",
              "      <td>1.192712</td>\n",
              "      <td>0.873255</td>\n",
              "    </tr>\n",
              "    <tr>\n",
              "      <th>min</th>\n",
              "      <td>3.800000</td>\n",
              "      <td>0.080000</td>\n",
              "      <td>0.000000</td>\n",
              "      <td>0.600000</td>\n",
              "      <td>0.009000</td>\n",
              "      <td>1.000000</td>\n",
              "      <td>6.000000</td>\n",
              "      <td>0.987110</td>\n",
              "      <td>2.720000</td>\n",
              "      <td>0.220000</td>\n",
              "      <td>8.000000</td>\n",
              "      <td>3.000000</td>\n",
              "    </tr>\n",
              "    <tr>\n",
              "      <th>25%</th>\n",
              "      <td>6.400000</td>\n",
              "      <td>0.230000</td>\n",
              "      <td>0.250000</td>\n",
              "      <td>1.800000</td>\n",
              "      <td>0.038000</td>\n",
              "      <td>17.000000</td>\n",
              "      <td>77.000000</td>\n",
              "      <td>0.992340</td>\n",
              "      <td>3.110000</td>\n",
              "      <td>0.430000</td>\n",
              "      <td>9.500000</td>\n",
              "      <td>5.000000</td>\n",
              "    </tr>\n",
              "    <tr>\n",
              "      <th>50%</th>\n",
              "      <td>7.000000</td>\n",
              "      <td>0.290000</td>\n",
              "      <td>0.310000</td>\n",
              "      <td>3.000000</td>\n",
              "      <td>0.047000</td>\n",
              "      <td>29.000000</td>\n",
              "      <td>118.000000</td>\n",
              "      <td>0.994890</td>\n",
              "      <td>3.210000</td>\n",
              "      <td>0.510000</td>\n",
              "      <td>10.300000</td>\n",
              "      <td>6.000000</td>\n",
              "    </tr>\n",
              "    <tr>\n",
              "      <th>75%</th>\n",
              "      <td>7.700000</td>\n",
              "      <td>0.400000</td>\n",
              "      <td>0.390000</td>\n",
              "      <td>8.100000</td>\n",
              "      <td>0.065000</td>\n",
              "      <td>41.000000</td>\n",
              "      <td>156.000000</td>\n",
              "      <td>0.996990</td>\n",
              "      <td>3.320000</td>\n",
              "      <td>0.600000</td>\n",
              "      <td>11.300000</td>\n",
              "      <td>6.000000</td>\n",
              "    </tr>\n",
              "    <tr>\n",
              "      <th>max</th>\n",
              "      <td>15.900000</td>\n",
              "      <td>1.580000</td>\n",
              "      <td>1.660000</td>\n",
              "      <td>65.800000</td>\n",
              "      <td>0.611000</td>\n",
              "      <td>289.000000</td>\n",
              "      <td>440.000000</td>\n",
              "      <td>1.038980</td>\n",
              "      <td>4.010000</td>\n",
              "      <td>2.000000</td>\n",
              "      <td>14.900000</td>\n",
              "      <td>9.000000</td>\n",
              "    </tr>\n",
              "  </tbody>\n",
              "</table>\n",
              "</div>"
            ],
            "text/plain": [
              "       fixed acidity  volatile acidity  citric acid  residual sugar  \\\n",
              "count    6497.000000       6497.000000  6497.000000     6497.000000   \n",
              "mean        7.215307          0.339666     0.318633        5.443235   \n",
              "std         1.296434          0.164636     0.145318        4.757804   \n",
              "min         3.800000          0.080000     0.000000        0.600000   \n",
              "25%         6.400000          0.230000     0.250000        1.800000   \n",
              "50%         7.000000          0.290000     0.310000        3.000000   \n",
              "75%         7.700000          0.400000     0.390000        8.100000   \n",
              "max        15.900000          1.580000     1.660000       65.800000   \n",
              "\n",
              "         chlorides  free sulfur dioxide  total sulfur dioxide      density  \\\n",
              "count  6497.000000          6497.000000           6497.000000  6497.000000   \n",
              "mean      0.056034            30.525319            115.744574     0.994697   \n",
              "std       0.035034            17.749400             56.521855     0.002999   \n",
              "min       0.009000             1.000000              6.000000     0.987110   \n",
              "25%       0.038000            17.000000             77.000000     0.992340   \n",
              "50%       0.047000            29.000000            118.000000     0.994890   \n",
              "75%       0.065000            41.000000            156.000000     0.996990   \n",
              "max       0.611000           289.000000            440.000000     1.038980   \n",
              "\n",
              "                pH    sulphates      alcohol      quality  \n",
              "count  6497.000000  6497.000000  6497.000000  6497.000000  \n",
              "mean      3.218501     0.531268    10.491801     5.818378  \n",
              "std       0.160787     0.148806     1.192712     0.873255  \n",
              "min       2.720000     0.220000     8.000000     3.000000  \n",
              "25%       3.110000     0.430000     9.500000     5.000000  \n",
              "50%       3.210000     0.510000    10.300000     6.000000  \n",
              "75%       3.320000     0.600000    11.300000     6.000000  \n",
              "max       4.010000     2.000000    14.900000     9.000000  "
            ]
          },
          "execution_count": 222,
          "metadata": {},
          "output_type": "execute_result"
        }
      ],
      "source": [
        "df.describe()"
      ]
    },
    {
      "cell_type": "markdown",
      "metadata": {
        "id": "VGo0ylktwuF3"
      },
      "source": [
        "With our new set of features, let's repeat the entire process from above and see how it performs **out of sample**:"
      ]
    },
    {
      "cell_type": "code",
      "execution_count": null,
      "metadata": {
        "id": "ry9fmu1WwuF3",
        "outputId": "1834276f-4319-46c8-ffc6-4bfb884e21c5"
      },
      "outputs": [
        {
          "name": "stdout",
          "output_type": "stream",
          "text": [
            "Root Mean Squared Error : 0.74\n",
            "R Squared : 0.257\n"
          ]
        }
      ],
      "source": [
        "X = df[['fixed acidity', 'volatile acidity', 'residual sugar', 'density', 'pH', 'alcohol']]\n",
        "y = df['quality']\n",
        "\n",
        "X_train, X_test, y_train, y_test = train_test_split(X, y, train_size=0.7 , random_state=42)\n",
        "\n",
        "lr_small = LinearRegression().fit(X_train, y_train)\n",
        "\n",
        "y_pred = lr_small.predict(X_test)\n",
        "\n",
        "rmse = root_mean_squared_error(y_test, y_pred)\n",
        "r_squared = r2_score(y_test, y_pred)\n",
        "\n",
        "print('Root Mean Squared Error :', round(rmse, 2))\n",
        "print('R Squared :', round(r_squared, 3))"
      ]
    },
    {
      "cell_type": "markdown",
      "metadata": {
        "id": "8UAXIWj-wuF4"
      },
      "source": [
        "With this model, we got a slightly worse RMSE (0.74 vs 0.73) and a slightly lower R Squared value (0.257 vs 0.277).\n",
        "\n",
        "In my opinion, we should consider this a success. Even though we weren't able to improve the performance, we were able to create a model with essentially the same performance by using fewer features. Why is this important?"
      ]
    },
    {
      "cell_type": "markdown",
      "metadata": {
        "id": "EoRklZVEwuF4"
      },
      "source": [
        "**Simpler models are often preferred in machine learning and statistical modeling for several reasons:**\n",
        "\n",
        "Interpretability:\n",
        "- Easier to Understand: Simple models are generally easier to interpret. For instance, a linear regression model provides clear insights into how each feature influences the outcome, allowing stakeholders to understand the relationships more readily.\n",
        "\n",
        "Reduced Risk of Overfitting:\n",
        "- Generalization: Simpler models are less likely to capture noise in the training data. Overfitting occurs when a model learns the training data too well, including its noise, which can lead to poor performance on unseen data. Simpler models tend to generalize better.\n",
        "\n",
        "Faster Training and Prediction:\n",
        "- Efficiency: Simpler models typically require less computational power and time to train, making them more suitable for large datasets or when quick predictions are necessary.\n",
        "\n",
        "Robustness:\n",
        "- Less Sensitive to Outliers: Simpler models can be more robust to outliers and noise in the data. Complex models might fit to outliers too closely, skewing the results.\n",
        "\n",
        "Future Data:\n",
        "- In the future, we may acquire new data, and some of that data may have missing values. Between two models with the same predictive performance, a model that uses more features is more likely to need those missing values when making predictions."
      ]
    },
    {
      "cell_type": "markdown",
      "metadata": {
        "id": "4m1ZbRqKwuF4"
      },
      "source": [
        "## Extra Practice Problems!"
      ]
    },
    {
      "cell_type": "markdown",
      "metadata": {
        "id": "F3k-E2NcwuF4"
      },
      "source": [
        "#### Try creating every possible simple linear regression model with only one predictor. Which one performs best?"
      ]
    },
    {
      "cell_type": "code",
      "execution_count": null,
      "metadata": {
        "id": "cb1Uws8fwuF4"
      },
      "outputs": [],
      "source": [
        "# Answer here:\n"
      ]
    },
    {
      "cell_type": "markdown",
      "metadata": {
        "id": "g30jWv-BwuF4"
      },
      "source": [
        "#### Can you create a model which performs better out of sample than the regression model with all predictors?"
      ]
    },
    {
      "cell_type": "code",
      "execution_count": null,
      "metadata": {
        "id": "-AFfwmZbwuF4"
      },
      "outputs": [],
      "source": [
        "# Answer here:\n"
      ]
    }
  ],
  "metadata": {
    "colab": {
      "provenance": [],
      "include_colab_link": true
    },
    "kernelspec": {
      "display_name": "Python 3",
      "language": "python",
      "name": "python3"
    },
    "language_info": {
      "codemirror_mode": {
        "name": "ipython",
        "version": 3
      },
      "file_extension": ".py",
      "mimetype": "text/x-python",
      "name": "python",
      "nbconvert_exporter": "python",
      "pygments_lexer": "ipython3",
      "version": "3.11.9"
    },
    "papermill": {
      "duration": 10.219842,
      "end_time": "2020-11-23T18:37:07.394464",
      "environment_variables": {},
      "exception": null,
      "input_path": "__notebook__.ipynb",
      "output_path": "__notebook__.ipynb",
      "parameters": {},
      "start_time": "2020-11-23T18:36:57.174622",
      "version": "2.1.0"
    }
  },
  "nbformat": 4,
  "nbformat_minor": 0
}