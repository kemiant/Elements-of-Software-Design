{
  "cells": [
    {
      "cell_type": "markdown",
      "metadata": {
        "id": "view-in-github",
        "colab_type": "text"
      },
      "source": [
        "<a href=\"https://colab.research.google.com/github/kemiant/Elements-of-Software-Design/blob/main/1_EDA.ipynb\" target=\"_parent\"><img src=\"https://colab.research.google.com/assets/colab-badge.svg\" alt=\"Open In Colab\"/></a>"
      ]
    },
    {
      "cell_type": "markdown",
      "metadata": {
        "id": "3pdKd2w234Xe"
      },
      "source": [
        "# Exploratory Data Analysis (EDA)"
      ]
    },
    {
      "cell_type": "markdown",
      "metadata": {
        "id": "Jfc0a9w2oJ4o"
      },
      "source": [
        "## What is EDA?"
      ]
    },
    {
      "cell_type": "markdown",
      "metadata": {
        "id": "t5VTPihuoJ4p"
      },
      "source": [
        "Exploratory Data Analysis (EDA) is basically a way of looking at data to get a feel for what’s going on. You use charts, graphs, and simple stats to spot patterns, trends, and any weird stuff that doesn’t fit. It’s important because it helps you understand the data before diving into deeper analysis or making decisions. With EDA, you can catch mistakes early, see relationships between things, and make sure you’re on the right track with your analysis."
      ]
    },
    {
      "cell_type": "markdown",
      "metadata": {
        "id": "DVFuvrc8oJ4t"
      },
      "source": [
        "Let's get set up by importing our IMBD data set from earlier using pandas:"
      ]
    },
    {
      "cell_type": "code",
      "execution_count": null,
      "metadata": {
        "id": "bCKMns3toJ4u"
      },
      "outputs": [],
      "source": [
        "import pandas as pd\n",
        "df = pd.read_csv('IMDB-Movie-Data.csv')\n",
        "df['Rating Category'] = df['Rating'].apply(lambda x: 'good' if x >= 8.0 else 'bad')"
      ]
    },
    {
      "cell_type": "code",
      "execution_count": null,
      "metadata": {
        "id": "evwBYAAQoJ4w",
        "outputId": "da4f9b7b-5576-4201-c4f7-76c77cd40ab8"
      },
      "outputs": [
        {
          "data": {
            "text/html": [
              "<div>\n",
              "<style scoped>\n",
              "    .dataframe tbody tr th:only-of-type {\n",
              "        vertical-align: middle;\n",
              "    }\n",
              "\n",
              "    .dataframe tbody tr th {\n",
              "        vertical-align: top;\n",
              "    }\n",
              "\n",
              "    .dataframe thead th {\n",
              "        text-align: right;\n",
              "    }\n",
              "</style>\n",
              "<table border=\"1\" class=\"dataframe\">\n",
              "  <thead>\n",
              "    <tr style=\"text-align: right;\">\n",
              "      <th></th>\n",
              "      <th>Rank</th>\n",
              "      <th>Title</th>\n",
              "      <th>Genre</th>\n",
              "      <th>Description</th>\n",
              "      <th>Director</th>\n",
              "      <th>Actors</th>\n",
              "      <th>Year</th>\n",
              "      <th>Runtime (Minutes)</th>\n",
              "      <th>Rating</th>\n",
              "      <th>Votes</th>\n",
              "      <th>Revenue (Millions)</th>\n",
              "      <th>Metascore</th>\n",
              "      <th>Rating Category</th>\n",
              "    </tr>\n",
              "  </thead>\n",
              "  <tbody>\n",
              "    <tr>\n",
              "      <th>0</th>\n",
              "      <td>1</td>\n",
              "      <td>Guardians of the Galaxy</td>\n",
              "      <td>Action,Adventure,Sci-Fi</td>\n",
              "      <td>A group of intergalactic criminals are forced ...</td>\n",
              "      <td>James Gunn</td>\n",
              "      <td>Chris Pratt, Vin Diesel, Bradley Cooper, Zoe S...</td>\n",
              "      <td>2014</td>\n",
              "      <td>121</td>\n",
              "      <td>8.1</td>\n",
              "      <td>757074</td>\n",
              "      <td>333.13</td>\n",
              "      <td>76.0</td>\n",
              "      <td>good</td>\n",
              "    </tr>\n",
              "    <tr>\n",
              "      <th>1</th>\n",
              "      <td>2</td>\n",
              "      <td>Prometheus</td>\n",
              "      <td>Adventure,Mystery,Sci-Fi</td>\n",
              "      <td>Following clues to the origin of mankind, a te...</td>\n",
              "      <td>Ridley Scott</td>\n",
              "      <td>Noomi Rapace, Logan Marshall-Green, Michael Fa...</td>\n",
              "      <td>2012</td>\n",
              "      <td>124</td>\n",
              "      <td>7.0</td>\n",
              "      <td>485820</td>\n",
              "      <td>126.46</td>\n",
              "      <td>65.0</td>\n",
              "      <td>bad</td>\n",
              "    </tr>\n",
              "    <tr>\n",
              "      <th>2</th>\n",
              "      <td>3</td>\n",
              "      <td>Split</td>\n",
              "      <td>Horror,Thriller</td>\n",
              "      <td>Three girls are kidnapped by a man with a diag...</td>\n",
              "      <td>M. Night Shyamalan</td>\n",
              "      <td>James McAvoy, Anya Taylor-Joy, Haley Lu Richar...</td>\n",
              "      <td>2016</td>\n",
              "      <td>117</td>\n",
              "      <td>7.3</td>\n",
              "      <td>157606</td>\n",
              "      <td>138.12</td>\n",
              "      <td>62.0</td>\n",
              "      <td>bad</td>\n",
              "    </tr>\n",
              "    <tr>\n",
              "      <th>3</th>\n",
              "      <td>4</td>\n",
              "      <td>Sing</td>\n",
              "      <td>Animation,Comedy,Family</td>\n",
              "      <td>In a city of humanoid animals, a hustling thea...</td>\n",
              "      <td>Christophe Lourdelet</td>\n",
              "      <td>Matthew McConaughey,Reese Witherspoon, Seth Ma...</td>\n",
              "      <td>2016</td>\n",
              "      <td>108</td>\n",
              "      <td>7.2</td>\n",
              "      <td>60545</td>\n",
              "      <td>270.32</td>\n",
              "      <td>59.0</td>\n",
              "      <td>bad</td>\n",
              "    </tr>\n",
              "    <tr>\n",
              "      <th>4</th>\n",
              "      <td>5</td>\n",
              "      <td>Suicide Squad</td>\n",
              "      <td>Action,Adventure,Fantasy</td>\n",
              "      <td>A secret government agency recruits some of th...</td>\n",
              "      <td>David Ayer</td>\n",
              "      <td>Will Smith, Jared Leto, Margot Robbie, Viola D...</td>\n",
              "      <td>2016</td>\n",
              "      <td>123</td>\n",
              "      <td>6.2</td>\n",
              "      <td>393727</td>\n",
              "      <td>325.02</td>\n",
              "      <td>40.0</td>\n",
              "      <td>bad</td>\n",
              "    </tr>\n",
              "  </tbody>\n",
              "</table>\n",
              "</div>"
            ],
            "text/plain": [
              "   Rank                    Title                     Genre  \\\n",
              "0     1  Guardians of the Galaxy   Action,Adventure,Sci-Fi   \n",
              "1     2               Prometheus  Adventure,Mystery,Sci-Fi   \n",
              "2     3                    Split           Horror,Thriller   \n",
              "3     4                     Sing   Animation,Comedy,Family   \n",
              "4     5            Suicide Squad  Action,Adventure,Fantasy   \n",
              "\n",
              "                                         Description              Director  \\\n",
              "0  A group of intergalactic criminals are forced ...            James Gunn   \n",
              "1  Following clues to the origin of mankind, a te...          Ridley Scott   \n",
              "2  Three girls are kidnapped by a man with a diag...    M. Night Shyamalan   \n",
              "3  In a city of humanoid animals, a hustling thea...  Christophe Lourdelet   \n",
              "4  A secret government agency recruits some of th...            David Ayer   \n",
              "\n",
              "                                              Actors  Year  Runtime (Minutes)  \\\n",
              "0  Chris Pratt, Vin Diesel, Bradley Cooper, Zoe S...  2014                121   \n",
              "1  Noomi Rapace, Logan Marshall-Green, Michael Fa...  2012                124   \n",
              "2  James McAvoy, Anya Taylor-Joy, Haley Lu Richar...  2016                117   \n",
              "3  Matthew McConaughey,Reese Witherspoon, Seth Ma...  2016                108   \n",
              "4  Will Smith, Jared Leto, Margot Robbie, Viola D...  2016                123   \n",
              "\n",
              "   Rating   Votes  Revenue (Millions)  Metascore Rating Category  \n",
              "0     8.1  757074              333.13       76.0            good  \n",
              "1     7.0  485820              126.46       65.0             bad  \n",
              "2     7.3  157606              138.12       62.0             bad  \n",
              "3     7.2   60545              270.32       59.0             bad  \n",
              "4     6.2  393727              325.02       40.0             bad  "
            ]
          },
          "execution_count": 2,
          "metadata": {},
          "output_type": "execute_result"
        }
      ],
      "source": [
        "df.iloc[:5]"
      ]
    },
    {
      "cell_type": "markdown",
      "metadata": {
        "id": "PwkJR9qj34Xw"
      },
      "source": [
        "## Plotting\n",
        "\n",
        "Pandas integrates very well with Matplotlib, so you get the ability to plot directly off DataFrames and Series. To get started we need to import Matplotlib (`pip install matplotlib`):"
      ]
    },
    {
      "cell_type": "code",
      "execution_count": null,
      "metadata": {
        "id": "5aAWV4hjoJ41"
      },
      "outputs": [],
      "source": [
        "#pip install matplotlib"
      ]
    },
    {
      "cell_type": "code",
      "execution_count": null,
      "metadata": {
        "id": "ZCAS8Hpi34Xw"
      },
      "outputs": [],
      "source": [
        "import matplotlib.pyplot as plt\n",
        "plt.rcParams.update({'figure.figsize': (5, 4)}) # set standard plot size"
      ]
    },
    {
      "cell_type": "markdown",
      "metadata": {
        "id": "oKg02sh534Xw"
      },
      "source": [
        "Now we can begin. There won't be a lot of coverage on plotting, but it should be enough to explore your data easily.\n",
        "\n",
        "**Side note:**\n",
        "For categorical variables utilize Bar Charts* and Boxplots.  For numerical variables utilize Histograms, Scatterplots, Line graphs, and Boxplots.\n",
        "\n",
        "Let's plot the relationship between ratings and revenue. All we need to do is call `.plot()` on `df` with some info about how to construct the plot:"
      ]
    },
    {
      "cell_type": "code",
      "execution_count": null,
      "metadata": {
        "colab": {
          "base_uri": "https://localhost:8080/",
          "height": 758
        },
        "id": "MX2NXvFY34Xw",
        "outputId": "cd77a962-ea29-4efb-faca-56097724a35c"
      },
      "outputs": [
        {
          "data": {
            "text/plain": [
              "<Axes: title={'center': 'Revenue (Millions) vs Rating'}, xlabel='Rating', ylabel='Revenue (Millions)'>"
            ]
          },
          "execution_count": 5,
          "metadata": {},
          "output_type": "execute_result"
        },
        {
          "data": {
            "image/png": "[encoded data removed]",
            "text/plain": [
              "<Figure size 500x400 with 1 Axes>"
            ]
          },
          "metadata": {},
          "output_type": "display_data"
        }
      ],
      "source": [
        "df.plot(kind='scatter', x='Rating', y='Revenue (Millions)', title='Revenue (Millions) vs Rating')"
      ]
    },
    {
      "cell_type": "markdown",
      "metadata": {
        "id": "0fPUycNG34Xw"
      },
      "source": [
        "If we want to plot a simple Histogram based on a single column, we can call plot on a column:"
      ]
    },
    {
      "cell_type": "code",
      "execution_count": null,
      "metadata": {
        "colab": {
          "base_uri": "https://localhost:8080/",
          "height": 725
        },
        "id": "cI1xxAmi34Xw",
        "outputId": "7c7ba173-35b0-482e-e540-769b5af48e81"
      },
      "outputs": [
        {
          "data": {
            "text/plain": [
              "<Axes: title={'center': 'Rating'}, ylabel='Frequency'>"
            ]
          },
          "execution_count": 6,
          "metadata": {},
          "output_type": "execute_result"
        },
        {
          "data": {
            "image/png": "[encoded data removed]",
            "text/plain": [
              "<Figure size 500x400 with 1 Axes>"
            ]
          },
          "metadata": {},
          "output_type": "display_data"
        }
      ],
      "source": [
        "df['Rating'].plot(kind='hist', title='Rating')"
      ]
    },
    {
      "cell_type": "markdown",
      "metadata": {
        "id": "YfE09sYe34Xw"
      },
      "source": [
        "Do you remember the `.describe()` from the pandas workshop? Well, there's a graphical representation of the interquartile range, called the Boxplot. Let's recall what `describe()` gives us on the ratings column:"
      ]
    },
    {
      "cell_type": "code",
      "execution_count": null,
      "metadata": {
        "colab": {
          "base_uri": "https://localhost:8080/",
          "height": 335
        },
        "id": "rdJB9HZP34Xw",
        "outputId": "66fb2d6b-c454-4b68-86b5-b4da1ba62660"
      },
      "outputs": [
        {
          "data": {
            "text/plain": [
              "count    1000.000000\n",
              "mean        6.723200\n",
              "std         0.945429\n",
              "min         1.900000\n",
              "25%         6.200000\n",
              "50%         6.800000\n",
              "75%         7.400000\n",
              "max         9.000000\n",
              "Name: Rating, dtype: float64"
            ]
          },
          "execution_count": 7,
          "metadata": {},
          "output_type": "execute_result"
        }
      ],
      "source": [
        "df['Rating'].describe()"
      ]
    },
    {
      "cell_type": "markdown",
      "metadata": {
        "id": "KpZWufBC34Xw"
      },
      "source": [
        "Using a Boxplot we can visualize this data:"
      ]
    },
    {
      "cell_type": "code",
      "execution_count": null,
      "metadata": {
        "colab": {
          "base_uri": "https://localhost:8080/",
          "height": 690
        },
        "id": "-lPm4FQQ34Xx",
        "outputId": "e9549ee1-5d8f-4c27-bb84-e6cc4e13bfd5"
      },
      "outputs": [
        {
          "data": {
            "text/plain": [
              "<Axes: >"
            ]
          },
          "execution_count": 8,
          "metadata": {},
          "output_type": "execute_result"
        },
        {
          "data": {
            "image/png": "[encoded data removed]",
            "text/plain": [
              "<Figure size 500x400 with 1 Axes>"
            ]
          },
          "metadata": {},
          "output_type": "display_data"
        }
      ],
      "source": [
        "df['Rating'].plot(kind=\"box\")"
      ]
    },
    {
      "cell_type": "markdown",
      "metadata": {
        "id": "JfczQYjN34Xx"
      },
      "source": [
        "<figure>\n",
        "<img src=\"https://i1.wp.com/flowingdata.com/wp-content/uploads/2008/02/box-plot-explained.gif\" />\n",
        "    <figcaption>Source: *Flowing Data*</figcaption>\n",
        "</figure>\n",
        "\n",
        "\n",
        "By combining categorical and continuous data, we can create a Boxplot of revenue that is grouped by the Rating Category we created above:"
      ]
    },
    {
      "cell_type": "code",
      "execution_count": null,
      "metadata": {
        "colab": {
          "base_uri": "https://localhost:8080/",
          "height": 772
        },
        "id": "edr2_U5w34Xx",
        "outputId": "a234f0c5-6233-407b-8b02-50e7bf4505e5"
      },
      "outputs": [
        {
          "data": {
            "text/plain": [
              "Text(0.5, 1.0, 'Revenue (Millions) by Rating Category')"
            ]
          },
          "execution_count": 9,
          "metadata": {},
          "output_type": "execute_result"
        },
        {
          "data": {
            "image/png": "[encoded data removed]",
            "text/plain": [
              "<Figure size 500x400 with 1 Axes>"
            ]
          },
          "metadata": {},
          "output_type": "display_data"
        }
      ],
      "source": [
        "df.boxplot(column='Revenue (Millions)', by='Rating Category')\n",
        "plt.suptitle('')\n",
        "plt.title(\"Revenue (Millions) by Rating Category\")"
      ]
    },
    {
      "cell_type": "markdown",
      "metadata": {
        "id": "KCUWmBWAjE0i"
      },
      "source": [
        "## Practice Problem"
      ]
    },
    {
      "cell_type": "markdown",
      "metadata": {
        "id": "9bMEONq-jG1M"
      },
      "source": [
        "#### Use a visualization to see if there is a relationship between movie runtime and rating. What do you notice?"
      ]
    },
    {
      "cell_type": "code",
      "execution_count": null,
      "metadata": {
        "id": "jNCf_bnWhkTz"
      },
      "outputs": [],
      "source": [
        "# Answer here:\n"
      ]
    },
    {
      "cell_type": "markdown",
      "metadata": {
        "id": "MWllGPLcoJ49"
      },
      "source": [
        "## Practice Problem"
      ]
    },
    {
      "cell_type": "markdown",
      "metadata": {
        "id": "lFLoIRAGoJ49"
      },
      "source": [
        "#### Plot the 10 most common directors in this dataset by the number of movies they have directed"
      ]
    },
    {
      "cell_type": "code",
      "execution_count": null,
      "metadata": {
        "id": "AaK9KwvooJ49"
      },
      "outputs": [],
      "source": [
        "# Answer here:\n"
      ]
    },
    {
      "cell_type": "markdown",
      "metadata": {
        "id": "KmgOUPsnoJ49"
      },
      "source": [
        "## Relationships Between Variables"
      ]
    },
    {
      "cell_type": "code",
      "execution_count": null,
      "metadata": {
        "id": "VbVjnPMmoJ49",
        "outputId": "57bfda65-e519-422f-c95d-cd5c20a60e60"
      },
      "outputs": [
        {
          "data": {
            "text/html": [
              "<div>\n",
              "<style scoped>\n",
              "    .dataframe tbody tr th:only-of-type {\n",
              "        vertical-align: middle;\n",
              "    }\n",
              "\n",
              "    .dataframe tbody tr th {\n",
              "        vertical-align: top;\n",
              "    }\n",
              "\n",
              "    .dataframe thead th {\n",
              "        text-align: right;\n",
              "    }\n",
              "</style>\n",
              "<table border=\"1\" class=\"dataframe\">\n",
              "  <thead>\n",
              "    <tr style=\"text-align: right;\">\n",
              "      <th></th>\n",
              "      <th>CS_PropertyID</th>\n",
              "      <th>cluster</th>\n",
              "      <th>size</th>\n",
              "      <th>empl_gr</th>\n",
              "      <th>Rent</th>\n",
              "      <th>leasing_rate</th>\n",
              "      <th>stories</th>\n",
              "      <th>age</th>\n",
              "      <th>renovated</th>\n",
              "      <th>class_a</th>\n",
              "      <th>...</th>\n",
              "      <th>green_rating</th>\n",
              "      <th>net</th>\n",
              "      <th>amenities</th>\n",
              "      <th>cd_total_07</th>\n",
              "      <th>hd_total07</th>\n",
              "      <th>total_dd_07</th>\n",
              "      <th>Precipitation</th>\n",
              "      <th>Gas_Costs</th>\n",
              "      <th>Electricity_Costs</th>\n",
              "      <th>cluster_rent</th>\n",
              "    </tr>\n",
              "  </thead>\n",
              "  <tbody>\n",
              "    <tr>\n",
              "      <th>0</th>\n",
              "      <td>379105</td>\n",
              "      <td>1</td>\n",
              "      <td>260300</td>\n",
              "      <td>2.22</td>\n",
              "      <td>38.56</td>\n",
              "      <td>91.39</td>\n",
              "      <td>14</td>\n",
              "      <td>16</td>\n",
              "      <td>0</td>\n",
              "      <td>1</td>\n",
              "      <td>...</td>\n",
              "      <td>1</td>\n",
              "      <td>0</td>\n",
              "      <td>1</td>\n",
              "      <td>4988</td>\n",
              "      <td>58</td>\n",
              "      <td>5046</td>\n",
              "      <td>42.57</td>\n",
              "      <td>0.013700</td>\n",
              "      <td>0.029000</td>\n",
              "      <td>36.78</td>\n",
              "    </tr>\n",
              "    <tr>\n",
              "      <th>1</th>\n",
              "      <td>122151</td>\n",
              "      <td>1</td>\n",
              "      <td>67861</td>\n",
              "      <td>2.22</td>\n",
              "      <td>28.57</td>\n",
              "      <td>87.14</td>\n",
              "      <td>5</td>\n",
              "      <td>27</td>\n",
              "      <td>0</td>\n",
              "      <td>0</td>\n",
              "      <td>...</td>\n",
              "      <td>0</td>\n",
              "      <td>0</td>\n",
              "      <td>1</td>\n",
              "      <td>4988</td>\n",
              "      <td>58</td>\n",
              "      <td>5046</td>\n",
              "      <td>42.57</td>\n",
              "      <td>0.013731</td>\n",
              "      <td>0.029045</td>\n",
              "      <td>36.78</td>\n",
              "    </tr>\n",
              "    <tr>\n",
              "      <th>2</th>\n",
              "      <td>379839</td>\n",
              "      <td>1</td>\n",
              "      <td>164848</td>\n",
              "      <td>2.22</td>\n",
              "      <td>33.31</td>\n",
              "      <td>88.94</td>\n",
              "      <td>13</td>\n",
              "      <td>36</td>\n",
              "      <td>1</td>\n",
              "      <td>0</td>\n",
              "      <td>...</td>\n",
              "      <td>0</td>\n",
              "      <td>0</td>\n",
              "      <td>1</td>\n",
              "      <td>4988</td>\n",
              "      <td>58</td>\n",
              "      <td>5046</td>\n",
              "      <td>42.57</td>\n",
              "      <td>0.013731</td>\n",
              "      <td>0.029045</td>\n",
              "      <td>36.78</td>\n",
              "    </tr>\n",
              "    <tr>\n",
              "      <th>3</th>\n",
              "      <td>94614</td>\n",
              "      <td>1</td>\n",
              "      <td>93372</td>\n",
              "      <td>2.22</td>\n",
              "      <td>35.00</td>\n",
              "      <td>97.04</td>\n",
              "      <td>13</td>\n",
              "      <td>46</td>\n",
              "      <td>1</td>\n",
              "      <td>0</td>\n",
              "      <td>...</td>\n",
              "      <td>0</td>\n",
              "      <td>0</td>\n",
              "      <td>0</td>\n",
              "      <td>4988</td>\n",
              "      <td>58</td>\n",
              "      <td>5046</td>\n",
              "      <td>42.57</td>\n",
              "      <td>0.013731</td>\n",
              "      <td>0.029045</td>\n",
              "      <td>36.78</td>\n",
              "    </tr>\n",
              "    <tr>\n",
              "      <th>4</th>\n",
              "      <td>379285</td>\n",
              "      <td>1</td>\n",
              "      <td>174307</td>\n",
              "      <td>2.22</td>\n",
              "      <td>40.69</td>\n",
              "      <td>96.58</td>\n",
              "      <td>16</td>\n",
              "      <td>5</td>\n",
              "      <td>0</td>\n",
              "      <td>1</td>\n",
              "      <td>...</td>\n",
              "      <td>0</td>\n",
              "      <td>0</td>\n",
              "      <td>1</td>\n",
              "      <td>4988</td>\n",
              "      <td>58</td>\n",
              "      <td>5046</td>\n",
              "      <td>42.57</td>\n",
              "      <td>0.013731</td>\n",
              "      <td>0.029045</td>\n",
              "      <td>36.78</td>\n",
              "    </tr>\n",
              "  </tbody>\n",
              "</table>\n",
              "<p>5 rows × 23 columns</p>\n",
              "</div>"
            ],
            "text/plain": [
              "   CS_PropertyID  cluster    size  empl_gr   Rent  leasing_rate  stories  age  \\\n",
              "0         379105        1  260300     2.22  38.56         91.39       14   16   \n",
              "1         122151        1   67861     2.22  28.57         87.14        5   27   \n",
              "2         379839        1  164848     2.22  33.31         88.94       13   36   \n",
              "3          94614        1   93372     2.22  35.00         97.04       13   46   \n",
              "4         379285        1  174307     2.22  40.69         96.58       16    5   \n",
              "\n",
              "   renovated  class_a  ...  green_rating  net  amenities  cd_total_07  \\\n",
              "0          0        1  ...             1    0          1         4988   \n",
              "1          0        0  ...             0    0          1         4988   \n",
              "2          1        0  ...             0    0          1         4988   \n",
              "3          1        0  ...             0    0          0         4988   \n",
              "4          0        1  ...             0    0          1         4988   \n",
              "\n",
              "   hd_total07  total_dd_07  Precipitation  Gas_Costs  Electricity_Costs  \\\n",
              "0          58         5046          42.57   0.013700           0.029000   \n",
              "1          58         5046          42.57   0.013731           0.029045   \n",
              "2          58         5046          42.57   0.013731           0.029045   \n",
              "3          58         5046          42.57   0.013731           0.029045   \n",
              "4          58         5046          42.57   0.013731           0.029045   \n",
              "\n",
              "   cluster_rent  \n",
              "0         36.78  \n",
              "1         36.78  \n",
              "2         36.78  \n",
              "3         36.78  \n",
              "4         36.78  \n",
              "\n",
              "[5 rows x 23 columns]"
            ]
          },
          "execution_count": 12,
          "metadata": {},
          "output_type": "execute_result"
        }
      ],
      "source": [
        "# read in the new dataset\n",
        "df = pd.read_csv('greenbuildings.csv')\n",
        "df.iloc[:5]"
      ]
    },
    {
      "cell_type": "code",
      "execution_count": null,
      "metadata": {
        "id": "VG45p9vKoJ49",
        "outputId": "3bf7c5fe-5fc7-4180-9d85-eaa3cd70d2f6"
      },
      "outputs": [
        {
          "data": {
            "text/html": [
              "<div>\n",
              "<style scoped>\n",
              "    .dataframe tbody tr th:only-of-type {\n",
              "        vertical-align: middle;\n",
              "    }\n",
              "\n",
              "    .dataframe tbody tr th {\n",
              "        vertical-align: top;\n",
              "    }\n",
              "\n",
              "    .dataframe thead th {\n",
              "        text-align: right;\n",
              "    }\n",
              "</style>\n",
              "<table border=\"1\" class=\"dataframe\">\n",
              "  <thead>\n",
              "    <tr style=\"text-align: right;\">\n",
              "      <th></th>\n",
              "      <th>CS_PropertyID</th>\n",
              "      <th>cluster</th>\n",
              "      <th>size</th>\n",
              "      <th>empl_gr</th>\n",
              "      <th>Rent</th>\n",
              "      <th>leasing_rate</th>\n",
              "      <th>stories</th>\n",
              "      <th>age</th>\n",
              "      <th>renovated</th>\n",
              "      <th>class_a</th>\n",
              "      <th>...</th>\n",
              "      <th>green_rating</th>\n",
              "      <th>net</th>\n",
              "      <th>amenities</th>\n",
              "      <th>cd_total_07</th>\n",
              "      <th>hd_total07</th>\n",
              "      <th>total_dd_07</th>\n",
              "      <th>Precipitation</th>\n",
              "      <th>Gas_Costs</th>\n",
              "      <th>Electricity_Costs</th>\n",
              "      <th>cluster_rent</th>\n",
              "    </tr>\n",
              "  </thead>\n",
              "  <tbody>\n",
              "    <tr>\n",
              "      <th>count</th>\n",
              "      <td>7.894000e+03</td>\n",
              "      <td>7894.000000</td>\n",
              "      <td>7.894000e+03</td>\n",
              "      <td>7820.000000</td>\n",
              "      <td>7894.000000</td>\n",
              "      <td>7894.000000</td>\n",
              "      <td>7894.000000</td>\n",
              "      <td>7894.000000</td>\n",
              "      <td>7894.000000</td>\n",
              "      <td>7894.000000</td>\n",
              "      <td>...</td>\n",
              "      <td>7894.000000</td>\n",
              "      <td>7894.000000</td>\n",
              "      <td>7894.000000</td>\n",
              "      <td>7894.000000</td>\n",
              "      <td>7894.000000</td>\n",
              "      <td>7894.000000</td>\n",
              "      <td>7894.000000</td>\n",
              "      <td>7894.000000</td>\n",
              "      <td>7894.000000</td>\n",
              "      <td>7894.000000</td>\n",
              "    </tr>\n",
              "    <tr>\n",
              "      <th>mean</th>\n",
              "      <td>4.530025e+05</td>\n",
              "      <td>588.615024</td>\n",
              "      <td>2.346377e+05</td>\n",
              "      <td>3.206720</td>\n",
              "      <td>28.418569</td>\n",
              "      <td>82.606371</td>\n",
              "      <td>13.584495</td>\n",
              "      <td>47.243983</td>\n",
              "      <td>0.379529</td>\n",
              "      <td>0.399924</td>\n",
              "      <td>...</td>\n",
              "      <td>0.086775</td>\n",
              "      <td>0.034710</td>\n",
              "      <td>0.526602</td>\n",
              "      <td>1229.354193</td>\n",
              "      <td>3432.042311</td>\n",
              "      <td>4661.396504</td>\n",
              "      <td>31.081312</td>\n",
              "      <td>0.011336</td>\n",
              "      <td>0.030959</td>\n",
              "      <td>27.497285</td>\n",
              "    </tr>\n",
              "    <tr>\n",
              "      <th>std</th>\n",
              "      <td>7.434053e+05</td>\n",
              "      <td>399.907509</td>\n",
              "      <td>2.975334e+05</td>\n",
              "      <td>8.162989</td>\n",
              "      <td>15.075483</td>\n",
              "      <td>21.380315</td>\n",
              "      <td>12.287083</td>\n",
              "      <td>32.194393</td>\n",
              "      <td>0.485300</td>\n",
              "      <td>0.489913</td>\n",
              "      <td>...</td>\n",
              "      <td>0.281523</td>\n",
              "      <td>0.183056</td>\n",
              "      <td>0.499323</td>\n",
              "      <td>1104.588925</td>\n",
              "      <td>1976.937255</td>\n",
              "      <td>1984.326881</td>\n",
              "      <td>11.575219</td>\n",
              "      <td>0.002406</td>\n",
              "      <td>0.008534</td>\n",
              "      <td>10.598952</td>\n",
              "    </tr>\n",
              "    <tr>\n",
              "      <th>min</th>\n",
              "      <td>1.000000e+00</td>\n",
              "      <td>1.000000</td>\n",
              "      <td>1.624000e+03</td>\n",
              "      <td>-24.950000</td>\n",
              "      <td>2.980000</td>\n",
              "      <td>0.000000</td>\n",
              "      <td>1.000000</td>\n",
              "      <td>0.000000</td>\n",
              "      <td>0.000000</td>\n",
              "      <td>0.000000</td>\n",
              "      <td>...</td>\n",
              "      <td>0.000000</td>\n",
              "      <td>0.000000</td>\n",
              "      <td>0.000000</td>\n",
              "      <td>39.000000</td>\n",
              "      <td>0.000000</td>\n",
              "      <td>2103.000000</td>\n",
              "      <td>10.460000</td>\n",
              "      <td>0.009487</td>\n",
              "      <td>0.017800</td>\n",
              "      <td>9.000000</td>\n",
              "    </tr>\n",
              "    <tr>\n",
              "      <th>25%</th>\n",
              "      <td>1.574520e+05</td>\n",
              "      <td>272.000000</td>\n",
              "      <td>5.089125e+04</td>\n",
              "      <td>1.740000</td>\n",
              "      <td>19.500000</td>\n",
              "      <td>77.850000</td>\n",
              "      <td>4.000000</td>\n",
              "      <td>23.000000</td>\n",
              "      <td>0.000000</td>\n",
              "      <td>0.000000</td>\n",
              "      <td>...</td>\n",
              "      <td>0.000000</td>\n",
              "      <td>0.000000</td>\n",
              "      <td>0.000000</td>\n",
              "      <td>684.000000</td>\n",
              "      <td>1419.000000</td>\n",
              "      <td>2869.000000</td>\n",
              "      <td>22.710000</td>\n",
              "      <td>0.010296</td>\n",
              "      <td>0.023300</td>\n",
              "      <td>20.000000</td>\n",
              "    </tr>\n",
              "    <tr>\n",
              "      <th>50%</th>\n",
              "      <td>3.132530e+05</td>\n",
              "      <td>476.000000</td>\n",
              "      <td>1.288380e+05</td>\n",
              "      <td>1.970000</td>\n",
              "      <td>25.160000</td>\n",
              "      <td>89.530000</td>\n",
              "      <td>10.000000</td>\n",
              "      <td>34.000000</td>\n",
              "      <td>0.000000</td>\n",
              "      <td>0.000000</td>\n",
              "      <td>...</td>\n",
              "      <td>0.000000</td>\n",
              "      <td>0.000000</td>\n",
              "      <td>1.000000</td>\n",
              "      <td>966.000000</td>\n",
              "      <td>2739.000000</td>\n",
              "      <td>4979.000000</td>\n",
              "      <td>23.160000</td>\n",
              "      <td>0.010296</td>\n",
              "      <td>0.032737</td>\n",
              "      <td>25.145000</td>\n",
              "    </tr>\n",
              "    <tr>\n",
              "      <th>75%</th>\n",
              "      <td>4.411885e+05</td>\n",
              "      <td>1044.000000</td>\n",
              "      <td>2.942120e+05</td>\n",
              "      <td>2.380000</td>\n",
              "      <td>34.180000</td>\n",
              "      <td>96.440000</td>\n",
              "      <td>19.000000</td>\n",
              "      <td>79.000000</td>\n",
              "      <td>1.000000</td>\n",
              "      <td>1.000000</td>\n",
              "      <td>...</td>\n",
              "      <td>0.000000</td>\n",
              "      <td>0.000000</td>\n",
              "      <td>1.000000</td>\n",
              "      <td>1620.000000</td>\n",
              "      <td>4796.000000</td>\n",
              "      <td>6413.000000</td>\n",
              "      <td>43.890000</td>\n",
              "      <td>0.011816</td>\n",
              "      <td>0.037808</td>\n",
              "      <td>34.000000</td>\n",
              "    </tr>\n",
              "    <tr>\n",
              "      <th>max</th>\n",
              "      <td>6.208103e+06</td>\n",
              "      <td>1230.000000</td>\n",
              "      <td>3.781045e+06</td>\n",
              "      <td>67.780000</td>\n",
              "      <td>250.000000</td>\n",
              "      <td>100.000000</td>\n",
              "      <td>110.000000</td>\n",
              "      <td>187.000000</td>\n",
              "      <td>1.000000</td>\n",
              "      <td>1.000000</td>\n",
              "      <td>...</td>\n",
              "      <td>1.000000</td>\n",
              "      <td>1.000000</td>\n",
              "      <td>1.000000</td>\n",
              "      <td>5240.000000</td>\n",
              "      <td>7200.000000</td>\n",
              "      <td>8244.000000</td>\n",
              "      <td>58.020000</td>\n",
              "      <td>0.028914</td>\n",
              "      <td>0.062800</td>\n",
              "      <td>71.440000</td>\n",
              "    </tr>\n",
              "  </tbody>\n",
              "</table>\n",
              "<p>8 rows × 23 columns</p>\n",
              "</div>"
            ],
            "text/plain": [
              "       CS_PropertyID      cluster          size      empl_gr         Rent  \\\n",
              "count   7.894000e+03  7894.000000  7.894000e+03  7820.000000  7894.000000   \n",
              "mean    4.530025e+05   588.615024  2.346377e+05     3.206720    28.418569   \n",
              "std     7.434053e+05   399.907509  2.975334e+05     8.162989    15.075483   \n",
              "min     1.000000e+00     1.000000  1.624000e+03   -24.950000     2.980000   \n",
              "25%     1.574520e+05   272.000000  5.089125e+04     1.740000    19.500000   \n",
              "50%     3.132530e+05   476.000000  1.288380e+05     1.970000    25.160000   \n",
              "75%     4.411885e+05  1044.000000  2.942120e+05     2.380000    34.180000   \n",
              "max     6.208103e+06  1230.000000  3.781045e+06    67.780000   250.000000   \n",
              "\n",
              "       leasing_rate      stories          age    renovated      class_a  ...  \\\n",
              "count   7894.000000  7894.000000  7894.000000  7894.000000  7894.000000  ...   \n",
              "mean      82.606371    13.584495    47.243983     0.379529     0.399924  ...   \n",
              "std       21.380315    12.287083    32.194393     0.485300     0.489913  ...   \n",
              "min        0.000000     1.000000     0.000000     0.000000     0.000000  ...   \n",
              "25%       77.850000     4.000000    23.000000     0.000000     0.000000  ...   \n",
              "50%       89.530000    10.000000    34.000000     0.000000     0.000000  ...   \n",
              "75%       96.440000    19.000000    79.000000     1.000000     1.000000  ...   \n",
              "max      100.000000   110.000000   187.000000     1.000000     1.000000  ...   \n",
              "\n",
              "       green_rating          net    amenities  cd_total_07   hd_total07  \\\n",
              "count   7894.000000  7894.000000  7894.000000  7894.000000  7894.000000   \n",
              "mean       0.086775     0.034710     0.526602  1229.354193  3432.042311   \n",
              "std        0.281523     0.183056     0.499323  1104.588925  1976.937255   \n",
              "min        0.000000     0.000000     0.000000    39.000000     0.000000   \n",
              "25%        0.000000     0.000000     0.000000   684.000000  1419.000000   \n",
              "50%        0.000000     0.000000     1.000000   966.000000  2739.000000   \n",
              "75%        0.000000     0.000000     1.000000  1620.000000  4796.000000   \n",
              "max        1.000000     1.000000     1.000000  5240.000000  7200.000000   \n",
              "\n",
              "       total_dd_07  Precipitation    Gas_Costs  Electricity_Costs  \\\n",
              "count  7894.000000    7894.000000  7894.000000        7894.000000   \n",
              "mean   4661.396504      31.081312     0.011336           0.030959   \n",
              "std    1984.326881      11.575219     0.002406           0.008534   \n",
              "min    2103.000000      10.460000     0.009487           0.017800   \n",
              "25%    2869.000000      22.710000     0.010296           0.023300   \n",
              "50%    4979.000000      23.160000     0.010296           0.032737   \n",
              "75%    6413.000000      43.890000     0.011816           0.037808   \n",
              "max    8244.000000      58.020000     0.028914           0.062800   \n",
              "\n",
              "       cluster_rent  \n",
              "count   7894.000000  \n",
              "mean      27.497285  \n",
              "std       10.598952  \n",
              "min        9.000000  \n",
              "25%       20.000000  \n",
              "50%       25.145000  \n",
              "75%       34.000000  \n",
              "max       71.440000  \n",
              "\n",
              "[8 rows x 23 columns]"
            ]
          },
          "execution_count": 13,
          "metadata": {},
          "output_type": "execute_result"
        }
      ],
      "source": [
        "# first, take a look at each variable on its own\n",
        "df.describe()"
      ]
    },
    {
      "cell_type": "code",
      "execution_count": null,
      "metadata": {
        "id": "1UbWmqugoJ4-",
        "outputId": "596c4bc2-2e3d-4120-ba40-c7f33ba97699"
      },
      "outputs": [
        {
          "data": {
            "text/html": [
              "<div>\n",
              "<style scoped>\n",
              "    .dataframe tbody tr th:only-of-type {\n",
              "        vertical-align: middle;\n",
              "    }\n",
              "\n",
              "    .dataframe tbody tr th {\n",
              "        vertical-align: top;\n",
              "    }\n",
              "\n",
              "    .dataframe thead th {\n",
              "        text-align: right;\n",
              "    }\n",
              "</style>\n",
              "<table border=\"1\" class=\"dataframe\">\n",
              "  <thead>\n",
              "    <tr style=\"text-align: right;\">\n",
              "      <th></th>\n",
              "      <th>CS_PropertyID</th>\n",
              "      <th>cluster</th>\n",
              "      <th>size</th>\n",
              "      <th>empl_gr</th>\n",
              "      <th>Rent</th>\n",
              "      <th>leasing_rate</th>\n",
              "      <th>stories</th>\n",
              "      <th>age</th>\n",
              "      <th>renovated</th>\n",
              "      <th>class_a</th>\n",
              "      <th>...</th>\n",
              "      <th>green_rating</th>\n",
              "      <th>net</th>\n",
              "      <th>amenities</th>\n",
              "      <th>cd_total_07</th>\n",
              "      <th>hd_total07</th>\n",
              "      <th>total_dd_07</th>\n",
              "      <th>Precipitation</th>\n",
              "      <th>Gas_Costs</th>\n",
              "      <th>Electricity_Costs</th>\n",
              "      <th>cluster_rent</th>\n",
              "    </tr>\n",
              "  </thead>\n",
              "  <tbody>\n",
              "    <tr>\n",
              "      <th>CS_PropertyID</th>\n",
              "      <td>1.000000</td>\n",
              "      <td>-0.028780</td>\n",
              "      <td>-0.092401</td>\n",
              "      <td>-0.046015</td>\n",
              "      <td>-0.154618</td>\n",
              "      <td>-0.130160</td>\n",
              "      <td>-0.091558</td>\n",
              "      <td>0.014437</td>\n",
              "      <td>-0.112270</td>\n",
              "      <td>-0.077678</td>\n",
              "      <td>...</td>\n",
              "      <td>-0.022379</td>\n",
              "      <td>0.023452</td>\n",
              "      <td>-0.168870</td>\n",
              "      <td>0.112867</td>\n",
              "      <td>0.027099</td>\n",
              "      <td>0.089826</td>\n",
              "      <td>0.022659</td>\n",
              "      <td>0.239523</td>\n",
              "      <td>0.034441</td>\n",
              "      <td>-0.190821</td>\n",
              "    </tr>\n",
              "    <tr>\n",
              "      <th>cluster</th>\n",
              "      <td>-0.028780</td>\n",
              "      <td>1.000000</td>\n",
              "      <td>-0.127483</td>\n",
              "      <td>-0.031753</td>\n",
              "      <td>0.172328</td>\n",
              "      <td>0.020163</td>\n",
              "      <td>-0.132625</td>\n",
              "      <td>-0.051015</td>\n",
              "      <td>-0.076874</td>\n",
              "      <td>-0.025165</td>\n",
              "      <td>...</td>\n",
              "      <td>0.026425</td>\n",
              "      <td>-0.010004</td>\n",
              "      <td>-0.072078</td>\n",
              "      <td>-0.123905</td>\n",
              "      <td>-0.195063</td>\n",
              "      <td>-0.263310</td>\n",
              "      <td>-0.176186</td>\n",
              "      <td>-0.150446</td>\n",
              "      <td>0.215165</td>\n",
              "      <td>0.217576</td>\n",
              "    </tr>\n",
              "    <tr>\n",
              "      <th>size</th>\n",
              "      <td>-0.092401</td>\n",
              "      <td>-0.127483</td>\n",
              "      <td>1.000000</td>\n",
              "      <td>-0.035416</td>\n",
              "      <td>0.137531</td>\n",
              "      <td>0.194326</td>\n",
              "      <td>0.826790</td>\n",
              "      <td>-0.204353</td>\n",
              "      <td>-0.000445</td>\n",
              "      <td>0.446193</td>\n",
              "      <td>...</td>\n",
              "      <td>0.094433</td>\n",
              "      <td>0.119231</td>\n",
              "      <td>0.393441</td>\n",
              "      <td>0.063058</td>\n",
              "      <td>0.151577</td>\n",
              "      <td>0.186114</td>\n",
              "      <td>0.160211</td>\n",
              "      <td>0.010329</td>\n",
              "      <td>-0.103864</td>\n",
              "      <td>-0.023940</td>\n",
              "    </tr>\n",
              "    <tr>\n",
              "      <th>empl_gr</th>\n",
              "      <td>-0.046015</td>\n",
              "      <td>-0.031753</td>\n",
              "      <td>-0.035416</td>\n",
              "      <td>1.000000</td>\n",
              "      <td>-0.025646</td>\n",
              "      <td>-0.039429</td>\n",
              "      <td>-0.060875</td>\n",
              "      <td>-0.084447</td>\n",
              "      <td>-0.056001</td>\n",
              "      <td>0.028179</td>\n",
              "      <td>...</td>\n",
              "      <td>0.011318</td>\n",
              "      <td>-0.006065</td>\n",
              "      <td>-0.003848</td>\n",
              "      <td>0.430737</td>\n",
              "      <td>-0.150075</td>\n",
              "      <td>0.091604</td>\n",
              "      <td>-0.253328</td>\n",
              "      <td>0.005615</td>\n",
              "      <td>-0.116926</td>\n",
              "      <td>-0.033888</td>\n",
              "    </tr>\n",
              "    <tr>\n",
              "      <th>Rent</th>\n",
              "      <td>-0.154618</td>\n",
              "      <td>0.172328</td>\n",
              "      <td>0.137531</td>\n",
              "      <td>-0.025646</td>\n",
              "      <td>1.000000</td>\n",
              "      <td>0.179068</td>\n",
              "      <td>0.116111</td>\n",
              "      <td>-0.102664</td>\n",
              "      <td>-0.122072</td>\n",
              "      <td>0.211198</td>\n",
              "      <td>...</td>\n",
              "      <td>0.032666</td>\n",
              "      <td>-0.050680</td>\n",
              "      <td>0.060834</td>\n",
              "      <td>-0.167939</td>\n",
              "      <td>-0.156270</td>\n",
              "      <td>-0.249173</td>\n",
              "      <td>0.066433</td>\n",
              "      <td>0.000621</td>\n",
              "      <td>0.391659</td>\n",
              "      <td>0.759340</td>\n",
              "    </tr>\n",
              "    <tr>\n",
              "      <th>leasing_rate</th>\n",
              "      <td>-0.130160</td>\n",
              "      <td>0.020163</td>\n",
              "      <td>0.194326</td>\n",
              "      <td>-0.039429</td>\n",
              "      <td>0.179068</td>\n",
              "      <td>1.000000</td>\n",
              "      <td>0.207707</td>\n",
              "      <td>-0.123674</td>\n",
              "      <td>-0.005346</td>\n",
              "      <td>0.207907</td>\n",
              "      <td>...</td>\n",
              "      <td>0.096251</td>\n",
              "      <td>0.029640</td>\n",
              "      <td>0.194812</td>\n",
              "      <td>-0.061631</td>\n",
              "      <td>0.018837</td>\n",
              "      <td>-0.015540</td>\n",
              "      <td>0.023877</td>\n",
              "      <td>0.021810</td>\n",
              "      <td>0.046626</td>\n",
              "      <td>0.164744</td>\n",
              "    </tr>\n",
              "    <tr>\n",
              "      <th>stories</th>\n",
              "      <td>-0.091558</td>\n",
              "      <td>-0.132625</td>\n",
              "      <td>0.826790</td>\n",
              "      <td>-0.060875</td>\n",
              "      <td>0.116111</td>\n",
              "      <td>0.207707</td>\n",
              "      <td>1.000000</td>\n",
              "      <td>-0.145022</td>\n",
              "      <td>0.038242</td>\n",
              "      <td>0.454083</td>\n",
              "      <td>...</td>\n",
              "      <td>0.043791</td>\n",
              "      <td>0.110169</td>\n",
              "      <td>0.388294</td>\n",
              "      <td>0.035307</td>\n",
              "      <td>0.187514</td>\n",
              "      <td>0.206470</td>\n",
              "      <td>0.192845</td>\n",
              "      <td>0.056040</td>\n",
              "      <td>-0.093030</td>\n",
              "      <td>-0.014595</td>\n",
              "    </tr>\n",
              "    <tr>\n",
              "      <th>age</th>\n",
              "      <td>0.014437</td>\n",
              "      <td>-0.051015</td>\n",
              "      <td>-0.204353</td>\n",
              "      <td>-0.084447</td>\n",
              "      <td>-0.102664</td>\n",
              "      <td>-0.123674</td>\n",
              "      <td>-0.145022</td>\n",
              "      <td>1.000000</td>\n",
              "      <td>0.462083</td>\n",
              "      <td>-0.504685</td>\n",
              "      <td>...</td>\n",
              "      <td>-0.224051</td>\n",
              "      <td>-0.086569</td>\n",
              "      <td>-0.244250</td>\n",
              "      <td>-0.218662</td>\n",
              "      <td>0.240773</td>\n",
              "      <td>0.118157</td>\n",
              "      <td>0.081845</td>\n",
              "      <td>-0.054667</td>\n",
              "      <td>-0.058857</td>\n",
              "      <td>-0.030051</td>\n",
              "    </tr>\n",
              "    <tr>\n",
              "      <th>renovated</th>\n",
              "      <td>-0.112270</td>\n",
              "      <td>-0.076874</td>\n",
              "      <td>-0.000445</td>\n",
              "      <td>-0.056001</td>\n",
              "      <td>-0.122072</td>\n",
              "      <td>-0.005346</td>\n",
              "      <td>0.038242</td>\n",
              "      <td>0.462083</td>\n",
              "      <td>1.000000</td>\n",
              "      <td>-0.172211</td>\n",
              "      <td>...</td>\n",
              "      <td>-0.105694</td>\n",
              "      <td>-0.024231</td>\n",
              "      <td>-0.006118</td>\n",
              "      <td>-0.090416</td>\n",
              "      <td>0.101815</td>\n",
              "      <td>0.051105</td>\n",
              "      <td>0.063113</td>\n",
              "      <td>-0.033919</td>\n",
              "      <td>-0.109319</td>\n",
              "      <td>-0.124306</td>\n",
              "    </tr>\n",
              "    <tr>\n",
              "      <th>class_a</th>\n",
              "      <td>-0.077678</td>\n",
              "      <td>-0.025165</td>\n",
              "      <td>0.446193</td>\n",
              "      <td>0.028179</td>\n",
              "      <td>0.211198</td>\n",
              "      <td>0.207907</td>\n",
              "      <td>0.454083</td>\n",
              "      <td>-0.504685</td>\n",
              "      <td>-0.172211</td>\n",
              "      <td>1.000000</td>\n",
              "      <td>...</td>\n",
              "      <td>0.249906</td>\n",
              "      <td>0.113612</td>\n",
              "      <td>0.403721</td>\n",
              "      <td>0.077657</td>\n",
              "      <td>-0.094928</td>\n",
              "      <td>-0.051346</td>\n",
              "      <td>0.064122</td>\n",
              "      <td>0.093287</td>\n",
              "      <td>0.068577</td>\n",
              "      <td>0.110642</td>\n",
              "    </tr>\n",
              "    <tr>\n",
              "      <th>class_b</th>\n",
              "      <td>0.017956</td>\n",
              "      <td>0.027330</td>\n",
              "      <td>-0.273788</td>\n",
              "      <td>-0.012710</td>\n",
              "      <td>-0.123765</td>\n",
              "      <td>-0.055879</td>\n",
              "      <td>-0.284579</td>\n",
              "      <td>0.259995</td>\n",
              "      <td>0.131714</td>\n",
              "      <td>-0.752659</td>\n",
              "      <td>...</td>\n",
              "      <td>-0.165004</td>\n",
              "      <td>-0.077619</td>\n",
              "      <td>-0.219928</td>\n",
              "      <td>-0.070747</td>\n",
              "      <td>0.090022</td>\n",
              "      <td>0.050305</td>\n",
              "      <td>-0.084705</td>\n",
              "      <td>-0.089734</td>\n",
              "      <td>-0.063177</td>\n",
              "      <td>-0.075230</td>\n",
              "    </tr>\n",
              "    <tr>\n",
              "      <th>LEED</th>\n",
              "      <td>0.020721</td>\n",
              "      <td>-0.051906</td>\n",
              "      <td>0.043005</td>\n",
              "      <td>-0.011363</td>\n",
              "      <td>0.007057</td>\n",
              "      <td>0.020742</td>\n",
              "      <td>0.015816</td>\n",
              "      <td>-0.041113</td>\n",
              "      <td>-0.011068</td>\n",
              "      <td>0.051464</td>\n",
              "      <td>...</td>\n",
              "      <td>0.269235</td>\n",
              "      <td>0.017848</td>\n",
              "      <td>-0.004422</td>\n",
              "      <td>0.000940</td>\n",
              "      <td>0.034185</td>\n",
              "      <td>0.034581</td>\n",
              "      <td>0.047475</td>\n",
              "      <td>0.039074</td>\n",
              "      <td>-0.031512</td>\n",
              "      <td>-0.019624</td>\n",
              "    </tr>\n",
              "    <tr>\n",
              "      <th>Energystar</th>\n",
              "      <td>-0.029505</td>\n",
              "      <td>0.043144</td>\n",
              "      <td>0.086900</td>\n",
              "      <td>0.014689</td>\n",
              "      <td>0.032590</td>\n",
              "      <td>0.094484</td>\n",
              "      <td>0.041312</td>\n",
              "      <td>-0.220815</td>\n",
              "      <td>-0.106445</td>\n",
              "      <td>0.245581</td>\n",
              "      <td>...</td>\n",
              "      <td>0.961953</td>\n",
              "      <td>0.035180</td>\n",
              "      <td>0.131278</td>\n",
              "      <td>0.055422</td>\n",
              "      <td>-0.111304</td>\n",
              "      <td>-0.080039</td>\n",
              "      <td>-0.065995</td>\n",
              "      <td>-0.042732</td>\n",
              "      <td>0.031544</td>\n",
              "      <td>-0.012280</td>\n",
              "    </tr>\n",
              "    <tr>\n",
              "      <th>green_rating</th>\n",
              "      <td>-0.022379</td>\n",
              "      <td>0.026425</td>\n",
              "      <td>0.094433</td>\n",
              "      <td>0.011318</td>\n",
              "      <td>0.032666</td>\n",
              "      <td>0.096251</td>\n",
              "      <td>0.043791</td>\n",
              "      <td>-0.224051</td>\n",
              "      <td>-0.105694</td>\n",
              "      <td>0.249906</td>\n",
              "      <td>...</td>\n",
              "      <td>1.000000</td>\n",
              "      <td>0.037427</td>\n",
              "      <td>0.123726</td>\n",
              "      <td>0.054756</td>\n",
              "      <td>-0.099528</td>\n",
              "      <td>-0.068677</td>\n",
              "      <td>-0.050259</td>\n",
              "      <td>-0.030859</td>\n",
              "      <td>0.022507</td>\n",
              "      <td>-0.017616</td>\n",
              "    </tr>\n",
              "    <tr>\n",
              "      <th>net</th>\n",
              "      <td>0.023452</td>\n",
              "      <td>-0.010004</td>\n",
              "      <td>0.119231</td>\n",
              "      <td>-0.006065</td>\n",
              "      <td>-0.050680</td>\n",
              "      <td>0.029640</td>\n",
              "      <td>0.110169</td>\n",
              "      <td>-0.086569</td>\n",
              "      <td>-0.024231</td>\n",
              "      <td>0.113612</td>\n",
              "      <td>...</td>\n",
              "      <td>0.037427</td>\n",
              "      <td>1.000000</td>\n",
              "      <td>0.048113</td>\n",
              "      <td>0.112373</td>\n",
              "      <td>-0.017136</td>\n",
              "      <td>0.045481</td>\n",
              "      <td>0.035122</td>\n",
              "      <td>0.111692</td>\n",
              "      <td>0.039355</td>\n",
              "      <td>-0.058610</td>\n",
              "    </tr>\n",
              "    <tr>\n",
              "      <th>amenities</th>\n",
              "      <td>-0.168870</td>\n",
              "      <td>-0.072078</td>\n",
              "      <td>0.393441</td>\n",
              "      <td>-0.003848</td>\n",
              "      <td>0.060834</td>\n",
              "      <td>0.194812</td>\n",
              "      <td>0.388294</td>\n",
              "      <td>-0.244250</td>\n",
              "      <td>-0.006118</td>\n",
              "      <td>0.403721</td>\n",
              "      <td>...</td>\n",
              "      <td>0.123726</td>\n",
              "      <td>0.048113</td>\n",
              "      <td>1.000000</td>\n",
              "      <td>0.073374</td>\n",
              "      <td>0.061121</td>\n",
              "      <td>0.101737</td>\n",
              "      <td>0.066231</td>\n",
              "      <td>-0.038973</td>\n",
              "      <td>-0.140551</td>\n",
              "      <td>-0.041731</td>\n",
              "    </tr>\n",
              "    <tr>\n",
              "      <th>cd_total_07</th>\n",
              "      <td>0.112867</td>\n",
              "      <td>-0.123905</td>\n",
              "      <td>0.063058</td>\n",
              "      <td>0.430737</td>\n",
              "      <td>-0.167939</td>\n",
              "      <td>-0.061631</td>\n",
              "      <td>0.035307</td>\n",
              "      <td>-0.218662</td>\n",
              "      <td>-0.090416</td>\n",
              "      <td>0.077657</td>\n",
              "      <td>...</td>\n",
              "      <td>0.054756</td>\n",
              "      <td>0.112373</td>\n",
              "      <td>0.073374</td>\n",
              "      <td>1.000000</td>\n",
              "      <td>-0.272666</td>\n",
              "      <td>0.285006</td>\n",
              "      <td>0.175423</td>\n",
              "      <td>0.458024</td>\n",
              "      <td>-0.054781</td>\n",
              "      <td>-0.204381</td>\n",
              "    </tr>\n",
              "    <tr>\n",
              "      <th>hd_total07</th>\n",
              "      <td>0.027099</td>\n",
              "      <td>-0.195063</td>\n",
              "      <td>0.151577</td>\n",
              "      <td>-0.150075</td>\n",
              "      <td>-0.156270</td>\n",
              "      <td>0.018837</td>\n",
              "      <td>0.187514</td>\n",
              "      <td>0.240773</td>\n",
              "      <td>0.101815</td>\n",
              "      <td>-0.094928</td>\n",
              "      <td>...</td>\n",
              "      <td>-0.099528</td>\n",
              "      <td>-0.017136</td>\n",
              "      <td>0.061121</td>\n",
              "      <td>-0.272666</td>\n",
              "      <td>1.000000</td>\n",
              "      <td>0.844494</td>\n",
              "      <td>0.317043</td>\n",
              "      <td>-0.068246</td>\n",
              "      <td>-0.628950</td>\n",
              "      <td>-0.240841</td>\n",
              "    </tr>\n",
              "    <tr>\n",
              "      <th>total_dd_07</th>\n",
              "      <td>0.089826</td>\n",
              "      <td>-0.263310</td>\n",
              "      <td>0.186114</td>\n",
              "      <td>0.091604</td>\n",
              "      <td>-0.249173</td>\n",
              "      <td>-0.015540</td>\n",
              "      <td>0.206470</td>\n",
              "      <td>0.118157</td>\n",
              "      <td>0.051105</td>\n",
              "      <td>-0.051346</td>\n",
              "      <td>...</td>\n",
              "      <td>-0.068677</td>\n",
              "      <td>0.045481</td>\n",
              "      <td>0.101737</td>\n",
              "      <td>0.285006</td>\n",
              "      <td>0.844494</td>\n",
              "      <td>1.000000</td>\n",
              "      <td>0.413513</td>\n",
              "      <td>0.186970</td>\n",
              "      <td>-0.657102</td>\n",
              "      <td>-0.353714</td>\n",
              "    </tr>\n",
              "    <tr>\n",
              "      <th>Precipitation</th>\n",
              "      <td>0.022659</td>\n",
              "      <td>-0.176186</td>\n",
              "      <td>0.160211</td>\n",
              "      <td>-0.253328</td>\n",
              "      <td>0.066433</td>\n",
              "      <td>0.023877</td>\n",
              "      <td>0.192845</td>\n",
              "      <td>0.081845</td>\n",
              "      <td>0.063113</td>\n",
              "      <td>0.064122</td>\n",
              "      <td>...</td>\n",
              "      <td>-0.050259</td>\n",
              "      <td>0.035122</td>\n",
              "      <td>0.066231</td>\n",
              "      <td>0.175423</td>\n",
              "      <td>0.317043</td>\n",
              "      <td>0.413513</td>\n",
              "      <td>1.000000</td>\n",
              "      <td>0.582466</td>\n",
              "      <td>-0.168251</td>\n",
              "      <td>0.083187</td>\n",
              "    </tr>\n",
              "    <tr>\n",
              "      <th>Gas_Costs</th>\n",
              "      <td>0.239523</td>\n",
              "      <td>-0.150446</td>\n",
              "      <td>0.010329</td>\n",
              "      <td>0.005615</td>\n",
              "      <td>0.000621</td>\n",
              "      <td>0.021810</td>\n",
              "      <td>0.056040</td>\n",
              "      <td>-0.054667</td>\n",
              "      <td>-0.033919</td>\n",
              "      <td>0.093287</td>\n",
              "      <td>...</td>\n",
              "      <td>-0.030859</td>\n",
              "      <td>0.111692</td>\n",
              "      <td>-0.038973</td>\n",
              "      <td>0.458024</td>\n",
              "      <td>-0.068246</td>\n",
              "      <td>0.186970</td>\n",
              "      <td>0.582466</td>\n",
              "      <td>1.000000</td>\n",
              "      <td>0.239986</td>\n",
              "      <td>0.025212</td>\n",
              "    </tr>\n",
              "    <tr>\n",
              "      <th>Electricity_Costs</th>\n",
              "      <td>0.034441</td>\n",
              "      <td>0.215165</td>\n",
              "      <td>-0.103864</td>\n",
              "      <td>-0.116926</td>\n",
              "      <td>0.391659</td>\n",
              "      <td>0.046626</td>\n",
              "      <td>-0.093030</td>\n",
              "      <td>-0.058857</td>\n",
              "      <td>-0.109319</td>\n",
              "      <td>0.068577</td>\n",
              "      <td>...</td>\n",
              "      <td>0.022507</td>\n",
              "      <td>0.039355</td>\n",
              "      <td>-0.140551</td>\n",
              "      <td>-0.054781</td>\n",
              "      <td>-0.628950</td>\n",
              "      <td>-0.657102</td>\n",
              "      <td>-0.168251</td>\n",
              "      <td>0.239986</td>\n",
              "      <td>1.000000</td>\n",
              "      <td>0.506707</td>\n",
              "    </tr>\n",
              "    <tr>\n",
              "      <th>cluster_rent</th>\n",
              "      <td>-0.190821</td>\n",
              "      <td>0.217576</td>\n",
              "      <td>-0.023940</td>\n",
              "      <td>-0.033888</td>\n",
              "      <td>0.759340</td>\n",
              "      <td>0.164744</td>\n",
              "      <td>-0.014595</td>\n",
              "      <td>-0.030051</td>\n",
              "      <td>-0.124306</td>\n",
              "      <td>0.110642</td>\n",
              "      <td>...</td>\n",
              "      <td>-0.017616</td>\n",
              "      <td>-0.058610</td>\n",
              "      <td>-0.041731</td>\n",
              "      <td>-0.204381</td>\n",
              "      <td>-0.240841</td>\n",
              "      <td>-0.353714</td>\n",
              "      <td>0.083187</td>\n",
              "      <td>0.025212</td>\n",
              "      <td>0.506707</td>\n",
              "      <td>1.000000</td>\n",
              "    </tr>\n",
              "  </tbody>\n",
              "</table>\n",
              "<p>23 rows × 23 columns</p>\n",
              "</div>"
            ],
            "text/plain": [
              "                   CS_PropertyID   cluster      size   empl_gr      Rent  \\\n",
              "CS_PropertyID           1.000000 -0.028780 -0.092401 -0.046015 -0.154618   \n",
              "cluster                -0.028780  1.000000 -0.127483 -0.031753  0.172328   \n",
              "size                   -0.092401 -0.127483  1.000000 -0.035416  0.137531   \n",
              "empl_gr                -0.046015 -0.031753 -0.035416  1.000000 -0.025646   \n",
              "Rent                   -0.154618  0.172328  0.137531 -0.025646  1.000000   \n",
              "leasing_rate           -0.130160  0.020163  0.194326 -0.039429  0.179068   \n",
              "stories                -0.091558 -0.132625  0.826790 -0.060875  0.116111   \n",
              "age                     0.014437 -0.051015 -0.204353 -0.084447 -0.102664   \n",
              "renovated              -0.112270 -0.076874 -0.000445 -0.056001 -0.122072   \n",
              "class_a                -0.077678 -0.025165  0.446193  0.028179  0.211198   \n",
              "class_b                 0.017956  0.027330 -0.273788 -0.012710 -0.123765   \n",
              "LEED                    0.020721 -0.051906  0.043005 -0.011363  0.007057   \n",
              "Energystar             -0.029505  0.043144  0.086900  0.014689  0.032590   \n",
              "green_rating           -0.022379  0.026425  0.094433  0.011318  0.032666   \n",
              "net                     0.023452 -0.010004  0.119231 -0.006065 -0.050680   \n",
              "amenities              -0.168870 -0.072078  0.393441 -0.003848  0.060834   \n",
              "cd_total_07             0.112867 -0.123905  0.063058  0.430737 -0.167939   \n",
              "hd_total07              0.027099 -0.195063  0.151577 -0.150075 -0.156270   \n",
              "total_dd_07             0.089826 -0.263310  0.186114  0.091604 -0.249173   \n",
              "Precipitation           0.022659 -0.176186  0.160211 -0.253328  0.066433   \n",
              "Gas_Costs               0.239523 -0.150446  0.010329  0.005615  0.000621   \n",
              "Electricity_Costs       0.034441  0.215165 -0.103864 -0.116926  0.391659   \n",
              "cluster_rent           -0.190821  0.217576 -0.023940 -0.033888  0.759340   \n",
              "\n",
              "                   leasing_rate   stories       age  renovated   class_a  ...  \\\n",
              "CS_PropertyID         -0.130160 -0.091558  0.014437  -0.112270 -0.077678  ...   \n",
              "cluster                0.020163 -0.132625 -0.051015  -0.076874 -0.025165  ...   \n",
              "size                   0.194326  0.826790 -0.204353  -0.000445  0.446193  ...   \n",
              "empl_gr               -0.039429 -0.060875 -0.084447  -0.056001  0.028179  ...   \n",
              "Rent                   0.179068  0.116111 -0.102664  -0.122072  0.211198  ...   \n",
              "leasing_rate           1.000000  0.207707 -0.123674  -0.005346  0.207907  ...   \n",
              "stories                0.207707  1.000000 -0.145022   0.038242  0.454083  ...   \n",
              "age                   -0.123674 -0.145022  1.000000   0.462083 -0.504685  ...   \n",
              "renovated             -0.005346  0.038242  0.462083   1.000000 -0.172211  ...   \n",
              "class_a                0.207907  0.454083 -0.504685  -0.172211  1.000000  ...   \n",
              "class_b               -0.055879 -0.284579  0.259995   0.131714 -0.752659  ...   \n",
              "LEED                   0.020742  0.015816 -0.041113  -0.011068  0.051464  ...   \n",
              "Energystar             0.094484  0.041312 -0.220815  -0.106445  0.245581  ...   \n",
              "green_rating           0.096251  0.043791 -0.224051  -0.105694  0.249906  ...   \n",
              "net                    0.029640  0.110169 -0.086569  -0.024231  0.113612  ...   \n",
              "amenities              0.194812  0.388294 -0.244250  -0.006118  0.403721  ...   \n",
              "cd_total_07           -0.061631  0.035307 -0.218662  -0.090416  0.077657  ...   \n",
              "hd_total07             0.018837  0.187514  0.240773   0.101815 -0.094928  ...   \n",
              "total_dd_07           -0.015540  0.206470  0.118157   0.051105 -0.051346  ...   \n",
              "Precipitation          0.023877  0.192845  0.081845   0.063113  0.064122  ...   \n",
              "Gas_Costs              0.021810  0.056040 -0.054667  -0.033919  0.093287  ...   \n",
              "Electricity_Costs      0.046626 -0.093030 -0.058857  -0.109319  0.068577  ...   \n",
              "cluster_rent           0.164744 -0.014595 -0.030051  -0.124306  0.110642  ...   \n",
              "\n",
              "                   green_rating       net  amenities  cd_total_07  hd_total07  \\\n",
              "CS_PropertyID         -0.022379  0.023452  -0.168870     0.112867    0.027099   \n",
              "cluster                0.026425 -0.010004  -0.072078    -0.123905   -0.195063   \n",
              "size                   0.094433  0.119231   0.393441     0.063058    0.151577   \n",
              "empl_gr                0.011318 -0.006065  -0.003848     0.430737   -0.150075   \n",
              "Rent                   0.032666 -0.050680   0.060834    -0.167939   -0.156270   \n",
              "leasing_rate           0.096251  0.029640   0.194812    -0.061631    0.018837   \n",
              "stories                0.043791  0.110169   0.388294     0.035307    0.187514   \n",
              "age                   -0.224051 -0.086569  -0.244250    -0.218662    0.240773   \n",
              "renovated             -0.105694 -0.024231  -0.006118    -0.090416    0.101815   \n",
              "class_a                0.249906  0.113612   0.403721     0.077657   -0.094928   \n",
              "class_b               -0.165004 -0.077619  -0.219928    -0.070747    0.090022   \n",
              "LEED                   0.269235  0.017848  -0.004422     0.000940    0.034185   \n",
              "Energystar             0.961953  0.035180   0.131278     0.055422   -0.111304   \n",
              "green_rating           1.000000  0.037427   0.123726     0.054756   -0.099528   \n",
              "net                    0.037427  1.000000   0.048113     0.112373   -0.017136   \n",
              "amenities              0.123726  0.048113   1.000000     0.073374    0.061121   \n",
              "cd_total_07            0.054756  0.112373   0.073374     1.000000   -0.272666   \n",
              "hd_total07            -0.099528 -0.017136   0.061121    -0.272666    1.000000   \n",
              "total_dd_07           -0.068677  0.045481   0.101737     0.285006    0.844494   \n",
              "Precipitation         -0.050259  0.035122   0.066231     0.175423    0.317043   \n",
              "Gas_Costs             -0.030859  0.111692  -0.038973     0.458024   -0.068246   \n",
              "Electricity_Costs      0.022507  0.039355  -0.140551    -0.054781   -0.628950   \n",
              "cluster_rent          -0.017616 -0.058610  -0.041731    -0.204381   -0.240841   \n",
              "\n",
              "                   total_dd_07  Precipitation  Gas_Costs  Electricity_Costs  \\\n",
              "CS_PropertyID         0.089826       0.022659   0.239523           0.034441   \n",
              "cluster              -0.263310      -0.176186  -0.150446           0.215165   \n",
              "size                  0.186114       0.160211   0.010329          -0.103864   \n",
              "empl_gr               0.091604      -0.253328   0.005615          -0.116926   \n",
              "Rent                 -0.249173       0.066433   0.000621           0.391659   \n",
              "leasing_rate         -0.015540       0.023877   0.021810           0.046626   \n",
              "stories               0.206470       0.192845   0.056040          -0.093030   \n",
              "age                   0.118157       0.081845  -0.054667          -0.058857   \n",
              "renovated             0.051105       0.063113  -0.033919          -0.109319   \n",
              "class_a              -0.051346       0.064122   0.093287           0.068577   \n",
              "class_b               0.050305      -0.084705  -0.089734          -0.063177   \n",
              "LEED                  0.034581       0.047475   0.039074          -0.031512   \n",
              "Energystar           -0.080039      -0.065995  -0.042732           0.031544   \n",
              "green_rating         -0.068677      -0.050259  -0.030859           0.022507   \n",
              "net                   0.045481       0.035122   0.111692           0.039355   \n",
              "amenities             0.101737       0.066231  -0.038973          -0.140551   \n",
              "cd_total_07           0.285006       0.175423   0.458024          -0.054781   \n",
              "hd_total07            0.844494       0.317043  -0.068246          -0.628950   \n",
              "total_dd_07           1.000000       0.413513   0.186970          -0.657102   \n",
              "Precipitation         0.413513       1.000000   0.582466          -0.168251   \n",
              "Gas_Costs             0.186970       0.582466   1.000000           0.239986   \n",
              "Electricity_Costs    -0.657102      -0.168251   0.239986           1.000000   \n",
              "cluster_rent         -0.353714       0.083187   0.025212           0.506707   \n",
              "\n",
              "                   cluster_rent  \n",
              "CS_PropertyID         -0.190821  \n",
              "cluster                0.217576  \n",
              "size                  -0.023940  \n",
              "empl_gr               -0.033888  \n",
              "Rent                   0.759340  \n",
              "leasing_rate           0.164744  \n",
              "stories               -0.014595  \n",
              "age                   -0.030051  \n",
              "renovated             -0.124306  \n",
              "class_a                0.110642  \n",
              "class_b               -0.075230  \n",
              "LEED                  -0.019624  \n",
              "Energystar            -0.012280  \n",
              "green_rating          -0.017616  \n",
              "net                   -0.058610  \n",
              "amenities             -0.041731  \n",
              "cd_total_07           -0.204381  \n",
              "hd_total07            -0.240841  \n",
              "total_dd_07           -0.353714  \n",
              "Precipitation          0.083187  \n",
              "Gas_Costs              0.025212  \n",
              "Electricity_Costs      0.506707  \n",
              "cluster_rent           1.000000  \n",
              "\n",
              "[23 rows x 23 columns]"
            ]
          },
          "execution_count": 14,
          "metadata": {},
          "output_type": "execute_result"
        }
      ],
      "source": [
        "# cross-correlation check\n",
        "df.corr(numeric_only = True)"
      ]
    },
    {
      "cell_type": "code",
      "execution_count": null,
      "metadata": {
        "id": "FAZdDZR5oJ4-",
        "outputId": "03662f7f-e59a-4dcf-95fc-35f6479064c8"
      },
      "outputs": [
        {
          "data": {
            "text/html": [
              "<div>\n",
              "<style scoped>\n",
              "    .dataframe tbody tr th:only-of-type {\n",
              "        vertical-align: middle;\n",
              "    }\n",
              "\n",
              "    .dataframe tbody tr th {\n",
              "        vertical-align: top;\n",
              "    }\n",
              "\n",
              "    .dataframe thead th {\n",
              "        text-align: right;\n",
              "    }\n",
              "</style>\n",
              "<table border=\"1\" class=\"dataframe\">\n",
              "  <thead>\n",
              "    <tr style=\"text-align: right;\">\n",
              "      <th></th>\n",
              "      <th>size</th>\n",
              "      <th>Rent</th>\n",
              "      <th>age</th>\n",
              "      <th>Precipitation</th>\n",
              "    </tr>\n",
              "  </thead>\n",
              "  <tbody>\n",
              "    <tr>\n",
              "      <th>size</th>\n",
              "      <td>1.000000</td>\n",
              "      <td>0.137531</td>\n",
              "      <td>-0.204353</td>\n",
              "      <td>0.160211</td>\n",
              "    </tr>\n",
              "    <tr>\n",
              "      <th>Rent</th>\n",
              "      <td>0.137531</td>\n",
              "      <td>1.000000</td>\n",
              "      <td>-0.102664</td>\n",
              "      <td>0.066433</td>\n",
              "    </tr>\n",
              "    <tr>\n",
              "      <th>age</th>\n",
              "      <td>-0.204353</td>\n",
              "      <td>-0.102664</td>\n",
              "      <td>1.000000</td>\n",
              "      <td>0.081845</td>\n",
              "    </tr>\n",
              "    <tr>\n",
              "      <th>Precipitation</th>\n",
              "      <td>0.160211</td>\n",
              "      <td>0.066433</td>\n",
              "      <td>0.081845</td>\n",
              "      <td>1.000000</td>\n",
              "    </tr>\n",
              "  </tbody>\n",
              "</table>\n",
              "</div>"
            ],
            "text/plain": [
              "                   size      Rent       age  Precipitation\n",
              "size           1.000000  0.137531 -0.204353       0.160211\n",
              "Rent           0.137531  1.000000 -0.102664       0.066433\n",
              "age           -0.204353 -0.102664  1.000000       0.081845\n",
              "Precipitation  0.160211  0.066433  0.081845       1.000000"
            ]
          },
          "execution_count": 15,
          "metadata": {},
          "output_type": "execute_result"
        }
      ],
      "source": [
        "# find correlation of subset of parameters\n",
        "df[['size','Rent','age','Precipitation']].corr(numeric_only=True)"
      ]
    },
    {
      "cell_type": "markdown",
      "metadata": {
        "id": "EagyLuVIoJ4_"
      },
      "source": [
        "However, these numbers can be difficult to wrap your head around, especially without taking a close look. Let's now create a visualisation that gives us an easy, immediate view at the relationship between two variables.\n",
        "\n",
        "We need to install another package in python to do this called `seaborn`. Outside of matplotlib, it is the most commonly used visualization package used in python."
      ]
    },
    {
      "cell_type": "code",
      "execution_count": null,
      "metadata": {
        "id": "n7xnhWHpoJ4_"
      },
      "outputs": [],
      "source": [
        "#pip install seaborn"
      ]
    },
    {
      "cell_type": "code",
      "execution_count": null,
      "metadata": {
        "id": "87C7gifaoJ4_",
        "outputId": "87c76316-262b-4f53-c3c8-9e500b5dc180"
      },
      "outputs": [
        {
          "data": {
            "text/plain": [
              "<Axes: >"
            ]
          },
          "execution_count": 17,
          "metadata": {},
          "output_type": "execute_result"
        },
        {
          "data": {
            "image/png": "[encoded data removed]",
            "text/plain": [
              "<Figure size 800x600 with 2 Axes>"
            ]
          },
          "metadata": {},
          "output_type": "display_data"
        }
      ],
      "source": [
        "import seaborn as sns\n",
        "plt.rcParams.update({'figure.figsize': (8, 6)}) # make the plot bigger so it looks a little nicer\n",
        "df_subset = df[['size','empl_gr','Rent','leasing_rate','stories','age','Precipitation','Gas_Costs','Electricity_Costs','cluster_rent']]\n",
        "corr_matrix = df_subset.corr(numeric_only = True)\n",
        "sns.heatmap(corr_matrix, annot=True, cmap='coolwarm', vmin=-1, vmax=1, linewidths=0.5)"
      ]
    },
    {
      "cell_type": "markdown",
      "metadata": {
        "id": "iI9hvs0SoJ5A"
      },
      "source": [
        "All of this covers correlationships between numeric variables. But what about categorical variables?\n",
        "\n",
        "For that, we can use the `crosstab` method to summarize the distribution of different categories relative to each other."
      ]
    },
    {
      "cell_type": "code",
      "execution_count": null,
      "metadata": {
        "id": "kokQT53UoJ5A",
        "outputId": "94ab86d2-882a-401c-e4b4-0db6894ef3c7"
      },
      "outputs": [
        {
          "data": {
            "text/html": [
              "<div>\n",
              "<style scoped>\n",
              "    .dataframe tbody tr th:only-of-type {\n",
              "        vertical-align: middle;\n",
              "    }\n",
              "\n",
              "    .dataframe tbody tr th {\n",
              "        vertical-align: top;\n",
              "    }\n",
              "\n",
              "    .dataframe thead th {\n",
              "        text-align: right;\n",
              "    }\n",
              "</style>\n",
              "<table border=\"1\" class=\"dataframe\">\n",
              "  <thead>\n",
              "    <tr style=\"text-align: right;\">\n",
              "      <th>green_rating</th>\n",
              "      <th>0</th>\n",
              "      <th>1</th>\n",
              "    </tr>\n",
              "    <tr>\n",
              "      <th>cluster</th>\n",
              "      <th></th>\n",
              "      <th></th>\n",
              "    </tr>\n",
              "  </thead>\n",
              "  <tbody>\n",
              "    <tr>\n",
              "      <th>1</th>\n",
              "      <td>5</td>\n",
              "      <td>1</td>\n",
              "    </tr>\n",
              "    <tr>\n",
              "      <th>6</th>\n",
              "      <td>9</td>\n",
              "      <td>1</td>\n",
              "    </tr>\n",
              "    <tr>\n",
              "      <th>8</th>\n",
              "      <td>12</td>\n",
              "      <td>1</td>\n",
              "    </tr>\n",
              "    <tr>\n",
              "      <th>11</th>\n",
              "      <td>4</td>\n",
              "      <td>1</td>\n",
              "    </tr>\n",
              "    <tr>\n",
              "      <th>13</th>\n",
              "      <td>1</td>\n",
              "      <td>1</td>\n",
              "    </tr>\n",
              "    <tr>\n",
              "      <th>...</th>\n",
              "      <td>...</td>\n",
              "      <td>...</td>\n",
              "    </tr>\n",
              "    <tr>\n",
              "      <th>1226</th>\n",
              "      <td>14</td>\n",
              "      <td>1</td>\n",
              "    </tr>\n",
              "    <tr>\n",
              "      <th>1227</th>\n",
              "      <td>55</td>\n",
              "      <td>1</td>\n",
              "    </tr>\n",
              "    <tr>\n",
              "      <th>1228</th>\n",
              "      <td>3</td>\n",
              "      <td>1</td>\n",
              "    </tr>\n",
              "    <tr>\n",
              "      <th>1229</th>\n",
              "      <td>5</td>\n",
              "      <td>1</td>\n",
              "    </tr>\n",
              "    <tr>\n",
              "      <th>1230</th>\n",
              "      <td>52</td>\n",
              "      <td>1</td>\n",
              "    </tr>\n",
              "  </tbody>\n",
              "</table>\n",
              "<p>693 rows × 2 columns</p>\n",
              "</div>"
            ],
            "text/plain": [
              "green_rating   0  1\n",
              "cluster            \n",
              "1              5  1\n",
              "6              9  1\n",
              "8             12  1\n",
              "11             4  1\n",
              "13             1  1\n",
              "...           .. ..\n",
              "1226          14  1\n",
              "1227          55  1\n",
              "1228           3  1\n",
              "1229           5  1\n",
              "1230          52  1\n",
              "\n",
              "[693 rows x 2 columns]"
            ]
          },
          "execution_count": 18,
          "metadata": {},
          "output_type": "execute_result"
        }
      ],
      "source": [
        "pd.crosstab(df['cluster'], df['green_rating'])"
      ]
    },
    {
      "cell_type": "markdown",
      "metadata": {
        "id": "K50vsU2ooJ5B"
      },
      "source": [
        "### Practice Problem"
      ]
    },
    {
      "cell_type": "markdown",
      "metadata": {
        "id": "qvmHPXBjoJ5B"
      },
      "source": [
        "#### Are green buildings more likely to be renovated or not? What about buildings that aren't green certified?\n",
        "\n",
        "Hint: use `green_rating` and `renovated` columns."
      ]
    },
    {
      "cell_type": "code",
      "execution_count": null,
      "metadata": {
        "id": "zN7bIso9oJ5B"
      },
      "outputs": [],
      "source": [
        "# Answer here:\n"
      ]
    },
    {
      "cell_type": "markdown",
      "metadata": {
        "id": "2LI5v8wSoJ5C"
      },
      "source": [
        "### Practice Problem"
      ]
    },
    {
      "cell_type": "markdown",
      "metadata": {
        "id": "pVpbcyKKoJ5M"
      },
      "source": [
        "#### Describe the relationship between age of the building and rent charged to tenants.\n",
        "\n",
        "Hint: use `age` and `Rent` columns"
      ]
    },
    {
      "cell_type": "code",
      "execution_count": null,
      "metadata": {
        "id": "IooDnGtloJ5M"
      },
      "outputs": [],
      "source": [
        "# Answer here:\n"
      ]
    },
    {
      "cell_type": "markdown",
      "metadata": {
        "id": "SVObFa7ooJ5N"
      },
      "source": [
        "## Feature Engineering"
      ]
    },
    {
      "cell_type": "markdown",
      "metadata": {
        "id": "icBOjYMkoJ5N"
      },
      "source": [
        "Feature engineering is all about creating new features from your existing data to help your model learn better. It’s like giving your model extra hints or clues to understand the patterns in the data. For example, you might create ratios, interactions, or transform variables to highlight relationships that aren’t obvious at first glance. It’s important because well-engineered features can significantly boost the accuracy and performance of your models. Without good features, even the most powerful algorithms might struggle to make sense of your data. So, it’s kind of like adding some brainpower to your data!"
      ]
    },
    {
      "cell_type": "markdown",
      "metadata": {
        "id": "aCuVyF0joJ5N"
      },
      "source": [
        "First, let's create a new column using two existing columns:"
      ]
    },
    {
      "cell_type": "code",
      "execution_count": null,
      "metadata": {
        "id": "EqOOyQPVoJ5O",
        "outputId": "4ce2c2d3-d31c-4e5d-aaeb-2b2a9db67149"
      },
      "outputs": [
        {
          "data": {
            "text/html": [
              "<div>\n",
              "<style scoped>\n",
              "    .dataframe tbody tr th:only-of-type {\n",
              "        vertical-align: middle;\n",
              "    }\n",
              "\n",
              "    .dataframe tbody tr th {\n",
              "        vertical-align: top;\n",
              "    }\n",
              "\n",
              "    .dataframe thead th {\n",
              "        text-align: right;\n",
              "    }\n",
              "</style>\n",
              "<table border=\"1\" class=\"dataframe\">\n",
              "  <thead>\n",
              "    <tr style=\"text-align: right;\">\n",
              "      <th></th>\n",
              "      <th>size</th>\n",
              "      <th>stories</th>\n",
              "      <th>size per story</th>\n",
              "    </tr>\n",
              "  </thead>\n",
              "  <tbody>\n",
              "    <tr>\n",
              "      <th>0</th>\n",
              "      <td>260300</td>\n",
              "      <td>14</td>\n",
              "      <td>18592.857143</td>\n",
              "    </tr>\n",
              "    <tr>\n",
              "      <th>1</th>\n",
              "      <td>67861</td>\n",
              "      <td>5</td>\n",
              "      <td>13572.200000</td>\n",
              "    </tr>\n",
              "    <tr>\n",
              "      <th>2</th>\n",
              "      <td>164848</td>\n",
              "      <td>13</td>\n",
              "      <td>12680.615385</td>\n",
              "    </tr>\n",
              "    <tr>\n",
              "      <th>3</th>\n",
              "      <td>93372</td>\n",
              "      <td>13</td>\n",
              "      <td>7182.461538</td>\n",
              "    </tr>\n",
              "    <tr>\n",
              "      <th>4</th>\n",
              "      <td>174307</td>\n",
              "      <td>16</td>\n",
              "      <td>10894.187500</td>\n",
              "    </tr>\n",
              "    <tr>\n",
              "      <th>...</th>\n",
              "      <td>...</td>\n",
              "      <td>...</td>\n",
              "      <td>...</td>\n",
              "    </tr>\n",
              "    <tr>\n",
              "      <th>7889</th>\n",
              "      <td>1300000</td>\n",
              "      <td>41</td>\n",
              "      <td>31707.317073</td>\n",
              "    </tr>\n",
              "    <tr>\n",
              "      <th>7890</th>\n",
              "      <td>16140</td>\n",
              "      <td>8</td>\n",
              "      <td>2017.500000</td>\n",
              "    </tr>\n",
              "    <tr>\n",
              "      <th>7891</th>\n",
              "      <td>15726</td>\n",
              "      <td>6</td>\n",
              "      <td>2621.000000</td>\n",
              "    </tr>\n",
              "    <tr>\n",
              "      <th>7892</th>\n",
              "      <td>51300</td>\n",
              "      <td>12</td>\n",
              "      <td>4275.000000</td>\n",
              "    </tr>\n",
              "    <tr>\n",
              "      <th>7893</th>\n",
              "      <td>1876972</td>\n",
              "      <td>45</td>\n",
              "      <td>41710.488889</td>\n",
              "    </tr>\n",
              "  </tbody>\n",
              "</table>\n",
              "<p>7894 rows × 3 columns</p>\n",
              "</div>"
            ],
            "text/plain": [
              "         size  stories  size per story\n",
              "0      260300       14    18592.857143\n",
              "1       67861        5    13572.200000\n",
              "2      164848       13    12680.615385\n",
              "3       93372       13     7182.461538\n",
              "4      174307       16    10894.187500\n",
              "...       ...      ...             ...\n",
              "7889  1300000       41    31707.317073\n",
              "7890    16140        8     2017.500000\n",
              "7891    15726        6     2621.000000\n",
              "7892    51300       12     4275.000000\n",
              "7893  1876972       45    41710.488889\n",
              "\n",
              "[7894 rows x 3 columns]"
            ]
          },
          "execution_count": 21,
          "metadata": {},
          "output_type": "execute_result"
        }
      ],
      "source": [
        "df['size per story'] = df['size'] / df['stories']\n",
        "\n",
        "# now take a look at what happened:\n",
        "df[['size', 'stories', 'size per story']]"
      ]
    },
    {
      "cell_type": "markdown",
      "metadata": {
        "id": "_5C9YkKJoJ5P"
      },
      "source": [
        "We might also want to transform single variables. For example, let's take a look at the distribution of `Rent` prices (per sqft per month):"
      ]
    },
    {
      "cell_type": "code",
      "execution_count": null,
      "metadata": {
        "id": "gK6qCsCLoJ5P",
        "outputId": "714e927c-2016-4410-a7b2-d247b7c9d775"
      },
      "outputs": [
        {
          "data": {
            "text/plain": [
              "<Axes: title={'center': 'Distribution of Rent Prices'}, xlabel='Rent', ylabel='Count'>"
            ]
          },
          "execution_count": 22,
          "metadata": {},
          "output_type": "execute_result"
        },
        {
          "data": {
            "image/png": "[encoded data removed]",
            "text/plain": [
              "<Figure size 800x400 with 1 Axes>"
            ]
          },
          "metadata": {},
          "output_type": "display_data"
        }
      ],
      "source": [
        "plt.rcParams.update({'figure.figsize': (8, 4)})\n",
        "df['Rent'].plot(kind='hist', xlabel='Rent', ylabel='Count', title='Distribution of Rent Prices', bins = 20)"
      ]
    },
    {
      "cell_type": "markdown",
      "metadata": {
        "id": "oUr_N0MHoJ5Q"
      },
      "source": [
        "This is a very skewed ditribution! This a problem that is very common among price data, especially real estate prices. Machine learning models have an extremely difficult time predicting the extreme values in the data. Additionally, the outliers may skew the model's ability to predict rent prices in the lower end of the spectrum. One common solution to this problem is to perform a log transformation. That can be performed using the `numpy` package."
      ]
    },
    {
      "cell_type": "code",
      "execution_count": null,
      "metadata": {
        "id": "7n9qhTsxoJ5Q"
      },
      "outputs": [],
      "source": [
        "import numpy as np\n",
        "df['Log Rent'] = np.log(df['Rent'])"
      ]
    },
    {
      "cell_type": "markdown",
      "metadata": {
        "id": "woFlWhfSoJ5R"
      },
      "source": [
        "Let's look at the new distribution of rent prices on a logarithmic scale:"
      ]
    },
    {
      "cell_type": "code",
      "execution_count": null,
      "metadata": {
        "id": "Lk5zQvqjoJ5R",
        "outputId": "773170bb-7e6c-4be5-c28c-bb6e9bcf057d"
      },
      "outputs": [
        {
          "data": {
            "text/plain": [
              "<Axes: title={'center': 'Distribution of Log Rent Prices'}, xlabel='Log Rent', ylabel='Count'>"
            ]
          },
          "execution_count": 24,
          "metadata": {},
          "output_type": "execute_result"
        },
        {
          "data": {
            "image/png": "[encoded data removed]",
            "text/plain": [
              "<Figure size 800x400 with 1 Axes>"
            ]
          },
          "metadata": {},
          "output_type": "display_data"
        }
      ],
      "source": [
        "df['Log Rent'].plot(kind='hist', xlabel='Log Rent', ylabel='Count', title='Distribution of Log Rent Prices', bins = 20)"
      ]
    },
    {
      "cell_type": "markdown",
      "metadata": {
        "id": "rfoYDomboJ5R"
      },
      "source": [
        "Much better now! The data is more centralized and there is a much lower range of values to work with. If we're predicting `Rent` prices, we can now predict them in the log space, then exponentiate them back into their original form to get our final predicted rent price."
      ]
    },
    {
      "cell_type": "markdown",
      "metadata": {
        "id": "kdn7kaMooJ5S"
      },
      "source": [
        "### Practice Problem"
      ]
    },
    {
      "cell_type": "markdown",
      "metadata": {
        "id": "poL0R3QioJ5T"
      },
      "source": [
        "#### Using one or more existing columns in the data, create a new, interesting column!"
      ]
    },
    {
      "cell_type": "code",
      "execution_count": null,
      "metadata": {
        "id": "mz48ZzjfoJ5T"
      },
      "outputs": [],
      "source": [
        "# Answer here:\n"
      ]
    }
  ],
  "metadata": {
    "colab": {
      "provenance": [],
      "include_colab_link": true
    },
    "kernelspec": {
      "display_name": "Python 3",
      "language": "python",
      "name": "python3"
    },
    "language_info": {
      "codemirror_mode": {
        "name": "ipython",
        "version": 3
      },
      "file_extension": ".py",
      "mimetype": "text/x-python",
      "name": "python",
      "nbconvert_exporter": "python",
      "pygments_lexer": "ipython3",
      "version": "3.11.9"
    }
  },
  "nbformat": 4,
  "nbformat_minor": 0
}