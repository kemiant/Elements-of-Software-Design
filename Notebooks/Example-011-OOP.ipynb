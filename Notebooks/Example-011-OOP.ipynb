{
 "cells": [
  {
   "cell_type": "markdown",
   "metadata": {},
   "source": [
    "# Object-Oriented Programming in Python. "
   ]
  },
  {
   "cell_type": "markdown",
   "metadata": {},
   "source": [
    "* OOP is a programming technique organized based on using objects to design and develop  applications.\n",
    "\n",
    "* OOP combines data and computation for processing the data into  encapsulated objects. \n",
    "\n",
    "* In Object Oriented Programming we are trying to model either real world entities or processes and represent them in software. \n",
    "\n",
    "\n",
    "https://docs.python.org/3/tutorial/classes.html"
   ]
  },
  {
   "cell_type": "code",
   "execution_count": 1,
   "metadata": {},
   "outputs": [],
   "source": [
    "class Car:\n",
    "    '''This class defines a basic car'''\n",
    "    def __init__(self, cspeed, ngears):\n",
    "        self.speed = cspeed\n",
    "        self.gears = ngears \n",
    "    \n",
    "    def run(self, speed):\n",
    "        '''This method runs the car with the given speed.'''\n",
    "        self.speed = speed\n",
    "        print(\"Running with speed \", self.speed)\n",
    "        \n",
    "    def full_brake(self):\n",
    "        '''If the full brake is applied, this car will stop.'''\n",
    "        while(self.speed > 0):\n",
    "            self.speed -=1    \n",
    "            print(\"Stoping this car\", self.speed)\n",
    "\n",
    "\n"
   ]
  },
  {
   "cell_type": "code",
   "execution_count": 2,
   "metadata": {},
   "outputs": [
    {
     "name": "stdout",
     "output_type": "stream",
     "text": [
      "Running with speed  10\n",
      "Stoping this car 9\n",
      "Stoping this car 8\n",
      "Stoping this car 7\n",
      "Stoping this car 6\n",
      "Stoping this car 5\n",
      "Stoping this car 4\n",
      "Stoping this car 3\n",
      "Stoping this car 2\n",
      "Stoping this car 1\n",
      "Stoping this car 0\n"
     ]
    }
   ],
   "source": [
    "m_car = Car(0, 4)\n",
    "m_car.run(10)\n",
    "m_car.full_brake()"
   ]
  },
  {
   "cell_type": "markdown",
   "metadata": {},
   "source": [
    "# Inheritance "
   ]
  },
  {
   "cell_type": "code",
   "execution_count": 3,
   "metadata": {},
   "outputs": [],
   "source": [
    "      \n",
    "class Truck(Car):\n",
    "    pass\n",
    "\n",
    "    def full_brake(self):\n",
    "        '''A truck brakes slowly'''\n",
    "        while(self.speed > 0):\n",
    "            self.speed -=0.1    \n",
    "            print(\"Stoping this truck\", self.speed)\n",
    "    \n",
    "    def __repr__(self):\n",
    "        return \"Truck \"\n",
    " \n",
    "\n",
    "class Sedan_Car(Car):\n",
    "    pass\n",
    "\n",
    "    def full_brake(self):\n",
    "        '''A sedan car can brake fast.'''\n",
    "        while(self.speed > 0):\n",
    "            self.speed -=2    \n",
    "            print(\"Stoping this sedan\", self.speed)\n",
    "    \n",
    "    def __repr__(self):\n",
    "        return \"Sedan_Car\""
   ]
  },
  {
   "cell_type": "code",
   "execution_count": 4,
   "metadata": {},
   "outputs": [
    {
     "name": "stdout",
     "output_type": "stream",
     "text": [
      "Running with speed  10\n",
      "Stoping this sedan 8\n",
      "Stoping this sedan 6\n",
      "Stoping this sedan 4\n",
      "Stoping this sedan 2\n",
      "Stoping this sedan 0\n",
      "\n",
      "#######################\n",
      "#######################\n",
      "#######################\n",
      "\n",
      "Running with speed  1\n",
      "Stoping this truck 0.9\n",
      "Stoping this truck 0.8\n",
      "Stoping this truck 0.7000000000000001\n",
      "Stoping this truck 0.6000000000000001\n",
      "Stoping this truck 0.5000000000000001\n",
      "Stoping this truck 0.40000000000000013\n",
      "Stoping this truck 0.30000000000000016\n",
      "Stoping this truck 0.20000000000000015\n",
      "Stoping this truck 0.10000000000000014\n",
      "Stoping this truck 1.3877787807814457e-16\n",
      "Stoping this truck -0.09999999999999987\n"
     ]
    }
   ],
   "source": [
    "####################\n",
    "\n",
    "# Here we create a sedan car. \n",
    "m_car = Sedan_Car(0, 4)\n",
    "m_car.run(10)\n",
    "m_car.full_brake()\n",
    "\n",
    "print(\"\\n#######################\")\n",
    "print(\"#######################\")\n",
    "print(\"#######################\\n\")\n",
    "\n",
    "# Here we create a truck. \n",
    "m_truck = Truck(0, 3)\n",
    "m_truck.run(1)\n",
    "m_truck.full_brake()"
   ]
  },
  {
   "cell_type": "markdown",
   "metadata": {},
   "source": [
    "# Class Attributes "
   ]
  },
  {
   "cell_type": "code",
   "execution_count": 5,
   "metadata": {},
   "outputs": [],
   "source": [
    "class Toyota_Car:\n",
    "    # Class of all cars made by toyota\n",
    "    manufacturer_id = 1223234\n",
    "\n",
    "    def __init__(self, cspeed, ngears):\n",
    "        self.gears = ngears\n",
    "        self.speed = cspeed\n",
    "    \n",
    "    def run(self, speed):\n",
    "        self.speed = speed\n",
    "        print(\"Running with speed \", self.speed)\n",
    "        \n",
    "    def full_brake(self):\n",
    "        '''If the full brake is applied, this car will stop.'''\n",
    "        while(self.speed > 0):\n",
    "            self.speed -=1    \n",
    "            print(\"Stoping this car\", self.speed)"
   ]
  },
  {
   "cell_type": "code",
   "execution_count": 6,
   "metadata": {},
   "outputs": [
    {
     "name": "stdout",
     "output_type": "stream",
     "text": [
      "1223234\n"
     ]
    }
   ],
   "source": [
    "# We can access the class attributes without an object of it. \n",
    "print(Toyota_Car.manufacturer_id)"
   ]
  },
  {
   "cell_type": "markdown",
   "metadata": {},
   "source": [
    "# Polymorphism"
   ]
  },
  {
   "cell_type": "code",
   "execution_count": 7,
   "metadata": {},
   "outputs": [
    {
     "name": "stdout",
     "output_type": "stream",
     "text": [
      "####\n",
      "Car shop is reparing a sedan car. Cars in shop are: \n",
      "Sedan_Car\n",
      "####\n",
      "Car shop is reparing a sedan car. Cars in shop are: \n",
      "Sedan_Car\n",
      "Truck \n"
     ]
    }
   ],
   "source": [
    "class Car_Shop():\n",
    "    \n",
    "    def __init__(self, num_employees):\n",
    "        self.num_employees = num_employees\n",
    "        self.cars_in_shop = []\n",
    "    \n",
    "    def repair_car(self, car):\n",
    "        self.cars_in_shop.append(car)\n",
    "        print(\"####\")\n",
    "        print(\"Car shop is reparing a sedan car. Cars in shop are: \")\n",
    "        \n",
    "        for car in self.cars_in_shop:\n",
    "            print(car)\n",
    "        \n",
    "m_toyota = Sedan_Car(0, 4); \n",
    "m_truck = Truck(0, 4); \n",
    "\n",
    "m_car_shop = Car_Shop(4); \n",
    "\n",
    "# Now we bring our cars to the shop. \n",
    "# All Types of Car can be repaired in this shop. \n",
    "m_car_shop.repair_car(m_toyota)\n",
    "m_car_shop.repair_car(m_truck) "
   ]
  },
  {
   "cell_type": "markdown",
   "metadata": {},
   "source": [
    "# Encapsulation\n"
   ]
  },
  {
   "cell_type": "markdown",
   "metadata": {},
   "source": [
    "Physical localization of features into a single blackbox abstraction that hides their implementation behind a public interface. \"Information hiding\" is a corollary concept that indicates data fields are hidden from the user but the functionalities as implemented through functions are exposed.\n",
    "\n",
    "* Goal is to bind the data with the computation that manipulates it.\n",
    "\n",
    "* Restrict the access to Object’s data  from external interference. \n",
    "\n",
    "* We can control and check the input values\n",
    "\n",
    "https://docs.python.org/3/tutorial/classes.html\n"
   ]
  },
  {
   "cell_type": "code",
   "execution_count": 8,
   "metadata": {},
   "outputs": [
    {
     "name": "stdout",
     "output_type": "stream",
     "text": [
      "Set year value...\n",
      "['_Car__year', '__class__', '__delattr__', '__dict__', '__dir__', '__doc__', '__eq__', '__format__', '__ge__', '__getattribute__', '__getstate__', '__gt__', '__hash__', '__init__', '__init_subclass__', '__le__', '__lt__', '__module__', '__ne__', '__new__', '__reduce__', '__reduce_ex__', '__repr__', '__setattr__', '__sizeof__', '__str__', '__subclasshook__', '__weakref__', 'year']\n",
      "Gett year value...\n",
      "2021\n",
      "Set year value...\n",
      "Gett year value...\n",
      "2019\n",
      "#############\n",
      "Set year value...\n"
     ]
    },
    {
     "ename": "ValueError",
     "evalue": "Year must be between 1885 and 2022",
     "output_type": "error",
     "traceback": [
      "\u001b[0;31m---------------------------------------------------------------------------\u001b[0m",
      "\u001b[0;31mValueError\u001b[0m                                Traceback (most recent call last)",
      "Cell \u001b[0;32mIn[8], line 44\u001b[0m\n\u001b[1;32m     41\u001b[0m \u001b[38;5;28mprint\u001b[39m(\u001b[38;5;124m\"\u001b[39m\u001b[38;5;124m#############\u001b[39m\u001b[38;5;124m\"\u001b[39m)\n\u001b[1;32m     43\u001b[0m \u001b[38;5;66;03m# try to set the build year to 1050\u001b[39;00m\n\u001b[0;32m---> 44\u001b[0m m_car2 \u001b[38;5;241m=\u001b[39m Car(\u001b[38;5;241m1050\u001b[39m)\n",
      "Cell \u001b[0;32mIn[8], line 3\u001b[0m, in \u001b[0;36mCar.__init__\u001b[0;34m(self, year)\u001b[0m\n\u001b[1;32m      2\u001b[0m \u001b[38;5;28;01mdef\u001b[39;00m \u001b[38;5;21m__init__\u001b[39m(\u001b[38;5;28mself\u001b[39m, year\u001b[38;5;241m=\u001b[39m\u001b[38;5;241m1885\u001b[39m):\n\u001b[0;32m----> 3\u001b[0m     \u001b[38;5;28mself\u001b[39m\u001b[38;5;241m.\u001b[39myear \u001b[38;5;241m=\u001b[39m year\n",
      "Cell \u001b[0;32mIn[8], line 23\u001b[0m, in \u001b[0;36mCar.year\u001b[0;34m(self, year)\u001b[0m\n\u001b[1;32m     21\u001b[0m     \u001b[38;5;28mself\u001b[39m\u001b[38;5;241m.\u001b[39m__year \u001b[38;5;241m=\u001b[39m year\n\u001b[1;32m     22\u001b[0m \u001b[38;5;28;01melse\u001b[39;00m:\n\u001b[0;32m---> 23\u001b[0m     \u001b[38;5;28;01mraise\u001b[39;00m \u001b[38;5;167;01mValueError\u001b[39;00m(\u001b[38;5;124m\"\u001b[39m\u001b[38;5;124mYear must be between 1885 and 2022\u001b[39m\u001b[38;5;124m\"\u001b[39m)\n\u001b[1;32m     24\u001b[0m     \u001b[38;5;66;03m# self.__year =  0\u001b[39;00m\n\u001b[1;32m     25\u001b[0m     \u001b[38;5;28mprint\u001b[39m(\u001b[38;5;124m\"\u001b[39m\u001b[38;5;124mYear must be between 1885 and 2022\u001b[39m\u001b[38;5;124m\"\u001b[39m)\n",
      "\u001b[0;31mValueError\u001b[0m: Year must be between 1885 and 2022"
     ]
    }
   ],
   "source": [
    "class Car():\n",
    "    def __init__(self, year=1885):\n",
    "        self.year = year  \n",
    "        # “Private” instance variables that cannot be accessed except from inside an object don’t exist in Python.\n",
    "        \n",
    "#     def set_year(self, year):\n",
    "#         if(year > 1885 and year < 2021):\n",
    "#             self.__year = year\n",
    "#         else:\n",
    "#             print(\"Year must be between 1885 and 2021\")\n",
    "#             self.__year = 0\n",
    "    @property\n",
    "    def year(self):\n",
    "        print(\"Gett year value...\")\n",
    "        return self.__year\n",
    "    \n",
    "    @year.setter\n",
    "    def year(self, year):        \n",
    "        print(\"Set year value...\")        \n",
    "        if(year > 1885 and year < 2022):\n",
    "            self.__year = year\n",
    "        else:\n",
    "            raise ValueError(\"Year must be between 1885 and 2022\")\n",
    "            # self.__year =  0\n",
    "            print(\"Year must be between 1885 and 2022\")\n",
    "    \n",
    "    \n",
    "\n",
    "    \n",
    "m_car1 = Car(2021)\n",
    "print(dir(m_car1))\n",
    "\n",
    "print(m_car1.year)\n",
    "m_car1.year=2019\n",
    "print(m_car1.year)\n",
    "\n",
    "# 'Car' object has no attribute '__year'\n",
    "# print(m_car1.__year)\n",
    "\n",
    "\n",
    "print(\"#############\")\n",
    "\n",
    "# try to set the build year to 1050\n",
    "m_car2 = Car(1050)\n",
    "# print(m_car2.year)\n",
    "\n",
    "\n",
    "# print(dir(m_car2))"
   ]
  },
  {
   "cell_type": "markdown",
   "metadata": {},
   "source": [
    "# Abstraction\n",
    "\n",
    "The most important or essential aspects of something while ignoring the less important details. Abstraction is dependent on perspective - what is important in one context may not be in another. We model our problem domain using abstractions.\n",
    "\n",
    "In the following example, we have a car shop that repairs cars. How the car shop repairs the cars can be very complex and is hidden from the car owners. "
   ]
  },
  {
   "cell_type": "code",
   "execution_count": 9,
   "metadata": {},
   "outputs": [
    {
     "name": "stdout",
     "output_type": "stream",
     "text": [
      "######################\n",
      "Car shop is reparing a sedan car. Cars in shop are: \n",
      "Sedan_Car\n",
      "It is a simple sedan car\n",
      "######################\n",
      "Car shop is reparing a sedan car. Cars in shop are: \n",
      "Sedan_Car\n",
      "Truck \n",
      "It is a truck that we repair.\n"
     ]
    }
   ],
   "source": [
    "class Car_Shop():\n",
    "    \n",
    "    def __init__(self, num_employees):\n",
    "        self.num_employees = num_employees\n",
    "        self.cars_in_shop = []\n",
    "    \n",
    "    def repair_car(self, car):\n",
    "        self.cars_in_shop.append(car)\n",
    "        print(\"######################\")\n",
    "        print(\"Car shop is reparing a sedan car. Cars in shop are: \")\n",
    "        \n",
    "        for car in self.cars_in_shop:\n",
    "            print(car)\n",
    "        # We use one of the build in functions isinstance(object , Type)\n",
    "        # https://docs.python.org/3/library/functions.html#isinstance\n",
    "        \n",
    "        if(isinstance(car, Sedan_Car)):\n",
    "            print(\"It is a simple sedan car\")\n",
    "        elif(isinstance(car, Truck)):\n",
    "            print(\"It is a truck that we repair.\")\n",
    "        else:\n",
    "            print(\"Some other cars\")\n",
    "        \n",
    "m_toyota = Sedan_Car(0, 4); \n",
    "m_truck = Truck(0, 4); \n",
    "\n",
    "m_car_shop = Car_Shop(4); \n",
    "\n",
    "# Now we bring our cars to the shop. \n",
    "m_car_shop.repair_car(m_toyota)\n",
    "m_car_shop.repair_car(m_truck) "
   ]
  }
 ],
 "metadata": {
  "kernelspec": {
   "display_name": "Python 3 (ipykernel)",
   "language": "python",
   "name": "python3"
  },
  "language_info": {
   "codemirror_mode": {
    "name": "ipython",
    "version": 3
   },
   "file_extension": ".py",
   "mimetype": "text/x-python",
   "name": "python",
   "nbconvert_exporter": "python",
   "pygments_lexer": "ipython3",
   "version": "3.11.7"
  }
 },
 "nbformat": 4,
 "nbformat_minor": 4
}
